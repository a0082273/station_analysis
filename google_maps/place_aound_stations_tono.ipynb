{
 "cells": [
  {
   "cell_type": "code",
   "execution_count": null,
   "metadata": {},
   "outputs": [],
   "source": [
    "import numpy as np\n",
    "import pandas as pd\n",
    "import matplotlib.pyplot as plt"
   ]
  },
  {
   "cell_type": "code",
   "execution_count": null,
   "metadata": {
    "code_folding": [
     0
    ]
   },
   "outputs": [],
   "source": [
    "stations = [\n",
    "    'sakashita',\n",
    "    'ochiaigawa',\n",
    "    'nakatsugawa',\n",
    "    'minosakamoto',\n",
    "    'ena',\n",
    "    'takenami',\n",
    "    'kamado',\n",
    "    'mizunami',\n",
    "    'tokishi',\n",
    "    'tajimi'\n",
    "]"
   ]
  },
  {
   "cell_type": "code",
   "execution_count": null,
   "metadata": {
    "code_folding": [
     0
    ]
   },
   "outputs": [],
   "source": [
    "place_types = [\n",
    "    'art_gallery',\n",
    "    'bakery',\n",
    "    'bar',\n",
    "    'beauty_salon',\n",
    "    'book_store',\n",
    "    'bus_station',\n",
    "    'cafe',\n",
    "    'car_rental',\n",
    "    'city_hall',\n",
    "    'clothing_store',\n",
    "    'convenience_store',\n",
    "    'department_store',\n",
    "    'doctor',\n",
    "    'electronics_store',\n",
    "    'florist',\n",
    "    'gym',\n",
    "    'hair_care',\n",
    "    'home_goods_store',\n",
    "    'hospital',\n",
    "    'laundry',\n",
    "    'library',\n",
    "    'liquor_store',\n",
    "    'local_government_office',\n",
    "    'lodging', #ホテル\n",
    "    'meal_delivery',\n",
    "    'meal_takeaway',\n",
    "    'movie_theater',\n",
    "    'night_club',\n",
    "    'park',\n",
    "    'parking',\n",
    "    'restaurant',\n",
    "    'school',\n",
    "    'shopping_mall',\n",
    "    'spa',\n",
    "    'store',\n",
    "    'university'\n",
    "]"
   ]
  },
  {
   "cell_type": "code",
   "execution_count": null,
   "metadata": {
    "code_folding": []
   },
   "outputs": [],
   "source": [
    "station_panel = pd.Panel(items=stations, major_axis=range(61), minor_axis=place_types)\n",
    "for i, station in enumerate(stations):\n",
    "    station_df = pd.read_csv('input/'+station+'500.csv', index_col=0)\n",
    "    station_panel[station] = station_df.iloc[:, 0::1]"
   ]
  },
  {
   "cell_type": "code",
   "execution_count": null,
   "metadata": {},
   "outputs": [],
   "source": [
    "p_count = pd.DataFrame(index=place_types, columns=stations)\n",
    "for i, station in enumerate(stations):\n",
    "    place_count = station_panel[station].shape[0] - station_panel[station].isnull().sum()\n",
    "    p_count.iloc[:, i] = place_count"
   ]
  },
  {
   "cell_type": "code",
   "execution_count": null,
   "metadata": {},
   "outputs": [],
   "source": [
    "p_count = p_count.drop(['art_gallery', 'department_store', 'department_store', 'library', 'meal_delivery', 'movie_theater', 'spa', 'store', 'university'], axis=0)"
   ]
  },
  {
   "cell_type": "code",
   "execution_count": null,
   "metadata": {},
   "outputs": [],
   "source": [
    "station_panel = pd.Panel(items=stations, major_axis=range(61), minor_axis=place_types)\n",
    "for i, station in enumerate(stations):\n",
    "    station_df = pd.read_csv('input/'+station+'500.csv', index_col=0)\n",
    "    station_df = station_df.iloc[:, 1::2]\n",
    "    station_df.columns = place_types\n",
    "    station_panel[station] = station_df"
   ]
  },
  {
   "cell_type": "code",
   "execution_count": null,
   "metadata": {},
   "outputs": [],
   "source": [
    "r_count = pd.DataFrame(index=place_types, columns=stations)\n",
    "for i, station in enumerate(stations):\n",
    "    rating_count = station_panel[station].astype(float).describe().T.iloc[:, 0].values\n",
    "    r_count.iloc[:, i] = rating_count\n",
    "\n",
    "r_mean = pd.DataFrame(index=place_types, columns=stations)\n",
    "for i, station in enumerate(stations):\n",
    "    rating_mean = station_panel[station].astype(float).describe().T.iloc[:, 1].values\n",
    "    r_mean.iloc[:, i] = rating_mean\n",
    "\n",
    "r_std = pd.DataFrame(index=place_types, columns=stations)\n",
    "for i, station in enumerate(stations):\n",
    "    rating_std = station_panel[station].astype(float).describe().T.iloc[:, 2].values\n",
    "    r_std.iloc[:, i] = rating_std"
   ]
  },
  {
   "cell_type": "code",
   "execution_count": null,
   "metadata": {},
   "outputs": [],
   "source": [
    "r_count = r_count.drop(['art_gallery', 'department_store', 'department_store', 'library', 'meal_delivery', 'movie_theater', 'spa', 'store', 'university'], axis=0)\n",
    "r_mean = r_mean.drop(['art_gallery', 'department_store', 'department_store', 'library', 'meal_delivery', 'movie_theater', 'spa', 'store', 'university'], axis=0)\n",
    "r_std = r_std.drop(['art_gallery', 'department_store', 'department_store', 'library', 'meal_delivery', 'movie_theater', 'spa', 'store', 'university'], axis=0)"
   ]
  },
  {
   "cell_type": "code",
   "execution_count": null,
   "metadata": {},
   "outputs": [],
   "source": [
    "r_rate = r_count/p_count"
   ]
  },
  {
   "cell_type": "markdown",
   "metadata": {},
   "source": [
    "# 名古屋から遠い順"
   ]
  },
  {
   "cell_type": "code",
   "execution_count": null,
   "metadata": {},
   "outputs": [],
   "source": [
    "plt.figure(figsize=(20,12))\n",
    "plt.title('場所の数（名古屋から遠い順）')\n",
    "sns.heatmap(p_count, annot=True, cmap='Blues')\n",
    "plt.savefig('output/tono/place_count_tono.png')"
   ]
  },
  {
   "cell_type": "code",
   "execution_count": null,
   "metadata": {},
   "outputs": [],
   "source": [
    "plt.figure(figsize=(20,12))\n",
    "plt.title('評価の数/場所の数（名古屋から遠い順）')\n",
    "sns.heatmap(r_rate, annot=True, cmap='Blues')\n",
    "plt.savefig('output/tono/rating_rate_tono.png')"
   ]
  },
  {
   "cell_type": "code",
   "execution_count": null,
   "metadata": {},
   "outputs": [],
   "source": [
    "plt.figure(figsize=(20,12))\n",
    "plt.title('評価の数（名古屋から遠い順）')\n",
    "sns.heatmap(r_count, annot=True, cmap='Blues')\n",
    "plt.savefig('output/tono/rating_count_tono.png')"
   ]
  },
  {
   "cell_type": "code",
   "execution_count": null,
   "metadata": {},
   "outputs": [],
   "source": [
    "plt.figure(figsize=(20,12))\n",
    "plt.title('評価の平均（名古屋から遠い順）')\n",
    "sns.heatmap(r_mean, annot=True, cmap='Blues')\n",
    "plt.savefig('output/tono/rating_mean_tono.png')"
   ]
  },
  {
   "cell_type": "code",
   "execution_count": null,
   "metadata": {},
   "outputs": [],
   "source": [
    "plt.figure(figsize=(20,12))\n",
    "plt.title('評価の分散（名古屋から遠い順）')\n",
    "sns.heatmap(r_std, annot=True, cmap='Blues')\n",
    "plt.savefig('output/tono/rating_std_tono.png')"
   ]
  },
  {
   "cell_type": "markdown",
   "metadata": {},
   "source": [
    "# 乗降客の少ない順"
   ]
  },
  {
   "cell_type": "code",
   "execution_count": null,
   "metadata": {},
   "outputs": [],
   "source": [
    "info = pd.read_csv('../shutten_senryaku_johokyoku/input/station_edited_data500m_all.csv', index_col=0)"
   ]
  },
  {
   "cell_type": "code",
   "execution_count": null,
   "metadata": {},
   "outputs": [],
   "source": [
    "info = info[stations]"
   ]
  },
  {
   "cell_type": "code",
   "execution_count": null,
   "metadata": {},
   "outputs": [],
   "source": [
    "p_count = pd.concat([p_count, info], axis=0)\n",
    "r_rate = pd.concat([r_rate, info], axis=0)\n",
    "r_count = pd.concat([r_count, info], axis=0)\n",
    "r_mean = pd.concat([r_mean, info], axis=0)\n",
    "r_std = pd.concat([r_std, info], axis=0)"
   ]
  },
  {
   "cell_type": "code",
   "execution_count": null,
   "metadata": {},
   "outputs": [],
   "source": [
    "p_count = p_count.sort_values(by='乗降客数（日）', axis=1)\n",
    "r_rate = r_rate.sort_values(by='乗降客数（日）', axis=1)\n",
    "r_count = r_count.sort_values(by='乗降客数（日）', axis=1)\n",
    "r_mean = r_mean.sort_values(by='乗降客数（日）', axis=1)\n",
    "r_std = r_std.sort_values(by='乗降客数（日）', axis=1)"
   ]
  },
  {
   "cell_type": "code",
   "execution_count": null,
   "metadata": {},
   "outputs": [],
   "source": [
    "plt.figure(figsize=(20,12))\n",
    "plt.title('場所の数（乗降客数順）')\n",
    "sns.heatmap(p_count[0:len(place_types)-9], annot=True, cmap='Blues')\n",
    "plt.savefig('output/tono/place_count_jokokyaku_tono.png')"
   ]
  },
  {
   "cell_type": "code",
   "execution_count": null,
   "metadata": {},
   "outputs": [],
   "source": [
    "plt.figure(figsize=(20,12))\n",
    "plt.title('評価の数/場所の数（乗降客数順）')\n",
    "sns.heatmap(r_rate[0:len(place_types)-9], annot=True, cmap='Blues')\n",
    "plt.savefig('output/tono/rating_rate_jokokyaku_tono.png')"
   ]
  },
  {
   "cell_type": "code",
   "execution_count": null,
   "metadata": {},
   "outputs": [],
   "source": [
    "plt.figure(figsize=(20,12))\n",
    "plt.title('評価の数（乗降客数順）')\n",
    "sns.heatmap(r_count[0:len(place_types)-9], annot=True, cmap='Blues')\n",
    "plt.savefig('output/tono/rating_count_jokokyaku_tono.png')"
   ]
  },
  {
   "cell_type": "code",
   "execution_count": null,
   "metadata": {},
   "outputs": [],
   "source": [
    "plt.figure(figsize=(20,12))\n",
    "plt.title('評価の平均（乗降客数順）')\n",
    "sns.heatmap(r_mean[0:len(place_types)-9], annot=True, cmap='Blues')\n",
    "plt.savefig('output/tono/rating_mean_jokokyaku_tono.png')"
   ]
  },
  {
   "cell_type": "code",
   "execution_count": null,
   "metadata": {},
   "outputs": [],
   "source": [
    "plt.figure(figsize=(20,12))\n",
    "plt.title('評価の分散（乗降客数順）')\n",
    "sns.heatmap(r_std[0:len(place_types)-9], annot=True, cmap='Blues')\n",
    "plt.savefig('output/tono/rating_std_jokokyaku_tono.png')"
   ]
  },
  {
   "cell_type": "markdown",
   "metadata": {},
   "source": [
    "# 人口総数の少ない順"
   ]
  },
  {
   "cell_type": "code",
   "execution_count": null,
   "metadata": {},
   "outputs": [],
   "source": [
    "p_count = p_count.sort_values(by='人口総数', axis=1)\n",
    "r_rate = r_rate.sort_values(by='人口総数', axis=1)\n",
    "r_count = r_count.sort_values(by='人口総数', axis=1)\n",
    "r_mean = r_mean.sort_values(by='人口総数', axis=1)\n",
    "r_std = r_std.sort_values(by='人口総数', axis=1)"
   ]
  },
  {
   "cell_type": "code",
   "execution_count": null,
   "metadata": {},
   "outputs": [],
   "source": [
    "plt.figure(figsize=(20,12))\n",
    "plt.title('場所の数（人口総数順）')\n",
    "sns.heatmap(p_count[0:len(place_types)-9], annot=True, cmap='Blues')\n",
    "plt.savefig('output/tono/place_count_jinkososu_tono.png')"
   ]
  },
  {
   "cell_type": "code",
   "execution_count": null,
   "metadata": {},
   "outputs": [],
   "source": [
    "plt.figure(figsize=(20,12))\n",
    "plt.title('評価の数/場所の数（人口総数順）')\n",
    "sns.heatmap(r_rate[0:len(place_types)-9], annot=True, cmap='Blues')\n",
    "plt.savefig('output/tono/rating_rate_jinkososu_tono.png')"
   ]
  },
  {
   "cell_type": "code",
   "execution_count": null,
   "metadata": {},
   "outputs": [],
   "source": [
    "plt.figure(figsize=(20,12))\n",
    "plt.title('評価の数（人口総数順）')\n",
    "sns.heatmap(r_count[0:len(place_types)-9], annot=True, cmap='Blues')\n",
    "plt.savefig('output/tono/rating_count_jinkososu_tono.png')"
   ]
  },
  {
   "cell_type": "code",
   "execution_count": null,
   "metadata": {},
   "outputs": [],
   "source": [
    "plt.figure(figsize=(20,12))\n",
    "plt.title('評価の平均（人口総数順）')\n",
    "sns.heatmap(r_mean[0:len(place_types)-9], annot=True, cmap='Blues')\n",
    "plt.savefig('output/tono/rating_mean_jinkososu_tono.png')"
   ]
  },
  {
   "cell_type": "code",
   "execution_count": null,
   "metadata": {},
   "outputs": [],
   "source": [
    "plt.figure(figsize=(20,12))\n",
    "plt.title('評価の分散（人口総数順）')\n",
    "sns.heatmap(r_std[0:len(place_types)-9], annot=True, cmap='Blues')\n",
    "plt.savefig('output/tono/rating_std_jinkososu_tono.png')"
   ]
  },
  {
   "cell_type": "markdown",
   "metadata": {},
   "source": [
    "# 人口総数の少ない順"
   ]
  },
  {
   "cell_type": "code",
   "execution_count": null,
   "metadata": {},
   "outputs": [],
   "source": [
    "p_count = p_count.sort_values(by='人口総数', axis=1)\n",
    "r_rate = r_rate.sort_values(by='人口総数', axis=1)\n",
    "r_count = r_count.sort_values(by='人口総数', axis=1)\n",
    "r_mean = r_mean.sort_values(by='人口総数', axis=1)\n",
    "r_std = r_std.sort_values(by='人口総数', axis=1)"
   ]
  },
  {
   "cell_type": "code",
   "execution_count": null,
   "metadata": {},
   "outputs": [],
   "source": [
    "plt.figure(figsize=(20,12))\n",
    "plt.title('場所の数（人口総数順）')\n",
    "sns.heatmap(p_count[0:len(place_types)-9], annot=True, cmap='Blues')\n",
    "plt.savefig('output/tono/place_count_jinkososu_tono.png')"
   ]
  },
  {
   "cell_type": "code",
   "execution_count": null,
   "metadata": {},
   "outputs": [],
   "source": [
    "plt.figure(figsize=(20,12))\n",
    "plt.title('評価の数/場所の数（人口総数順）')\n",
    "sns.heatmap(r_rate[0:len(place_types)-9], annot=True, cmap='Blues')\n",
    "plt.savefig('output/tono/rating_rate_jinkososu_tono.png')"
   ]
  },
  {
   "cell_type": "code",
   "execution_count": null,
   "metadata": {},
   "outputs": [],
   "source": [
    "plt.figure(figsize=(20,12))\n",
    "plt.title('評価の数（人口総数順）')\n",
    "sns.heatmap(r_count[0:len(place_types)-9], annot=True, cmap='Blues')\n",
    "plt.savefig('output/tono/rating_count_jinkososu_tono.png')"
   ]
  },
  {
   "cell_type": "code",
   "execution_count": null,
   "metadata": {},
   "outputs": [],
   "source": [
    "plt.figure(figsize=(20,12))\n",
    "plt.title('評価の平均（人口総数順）')\n",
    "sns.heatmap(r_mean[0:len(place_types)-9], annot=True, cmap='Blues')\n",
    "plt.savefig('output/tono/rating_mean_jinkososu_tono.png')"
   ]
  },
  {
   "cell_type": "code",
   "execution_count": null,
   "metadata": {},
   "outputs": [],
   "source": [
    "plt.figure(figsize=(20,12))\n",
    "plt.title('評価の分散（人口総数順）')\n",
    "sns.heatmap(r_std[0:len(place_types)-9], annot=True, cmap='Blues')\n",
    "plt.savefig('output/tono/rating_std_jinkososu_tono.png')"
   ]
  },
  {
   "cell_type": "markdown",
   "metadata": {},
   "source": [
    "# 昼間人口の少ない順"
   ]
  },
  {
   "cell_type": "code",
   "execution_count": null,
   "metadata": {},
   "outputs": [],
   "source": [
    "p_count = p_count.sort_values(by='昼間人口', axis=1)\n",
    "r_rate = r_rate.sort_values(by='昼間人口', axis=1)\n",
    "r_count = r_count.sort_values(by='昼間人口', axis=1)\n",
    "r_mean = r_mean.sort_values(by='昼間人口', axis=1)\n",
    "r_std = r_std.sort_values(by='昼間人口', axis=1)"
   ]
  },
  {
   "cell_type": "code",
   "execution_count": null,
   "metadata": {},
   "outputs": [],
   "source": [
    "plt.figure(figsize=(20,12))\n",
    "plt.title('場所の数（昼間人口順）')\n",
    "sns.heatmap(p_count[0:len(place_types)-9], annot=True, cmap='Blues')\n",
    "plt.savefig('output/tono/place_count_chukanjinko_tono.png')"
   ]
  },
  {
   "cell_type": "code",
   "execution_count": null,
   "metadata": {},
   "outputs": [],
   "source": [
    "plt.figure(figsize=(20,12))\n",
    "plt.title('評価の数/場所の数（昼間人口順）')\n",
    "sns.heatmap(r_rate[0:len(place_types)-9], annot=True, cmap='Blues')\n",
    "plt.savefig('output/tono/rating_rate_chukanjinko_tono.png')"
   ]
  },
  {
   "cell_type": "code",
   "execution_count": null,
   "metadata": {},
   "outputs": [],
   "source": [
    "plt.figure(figsize=(20,12))\n",
    "plt.title('評価の数（昼間人口順）')\n",
    "sns.heatmap(r_count[0:len(place_types)-9], annot=True, cmap='Blues')\n",
    "plt.savefig('output/tono/rating_count_chukanjinko_tono.png')"
   ]
  },
  {
   "cell_type": "code",
   "execution_count": null,
   "metadata": {},
   "outputs": [],
   "source": [
    "plt.figure(figsize=(20,12))\n",
    "plt.title('評価の平均（昼間人口順）')\n",
    "sns.heatmap(r_mean[0:len(place_types)-9], annot=True, cmap='Blues')\n",
    "plt.savefig('output/tono/rating_mean_chukanjinko_tono.png')"
   ]
  },
  {
   "cell_type": "code",
   "execution_count": null,
   "metadata": {},
   "outputs": [],
   "source": [
    "plt.figure(figsize=(20,12))\n",
    "plt.title('評価の分散（昼間人口順）')\n",
    "sns.heatmap(r_std[0:len(place_types)-9], annot=True, cmap='Blues')\n",
    "plt.savefig('output/tono/rating_std_chukanjinko_tono.png')"
   ]
  }
 ],
 "metadata": {
  "kernelspec": {
   "display_name": "Python 3",
   "language": "python",
   "name": "python3"
  },
  "language_info": {
   "codemirror_mode": {
    "name": "ipython",
    "version": 3
   },
   "file_extension": ".py",
   "mimetype": "text/x-python",
   "name": "python",
   "nbconvert_exporter": "python",
   "pygments_lexer": "ipython3",
   "version": "3.6.4"
  }
 },
 "nbformat": 4,
 "nbformat_minor": 2
}
