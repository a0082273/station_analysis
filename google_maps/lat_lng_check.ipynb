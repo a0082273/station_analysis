{
 "cells": [
  {
   "cell_type": "code",
   "execution_count": null,
   "metadata": {},
   "outputs": [],
   "source": [
    "gifu = pd.read_csv('input/gifu_station_geo.csv', index_col=0)"
   ]
  },
  {
   "cell_type": "code",
   "execution_count": null,
   "metadata": {},
   "outputs": [],
   "source": [
    "gifu"
   ]
  },
  {
   "cell_type": "code",
   "execution_count": null,
   "metadata": {},
   "outputs": [],
   "source": [
    "plt.scatter(gifu['lat'], gifu['lng'])"
   ]
  },
  {
   "cell_type": "code",
   "execution_count": null,
   "metadata": {},
   "outputs": [],
   "source": [
    "gifu.sort_values('lat').head()"
   ]
  },
  {
   "cell_type": "code",
   "execution_count": null,
   "metadata": {},
   "outputs": [],
   "source": [
    "gifu.sort_values('lng').tail()"
   ]
  },
  {
   "cell_type": "code",
   "execution_count": null,
   "metadata": {},
   "outputs": [],
   "source": [
    "gifu.loc[111, 'lat'] = 35.405139\n",
    "gifu.loc[111, 'lng'] = 136.766111\n",
    "\n",
    "gifu.loc[41, 'lat'] = 35.373667\n",
    "gifu.loc[41, 'lng'] = 136.583194\n",
    "\n",
    "gifu.loc[102, 'lat'] = 35.425866 #廃線になってる\n",
    "gifu.loc[102, 'lng'] = 137.07291\n",
    "\n",
    "gifu.loc[85, 'lat'] = 35.518928 #廃線になってる\n",
    "gifu.loc[85, 'lng'] = 136.639834\n",
    "\n",
    "gifu.loc[107, 'lat'] = 35.472169 #廃線になってる\n",
    "gifu.loc[107, 'lng'] = 137.134603\n",
    "\n",
    "gifu.loc[22, 'lat'] = 36.001436\n",
    "gifu.loc[22, 'lng'] = 137.288047"
   ]
  },
  {
   "cell_type": "code",
   "execution_count": null,
   "metadata": {},
   "outputs": [],
   "source": [
    "plt.scatter(gifu['lat'], gifu['lng'])"
   ]
  },
  {
   "cell_type": "code",
   "execution_count": null,
   "metadata": {},
   "outputs": [],
   "source": [
    "gifu.to_csv('input/gifu_station_geo_fix.csv')"
   ]
  },
  {
   "cell_type": "markdown",
   "metadata": {},
   "source": [
    "# aichi"
   ]
  },
  {
   "cell_type": "code",
   "execution_count": null,
   "metadata": {},
   "outputs": [],
   "source": [
    "aichi = pd.read_csv('input/aichi_station_geo.csv', index_col=0)"
   ]
  },
  {
   "cell_type": "code",
   "execution_count": null,
   "metadata": {},
   "outputs": [],
   "source": [
    "aichi"
   ]
  },
  {
   "cell_type": "code",
   "execution_count": null,
   "metadata": {},
   "outputs": [],
   "source": [
    "plt.scatter(aichi['lat'], aichi['lng'])"
   ]
  },
  {
   "cell_type": "code",
   "execution_count": null,
   "metadata": {},
   "outputs": [],
   "source": [
    "aichi.sort_values('lat').tail()"
   ]
  },
  {
   "cell_type": "code",
   "execution_count": null,
   "metadata": {},
   "outputs": [],
   "source": [
    "aichi.sort_values('lng').head()"
   ]
  },
  {
   "cell_type": "code",
   "execution_count": null,
   "metadata": {},
   "outputs": [],
   "source": [
    "aichi.loc[416, 'lat'] = 35.128528\n",
    "aichi.loc[416, 'lng'] = 136.988333\n",
    "\n",
    "aichi.loc[422, 'lat'] = 35.172222\n",
    "aichi.loc[422, 'lng'] = 136.889444\n",
    "\n",
    "aichi.loc[217, 'lat'] = 34.955278\n",
    "aichi.loc[217, 'lng'] = 136.915278\n",
    "\n",
    "aichi.loc[253, 'lat'] = 34.915472\n",
    "aichi.loc[253, 'lng'] = 136.825694\n",
    "\n",
    "aichi.loc[130, 'lat'] = 34.829167\n",
    "aichi.loc[130, 'lng'] = 137.351944\n",
    "\n",
    "aichi.loc[116, 'lat'] = 35.197778\n",
    "aichi.loc[116, 'lng'] = 137.101944\n",
    "\n",
    "aichi.loc[348, 'lat'] = 34.866576\n",
    "aichi.loc[348, 'lng'] = 137.010916\n",
    "\n",
    "aichi.loc[273, 'lat'] = 35.289722\n",
    "aichi.loc[273, 'lng'] = 136.786111"
   ]
  },
  {
   "cell_type": "code",
   "execution_count": null,
   "metadata": {},
   "outputs": [],
   "source": [
    "plt.scatter(aichi['lat'], aichi['lng'])"
   ]
  },
  {
   "cell_type": "code",
   "execution_count": null,
   "metadata": {},
   "outputs": [],
   "source": [
    "aichi.sort_values('lng').head(6)"
   ]
  },
  {
   "cell_type": "code",
   "execution_count": null,
   "metadata": {},
   "outputs": [],
   "source": [
    "aichi.loc[190, 'lat'] = 35.193611\n",
    "aichi.loc[190, 'lng'] = 136.948056\n",
    "\n",
    "aichi.loc[192, 'lat'] = 35.197222\n",
    "aichi.loc[192, 'lng'] = 136.964444\n",
    "\n",
    "aichi.loc[268, 'lat'] = 35.256389\n",
    "aichi.loc[268, 'lng'] = 136.739444\n",
    "\n",
    "aichi.loc[139, 'lat'] = 34.917986\n",
    "aichi.loc[139, 'lng'] = 137.088292\n",
    "\n",
    "aichi.loc[114, 'lat'] = 35.154722\n",
    "aichi.loc[114, 'lng'] = 137.120639\n",
    "\n",
    "aichi.loc[322, 'lat'] = 35.106389\n",
    "aichi.loc[322, 'lng'] = 136.934639"
   ]
  },
  {
   "cell_type": "code",
   "execution_count": null,
   "metadata": {},
   "outputs": [],
   "source": [
    "plt.scatter(aichi['lat'], aichi['lng'])"
   ]
  },
  {
   "cell_type": "code",
   "execution_count": null,
   "metadata": {},
   "outputs": [],
   "source": [
    "aichi.sort_values('lng').tail(6)"
   ]
  },
  {
   "cell_type": "code",
   "execution_count": null,
   "metadata": {},
   "outputs": [],
   "source": [
    "aichi.loc[104, 'lat'] = 34.982222\n",
    "aichi.loc[104, 'lng'] = 137.155\n",
    "\n",
    "aichi.loc[186, 'lat'] = 35.188333\n",
    "aichi.loc[186, 'lng'] = 136.929444\n",
    "\n",
    "aichi.loc[310, 'lat'] = 34.99925\n",
    "aichi.loc[310, 'lng'] = 137.060889\n",
    "\n",
    "aichi.loc[199, 'lat'] = 35.216389\n",
    "aichi.loc[199, 'lng'] = 137.052222\n",
    "\n",
    "aichi.loc[248, 'lat'] = 34.978333\n",
    "aichi.loc[248, 'lng'] = 136.847778\n",
    "\n",
    "aichi.loc[254, 'lat'] = 34.905\n",
    "aichi.loc[254, 'lng'] = 136.828056"
   ]
  },
  {
   "cell_type": "code",
   "execution_count": null,
   "metadata": {},
   "outputs": [],
   "source": [
    "plt.scatter(aichi['lat'], aichi['lng'])"
   ]
  },
  {
   "cell_type": "code",
   "execution_count": null,
   "metadata": {},
   "outputs": [],
   "source": [
    "aichi.sort_values('lng').tail(6)"
   ]
  },
  {
   "cell_type": "code",
   "execution_count": null,
   "metadata": {},
   "outputs": [],
   "source": [
    "aichi.loc[428, 'lat'] = 35.158889\n",
    "aichi.loc[428, 'lng'] = 136.935278\n",
    "\n",
    "aichi.loc[151, 'lat'] = 34.788722\n",
    "aichi.loc[151, 'lng'] = 137.162667\n",
    "\n",
    "aichi.loc[122, 'lat'] = 35.118417\n",
    "aichi.loc[122, 'lng'] = 137.048889\n",
    "\n",
    "aichi.loc[363, 'lat'] = 35.026611\n",
    "aichi.loc[363, 'lng'] = 137.096472\n",
    "\n",
    "aichi.loc[89, 'lat'] = 35.132861\n",
    "aichi.loc[89, 'lng'] = 136.807958\n",
    "\n",
    "aichi.loc[188, 'lat'] = 35.188333\n",
    "aichi.loc[188, 'lng'] = 136.929444"
   ]
  },
  {
   "cell_type": "code",
   "execution_count": null,
   "metadata": {},
   "outputs": [],
   "source": [
    "plt.scatter(aichi['lat'], aichi['lng'])"
   ]
  },
  {
   "cell_type": "code",
   "execution_count": null,
   "metadata": {},
   "outputs": [],
   "source": [
    "aichi.to_csv('input/aichi_station_geo_fix.csv')"
   ]
  },
  {
   "cell_type": "markdown",
   "metadata": {},
   "source": [
    "# mie"
   ]
  },
  {
   "cell_type": "code",
   "execution_count": null,
   "metadata": {},
   "outputs": [],
   "source": [
    "mie = pd.read_csv('input/mie_station_geo.csv', index_col=0)"
   ]
  },
  {
   "cell_type": "code",
   "execution_count": null,
   "metadata": {},
   "outputs": [],
   "source": [
    "mie"
   ]
  },
  {
   "cell_type": "code",
   "execution_count": null,
   "metadata": {},
   "outputs": [],
   "source": [
    "plt.scatter(mie['lat'], mie['lng'])"
   ]
  },
  {
   "cell_type": "code",
   "execution_count": null,
   "metadata": {},
   "outputs": [],
   "source": [
    "mie.sort_values('lng').tail()"
   ]
  },
  {
   "cell_type": "code",
   "execution_count": null,
   "metadata": {},
   "outputs": [],
   "source": [
    "mie.loc[226, 'lat'] = 35.064389\n",
    "mie.loc[226, 'lng'] = 136.630111\n",
    "\n",
    "mie.loc[217, 'lat'] = 34.704342\n",
    "mie.loc[217, 'lng'] = 136.157392\n",
    "\n",
    "mie.loc[202, 'lat'] = 34.934236\n",
    "mie.loc[202, 'lng'] = 136.596133\n",
    "\n",
    "mie.loc[121, 'lat'] = 34.359008\n",
    "mie.loc[121, 'lng'] = 136.816011\n",
    "\n",
    "mie.loc[115, 'lat'] = 34.432842\n",
    "mie.loc[115, 'lng'] = 136.840361"
   ]
  },
  {
   "cell_type": "code",
   "execution_count": null,
   "metadata": {},
   "outputs": [],
   "source": [
    "plt.scatter(mie['lat'], mie['lng'])"
   ]
  },
  {
   "cell_type": "code",
   "execution_count": null,
   "metadata": {},
   "outputs": [],
   "source": [
    "mie.sort_values('lng').tail(6)"
   ]
  },
  {
   "cell_type": "code",
   "execution_count": null,
   "metadata": {},
   "outputs": [],
   "source": [
    "mie.loc[26, 'lat'] = 34.617511\n",
    "mie.loc[26, 'lng'] = 136.507558\n",
    "\n",
    "mie.loc[230, 'lat'] = 35.095039\n",
    "mie.loc[230, 'lng'] = 136.570189\n",
    "\n",
    "mie.loc[201, 'lat'] = 34.940153\n",
    "mie.loc[201, 'lng'] = 136.598472\n",
    "\n",
    "mie.loc[208, 'lat'] = 34.786817\n",
    "mie.loc[208, 'lng'] = 136.116033\n",
    "\n",
    "mie.loc[211, 'lat'] = 34.766939\n",
    "mie.loc[211, 'lng'] = 136.134483\n",
    "\n",
    "mie.loc[136, 'lat'] = 34.512744\n",
    "mie.loc[136, 'lng'] = 136.685161"
   ]
  },
  {
   "cell_type": "code",
   "execution_count": null,
   "metadata": {},
   "outputs": [],
   "source": [
    "plt.scatter(mie['lat'], mie['lng'])"
   ]
  },
  {
   "cell_type": "code",
   "execution_count": null,
   "metadata": {},
   "outputs": [],
   "source": [
    "mie.sort_values('lng').head()"
   ]
  },
  {
   "cell_type": "code",
   "execution_count": null,
   "metadata": {},
   "outputs": [],
   "source": [
    "mie.loc[13, 'lat'] = 34.842525\n",
    "mie.loc[13, 'lng'] = 136.340289\n",
    "\n",
    "mie.loc[3, 'lat'] = 35.007592\n",
    "mie.loc[3, 'lng'] = 136.653575\n",
    "\n",
    "mie.loc[128, 'lat'] = 34.596464\n",
    "mie.loc[128, 'lng'] = 136.518731\n",
    "\n",
    "mie.loc[193, 'lat'] = 35.072853\n",
    "mie.loc[193, 'lng'] = 136.605014\n",
    "\n",
    "mie.loc[228, 'lat'] = 35.072853\n",
    "mie.loc[228, 'lng'] = 136.605014\n",
    "\n",
    "mie.loc[114, 'lat'] = 34.444047\n",
    "mie.loc[114, 'lng'] = 136.846597"
   ]
  },
  {
   "cell_type": "code",
   "execution_count": null,
   "metadata": {},
   "outputs": [],
   "source": [
    "plt.scatter(mie['lat'], mie['lng'])"
   ]
  },
  {
   "cell_type": "code",
   "execution_count": null,
   "metadata": {},
   "outputs": [],
   "source": [
    "mie.to_csv('input/mie_station_geo_fix.csv')"
   ]
  },
  {
   "cell_type": "code",
   "execution_count": null,
   "metadata": {},
   "outputs": [],
   "source": []
  }
 ],
 "metadata": {
  "hide_input": false,
  "kernelspec": {
   "display_name": "Python 3",
   "language": "python",
   "name": "python3"
  },
  "language_info": {
   "codemirror_mode": {
    "name": "ipython",
    "version": 3
   },
   "file_extension": ".py",
   "mimetype": "text/x-python",
   "name": "python",
   "nbconvert_exporter": "python",
   "pygments_lexer": "ipython3",
   "version": "3.6.4"
  }
 },
 "nbformat": 4,
 "nbformat_minor": 2
}
