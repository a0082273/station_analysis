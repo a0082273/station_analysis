{
 "cells": [
  {
   "cell_type": "code",
   "execution_count": null,
   "metadata": {},
   "outputs": [],
   "source": [
    "import numpy as np\n",
    "import pandas as pd\n",
    "import matplotlib.pyplot as plt"
   ]
  },
  {
   "cell_type": "code",
   "execution_count": null,
   "metadata": {
    "code_folding": [
     0
    ]
   },
   "outputs": [],
   "source": [
    "stations = [\n",
    "    'sakashita',\n",
    "    'ochiaigawa',\n",
    "    'nakatsugawa',\n",
    "    'minosakamoto',\n",
    "    'ena',\n",
    "    'takenami',\n",
    "    'kamado',\n",
    "    'mizunami',\n",
    "    'tokishi',\n",
    "    'tajimi',\n",
    "    'kokoke',\n",
    "    'jokoji',\n",
    "    'kozoji',\n",
    "    'jinryo',\n",
    "    'kasugai',\n",
    "    'kachigawa',\n",
    "    'shinmoriyama',\n",
    "    'ozone',\n",
    "    'chikusa',\n",
    "    'tsurumai',\n",
    "    'kanayama',\n",
    "    'nagoya'\n",
    "]"
   ]
  },
  {
   "cell_type": "code",
   "execution_count": null,
   "metadata": {
    "code_folding": [
     0
    ]
   },
   "outputs": [],
   "source": [
    "place_types = [\n",
    "    'art_gallery',\n",
    "    'bakery',\n",
    "    'bar',\n",
    "    'beauty_salon',\n",
    "    'book_store',\n",
    "    'bus_station',\n",
    "    'cafe',\n",
    "    'car_rental',\n",
    "    'city_hall',\n",
    "    'clothing_store',\n",
    "    'convenience_store',\n",
    "    'department_store',\n",
    "    'doctor',\n",
    "    'electronics_store',\n",
    "    'florist',\n",
    "    'gym',\n",
    "    'hair_care',\n",
    "    'home_goods_store',\n",
    "    'hospital',\n",
    "    'laundry',\n",
    "    'library',\n",
    "    'liquor_store',\n",
    "    'local_government_office',\n",
    "    'lodging', #ホテル\n",
    "    'meal_delivery',\n",
    "    'meal_takeaway',\n",
    "    'movie_theater',\n",
    "    'night_club',\n",
    "    'park',\n",
    "    'parking',\n",
    "    'restaurant',\n",
    "    'school',\n",
    "    'shopping_mall',\n",
    "    'spa',\n",
    "    'store',\n",
    "    'university'\n",
    "]"
   ]
  },
  {
   "cell_type": "code",
   "execution_count": null,
   "metadata": {
    "code_folding": []
   },
   "outputs": [],
   "source": [
    "station_panel = pd.Panel(items=stations, major_axis=range(61), minor_axis=place_types)\n",
    "for i, station in enumerate(stations):\n",
    "    station_df = pd.read_csv('input/'+station+'500.csv', index_col=0)\n",
    "    station_panel[station] = station_df.iloc[:, 0::1]"
   ]
  },
  {
   "cell_type": "code",
   "execution_count": null,
   "metadata": {},
   "outputs": [],
   "source": [
    "p_count = pd.DataFrame(index=place_types, columns=stations)\n",
    "for i, station in enumerate(stations):\n",
    "    place_count = station_panel[station].shape[0] - station_panel[station].isnull().sum()\n",
    "    p_count.iloc[:, i] = place_count"
   ]
  },
  {
   "cell_type": "code",
   "execution_count": null,
   "metadata": {
    "code_folding": [
     0
    ]
   },
   "outputs": [],
   "source": [
    "#mean = []\n",
    "#for i in range(p_count.shape[0]):\n",
    "#    mean.append(np.mean(p_count.iloc[i, :].values))\n",
    "#mean = pd.Series(data=mean, name='mean', index=place_types)\n",
    "#p_count = pd.concat([p_count, mean], axis=1)\n",
    "\n",
    "#total = []\n",
    "#total_ind = stations[:]\n",
    "#total_ind.append('mean')\n",
    "#for i in range(p_count.shape[1]):\n",
    "#    total.append(np.sum(p_count.iloc[:, i].values))\n",
    "#p_count.loc['total'] = total\n",
    "#p_count"
   ]
  },
  {
   "cell_type": "code",
   "execution_count": null,
   "metadata": {},
   "outputs": [],
   "source": [
    "station_panel = pd.Panel(items=stations, major_axis=range(61), minor_axis=place_types)\n",
    "for i, station in enumerate(stations):\n",
    "    station_df = pd.read_csv('input/'+station+'500.csv', index_col=0)\n",
    "    station_df = station_df.iloc[:, 1::2]\n",
    "    station_df.columns = place_types\n",
    "    station_panel[station] = station_df"
   ]
  },
  {
   "cell_type": "code",
   "execution_count": null,
   "metadata": {},
   "outputs": [],
   "source": [
    "p_count = p_count.T\n",
    "p_count['fromNagoya'] = range(p_count.shape[0])\n",
    "p_count = p_count.T"
   ]
  },
  {
   "cell_type": "code",
   "execution_count": null,
   "metadata": {},
   "outputs": [],
   "source": [
    "p_count"
   ]
  },
  {
   "cell_type": "code",
   "execution_count": null,
   "metadata": {},
   "outputs": [],
   "source": [
    "info = pd.read_csv('../shutten_senryaku_johokyoku/chuuouhonsen/input/station_edited_data500m_all.csv', index_col=0)"
   ]
  },
  {
   "cell_type": "code",
   "execution_count": null,
   "metadata": {},
   "outputs": [],
   "source": [
    "p_count = pd.concat([p_count, info], axis=0)"
   ]
  },
  {
   "cell_type": "code",
   "execution_count": null,
   "metadata": {},
   "outputs": [],
   "source": [
    "p_count"
   ]
  },
  {
   "cell_type": "code",
   "execution_count": null,
   "metadata": {},
   "outputs": [],
   "source": [
    "#plt.figure(figsize=(30, 30))\n",
    "#sns.heatmap(p_count.T.corr(), square=True)"
   ]
  },
  {
   "cell_type": "code",
   "execution_count": null,
   "metadata": {},
   "outputs": [],
   "source": [
    "restaurant = pd.DataFrame(p_count.T.corr()['restaurant'])\n",
    "restaurant = restaurant.sort_values(by='restaurant')"
   ]
  },
  {
   "cell_type": "code",
   "execution_count": null,
   "metadata": {},
   "outputs": [],
   "source": [
    "bar = pd.DataFrame(p_count.T.corr()['bar'])\n",
    "bar = bar.sort_values(by='bar')"
   ]
  },
  {
   "cell_type": "code",
   "execution_count": null,
   "metadata": {},
   "outputs": [],
   "source": [
    "cafe = pd.DataFrame(p_count.T.corr()['cafe'])\n",
    "cafe = cafe.sort_values(by='cafe')"
   ]
  },
  {
   "cell_type": "code",
   "execution_count": null,
   "metadata": {},
   "outputs": [],
   "source": [
    "restaurant.head(10)"
   ]
  },
  {
   "cell_type": "code",
   "execution_count": null,
   "metadata": {},
   "outputs": [],
   "source": [
    "bar.head(10)"
   ]
  },
  {
   "cell_type": "code",
   "execution_count": null,
   "metadata": {},
   "outputs": [],
   "source": [
    "cafe.head(10)"
   ]
  },
  {
   "cell_type": "code",
   "execution_count": null,
   "metadata": {},
   "outputs": [],
   "source": [
    "restaurant.tail(10)"
   ]
  },
  {
   "cell_type": "code",
   "execution_count": null,
   "metadata": {},
   "outputs": [],
   "source": [
    "bar.tail(10)"
   ]
  },
  {
   "cell_type": "code",
   "execution_count": null,
   "metadata": {},
   "outputs": [],
   "source": [
    "cafe.tail(10)"
   ]
  },
  {
   "cell_type": "code",
   "execution_count": null,
   "metadata": {},
   "outputs": [],
   "source": [
    "p_count = p_count.sort_values(by='1世帯平均人数', axis=1)\n",
    "plt.figure(figsize=(20,12))\n",
    "sns.heatmap(p_count[0:len(place_types)], annot=True, cmap='Blues')"
   ]
  },
  {
   "cell_type": "code",
   "execution_count": null,
   "metadata": {},
   "outputs": [],
   "source": [
    "p_count = p_count.sort_values(by='fromNagoya', axis=1)\n",
    "plt.figure(figsize=(20,12))\n",
    "plt.title('場所の数（名古屋から遠い順）')\n",
    "sns.heatmap(p_count[0:len(place_types)], annot=True, cmap='Blues')\n",
    "#plt.savefig('output/place_count.png')"
   ]
  },
  {
   "cell_type": "code",
   "execution_count": null,
   "metadata": {},
   "outputs": [],
   "source": [
    "p_count = p_count.sort_values(by='昼間人口', axis=1)"
   ]
  },
  {
   "cell_type": "code",
   "execution_count": null,
   "metadata": {},
   "outputs": [],
   "source": [
    "plt.figure(figsize=(20,12))\n",
    "plt.title('場所の数（昼間人口順）')\n",
    "sns.heatmap(p_count[0:len(place_types)], annot=True, cmap='Blues')\n",
    "#plt.savefig('output/place_count_chukanjinko.png')"
   ]
  },
  {
   "cell_type": "code",
   "execution_count": null,
   "metadata": {},
   "outputs": [],
   "source": []
  }
 ],
 "metadata": {
  "hide_input": false,
  "kernelspec": {
   "display_name": "Python 3",
   "language": "python",
   "name": "python3"
  },
  "language_info": {
   "codemirror_mode": {
    "name": "ipython",
    "version": 3
   },
   "file_extension": ".py",
   "mimetype": "text/x-python",
   "name": "python",
   "nbconvert_exporter": "python",
   "pygments_lexer": "ipython3",
   "version": "3.6.4"
  }
 },
 "nbformat": 4,
 "nbformat_minor": 2
}
