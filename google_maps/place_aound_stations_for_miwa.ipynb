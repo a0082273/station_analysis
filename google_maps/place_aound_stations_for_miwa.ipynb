{
 "cells": [
  {
   "cell_type": "code",
   "execution_count": null,
   "metadata": {},
   "outputs": [],
   "source": [
    "import numpy as np\n",
    "import pandas as pd\n",
    "import matplotlib.pyplot as plt"
   ]
  },
  {
   "cell_type": "code",
   "execution_count": null,
   "metadata": {
    "code_folding": [
     0
    ]
   },
   "outputs": [],
   "source": [
    "stations = [\n",
    "    'sakashita',\n",
    "    'ochiaigawa',\n",
    "    'nakatsugawa',\n",
    "    'minosakamoto',\n",
    "    'ena',\n",
    "    'takenami',\n",
    "    'kamado',\n",
    "    'mizunami',\n",
    "    'tokishi',\n",
    "    'tajimi',\n",
    "    'kokoke',\n",
    "    'jokoji',\n",
    "    'kozoji',\n",
    "    'jinryo',\n",
    "    'kasugai',\n",
    "    'kachigawa',\n",
    "    'shinmoriyama',\n",
    "    'ozone',\n",
    "    'chikusa',\n",
    "    'tsurumai',\n",
    "    'kanayama',\n",
    "    'nagoya'\n",
    "]"
   ]
  },
  {
   "cell_type": "code",
   "execution_count": null,
   "metadata": {
    "code_folding": [
     0
    ]
   },
   "outputs": [],
   "source": [
    "stations_kanji = [\n",
    "    '坂下',\n",
    "    '落合川',\n",
    "    '中津川',\n",
    "    '美乃坂本',\n",
    "    '恵那',\n",
    "    '武並',\n",
    "    '釜戸',\n",
    "    '瑞浪',\n",
    "    '土岐市',\n",
    "    '多治見',\n",
    "    '古虎渓',\n",
    "    '定光寺',\n",
    "    '高蔵寺',\n",
    "    '神領',\n",
    "    '春日井',\n",
    "    '勝川',\n",
    "    '新守山',\n",
    "    '大曽根',\n",
    "    '千種',\n",
    "    '鶴舞',\n",
    "    '金山',\n",
    "    '名古屋'\n",
    "]"
   ]
  },
  {
   "cell_type": "code",
   "execution_count": null,
   "metadata": {},
   "outputs": [],
   "source": [
    "station_dic = dict(zip(stations, stations_kanji))"
   ]
  },
  {
   "cell_type": "code",
   "execution_count": null,
   "metadata": {},
   "outputs": [],
   "source": [
    "#station_dic"
   ]
  },
  {
   "cell_type": "code",
   "execution_count": null,
   "metadata": {
    "code_folding": [
     0
    ]
   },
   "outputs": [],
   "source": [
    "place_types = [\n",
    "    'art_gallery',\n",
    "    'bakery',\n",
    "    'bar',\n",
    "    'beauty_salon',\n",
    "    'book_store',\n",
    "    'bus_station',\n",
    "    'cafe',\n",
    "    'car_rental',\n",
    "    'city_hall',\n",
    "    'clothing_store',\n",
    "    'convenience_store',\n",
    "    'department_store',\n",
    "    'doctor',\n",
    "    'electronics_store',\n",
    "    'florist',\n",
    "    'gym',\n",
    "    'hair_care',\n",
    "    'home_goods_store',\n",
    "    'hospital',\n",
    "    'laundry',\n",
    "    'library',\n",
    "    'liquor_store',\n",
    "    'local_government_office',\n",
    "    'lodging', #ホテル\n",
    "    'meal_delivery',\n",
    "    'meal_takeaway',\n",
    "    'movie_theater',\n",
    "    'night_club',\n",
    "    'park',\n",
    "    'parking',\n",
    "    'restaurant',\n",
    "    'school',\n",
    "    'shopping_mall',\n",
    "    'spa',\n",
    "    'store',\n",
    "    'university'\n",
    "]"
   ]
  },
  {
   "cell_type": "code",
   "execution_count": null,
   "metadata": {
    "code_folding": [
     0
    ]
   },
   "outputs": [],
   "source": [
    "place_types_japanese = [\n",
    "    '美術館',\n",
    "    'パン屋',\n",
    "    '飲み屋',\n",
    "    '美容院',\n",
    "    '本屋',\n",
    "    'バス停',\n",
    "    'カフェ',\n",
    "    'レンタカー',\n",
    "    'シティホール',\n",
    "    '服屋',\n",
    "    'コンビニ',\n",
    "    'デパート',\n",
    "    '小規模病院',\n",
    "    '家電量販店',\n",
    "    '花屋',\n",
    "    'ジム',\n",
    "    '床屋',\n",
    "    '日用品店',\n",
    "    '病院',\n",
    "    'クリーニング店・コインランドリー',\n",
    "    '図書館',\n",
    "    '酒屋',\n",
    "    '地方行政施設',\n",
    "    '宿泊施設',\n",
    "    '飲食店（出前形式）',\n",
    "    '飲食店（テイクアウト形式）',\n",
    "    '映画館',\n",
    "    'ナイトクラブ',\n",
    "    '公園',\n",
    "    '駐車場',\n",
    "    'レストラン',\n",
    "    '学校、塾',\n",
    "    'ショッピングモール',\n",
    "    '温泉',\n",
    "    '店',\n",
    "    '大学'\n",
    "]"
   ]
  },
  {
   "cell_type": "code",
   "execution_count": null,
   "metadata": {},
   "outputs": [],
   "source": [
    "place_types_dic = dict(zip(place_types, place_types_japanese))"
   ]
  },
  {
   "cell_type": "code",
   "execution_count": null,
   "metadata": {},
   "outputs": [],
   "source": [
    "#place_types_dic"
   ]
  },
  {
   "cell_type": "code",
   "execution_count": null,
   "metadata": {
    "code_folding": []
   },
   "outputs": [],
   "source": [
    "station_panel = pd.Panel(items=stations, major_axis=range(61), minor_axis=place_types)\n",
    "for i, station in enumerate(stations):\n",
    "    station_df = pd.read_csv('input/'+station+'500.csv', index_col=0)\n",
    "    station_panel[station] = station_df.iloc[:, 0::1]"
   ]
  },
  {
   "cell_type": "code",
   "execution_count": null,
   "metadata": {},
   "outputs": [],
   "source": [
    "p_count = pd.DataFrame(index=place_types, columns=stations)\n",
    "for i, station in enumerate(stations):\n",
    "    place_count = station_panel[station].shape[0] - station_panel[station].isnull().sum()\n",
    "    p_count.iloc[:, i] = place_count"
   ]
  },
  {
   "cell_type": "code",
   "execution_count": null,
   "metadata": {},
   "outputs": [],
   "source": [
    "info = pd.read_csv('../shutten_senryaku_johokyoku/chuuouhonsen/input/station_edited_data500m_all.csv', index_col=0)"
   ]
  },
  {
   "cell_type": "code",
   "execution_count": null,
   "metadata": {},
   "outputs": [],
   "source": [
    "p_count.index = place_types_japanese"
   ]
  },
  {
   "cell_type": "code",
   "execution_count": null,
   "metadata": {},
   "outputs": [],
   "source": [
    "p_count['英語施設名'] = place_types"
   ]
  },
  {
   "cell_type": "code",
   "execution_count": null,
   "metadata": {},
   "outputs": [],
   "source": [
    "p_count"
   ]
  },
  {
   "cell_type": "code",
   "execution_count": null,
   "metadata": {},
   "outputs": [],
   "source": [
    "info"
   ]
  },
  {
   "cell_type": "code",
   "execution_count": null,
   "metadata": {},
   "outputs": [],
   "source": [
    "#p_count = pd.concat([p_count, info], axis=0)"
   ]
  },
  {
   "cell_type": "code",
   "execution_count": null,
   "metadata": {},
   "outputs": [],
   "source": [
    "p_count = p_count.append(info)[p_count.columns.tolist()]"
   ]
  },
  {
   "cell_type": "code",
   "execution_count": null,
   "metadata": {},
   "outputs": [],
   "source": [
    "p_count"
   ]
  },
  {
   "cell_type": "code",
   "execution_count": null,
   "metadata": {},
   "outputs": [],
   "source": [
    "stations_kanji.append('英語施設名')"
   ]
  },
  {
   "cell_type": "code",
   "execution_count": null,
   "metadata": {},
   "outputs": [],
   "source": [
    "p_count.columns = stations_kanji"
   ]
  },
  {
   "cell_type": "code",
   "execution_count": null,
   "metadata": {},
   "outputs": [],
   "source": [
    "p_count"
   ]
  },
  {
   "cell_type": "code",
   "execution_count": null,
   "metadata": {},
   "outputs": [],
   "source": [
    "p_count = p_count.iloc[:, ::-1]"
   ]
  },
  {
   "cell_type": "code",
   "execution_count": null,
   "metadata": {},
   "outputs": [],
   "source": [
    "p_count.to_csv('google_maps_facility_chuohonsen.csv')"
   ]
  },
  {
   "cell_type": "code",
   "execution_count": null,
   "metadata": {},
   "outputs": [],
   "source": []
  }
 ],
 "metadata": {
  "kernelspec": {
   "display_name": "Python 3",
   "language": "python",
   "name": "python3"
  },
  "language_info": {
   "codemirror_mode": {
    "name": "ipython",
    "version": 3
   },
   "file_extension": ".py",
   "mimetype": "text/x-python",
   "name": "python",
   "nbconvert_exporter": "python",
   "pygments_lexer": "ipython3",
   "version": "3.6.4"
  }
 },
 "nbformat": 4,
 "nbformat_minor": 2
}
