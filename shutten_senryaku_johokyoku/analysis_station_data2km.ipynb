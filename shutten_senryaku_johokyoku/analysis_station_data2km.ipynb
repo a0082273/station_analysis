{
 "cells": [
  {
   "cell_type": "code",
   "execution_count": null,
   "metadata": {},
   "outputs": [],
   "source": [
    "import re"
   ]
  },
  {
   "cell_type": "code",
   "execution_count": null,
   "metadata": {},
   "outputs": [],
   "source": [
    "info = pd.read_csv('input/station_data2km.csv', index_col=0)"
   ]
  },
  {
   "cell_type": "code",
   "execution_count": null,
   "metadata": {},
   "outputs": [],
   "source": [
    "info500m = pd.read_csv('input/station_data500m.csv', index_col=0)\n",
    "info.loc['乗降客数（日）'] = info500m.loc['乗降客数（日）']"
   ]
  },
  {
   "cell_type": "code",
   "execution_count": null,
   "metadata": {},
   "outputs": [],
   "source": [
    "info"
   ]
  },
  {
   "cell_type": "code",
   "execution_count": null,
   "metadata": {},
   "outputs": [],
   "source": [
    "#.isalnum()は全角文字に対応してない\n",
    "alnumReg = re.compile(r'^[a-zA-Z0-9]+$')\n",
    "def isalnum(s):\n",
    "    return alnumReg.match(s) is not None\n",
    "\n",
    "for ind in range(info.shape[0]):\n",
    "    for col in range(info.shape[1]):\n",
    "        info.iloc[ind, col] = info.iloc[ind, col].replace(',', '')\n",
    "        while not isalnum(info.iloc[ind, col]):\n",
    "            info.iloc[ind, col] = info.iloc[ind, col][:-1]"
   ]
  },
  {
   "cell_type": "code",
   "execution_count": null,
   "metadata": {},
   "outputs": [],
   "source": [
    "info = info.astype(float)"
   ]
  },
  {
   "cell_type": "code",
   "execution_count": null,
   "metadata": {},
   "outputs": [],
   "source": [
    "#info"
   ]
  },
  {
   "cell_type": "code",
   "execution_count": null,
   "metadata": {},
   "outputs": [],
   "source": [
    "info.loc['0～14歳人口比率'] = info.loc['0～14歳人口']/info.loc['人口総数']*100\n",
    "info.loc['15～64歳人口比率'] = info.loc['15～64歳人口']/info.loc['人口総数']*100\n",
    "info.loc['65歳以上人口比率'] = info.loc['65歳以上人口']/info.loc['人口総数']*100\n",
    "\n",
    "info.loc['生徒学生数÷乗降客数（日）×100'] = info.loc['生徒学生数']/info.loc['乗降客数（日）']*100\n",
    "info.loc['生徒学生数÷人口総数×100'] = info.loc['生徒学生数']/info.loc['人口総数']*100\n",
    "\n",
    "info.loc['乗降客数（日）÷人口総数×100'] = info.loc['乗降客数（日）']/info.loc['人口総数']*100\n",
    "info.loc['昼間人口増加率'] = info.loc['昼間人口']/info.loc['人口総数']*100\n",
    "info.loc['1世帯平均人数'] = info.loc['人口総数']/info.loc['世帯数']\n",
    "\n",
    "info.loc['小売事業所数÷人口総数'] = info.loc['小売事業所数']/info.loc['人口総数']\n",
    "info.loc['小売事業所数÷昼間人口'] = info.loc['小売事業所数']/info.loc['昼間人口']\n",
    "info.loc['小売事業所数÷乗降客数（日）'] = info.loc['小売事業所数']/info.loc['乗降客数（日）']\n",
    "info.loc['小売事業所数÷全産業事業所数'] = info.loc['小売事業所数']/info.loc['全産業事業所数']\n",
    "info.loc['小売事業所数÷全産業従業者総数'] = info.loc['小売事業所数']/info.loc['全産業従業者総数']\n",
    "\n",
    "info.loc['小売業年間商品販売額÷小売事業所数'] = info.loc['小売業年間商品販売額']/info.loc['小売事業所数']\n",
    "info.loc['小売業年間商品販売額÷人口総数'] = info.loc['小売業年間商品販売額']/info.loc['人口総数']\n",
    "info.loc['小売業年間商品販売額÷昼間人口'] = info.loc['小売業年間商品販売額']/info.loc['昼間人口']\n",
    "info.loc['小売業年間商品販売額÷乗降客数（日）'] = info.loc['小売業年間商品販売額']/info.loc['乗降客数（日）']\n",
    "info.loc['小売業年間商品販売額÷全産業従業者総数'] = info.loc['小売業年間商品販売額']/info.loc['全産業従業者総数']\n",
    "\n",
    "info.loc['飲食店事業所数÷全産業事業所数'] = info.loc['飲食店事業所数']/info.loc['全産業事業所数']\n",
    "info.loc['飲食店事業所数÷全産業従業者総数'] = info.loc['飲食店事業所数']/info.loc['全産業従業者総数']\n",
    "info.loc['飲食店事業所数÷人口総数'] = info.loc['飲食店事業所数']/info.loc['人口総数']\n",
    "info.loc['飲食店事業所数÷昼間人口'] = info.loc['飲食店事業所数']/info.loc['昼間人口']\n",
    "info.loc['飲食店事業所数÷乗降客数（日）'] = info.loc['飲食店事業所数']/info.loc['乗降客数（日）']\n",
    "\n",
    "info.loc['全産業事業所数÷人口総数'] = info.loc['全産業事業所数']/info.loc['人口総数']\n",
    "info.loc['全産業事業所数÷昼間人口'] = info.loc['全産業事業所数']/info.loc['昼間人口']\n",
    "info.loc['全産業事業所数÷乗降客数（日）'] = info.loc['全産業事業所数']/info.loc['乗降客数（日）']\n",
    "\n",
    "info.loc['全産業従業者総数÷人口総数×100'] = info.loc['全産業従業者総数']/info.loc['人口総数']*100\n",
    "info.loc['全産業従業者総数÷昼間人口×100'] = info.loc['全産業従業者総数']/info.loc['昼間人口']*100\n",
    "info.loc['全産業従業者総数÷乗降客数（日）×100'] = info.loc['全産業従業者総数']/info.loc['乗降客数（日）']*100"
   ]
  },
  {
   "cell_type": "code",
   "execution_count": null,
   "metadata": {},
   "outputs": [],
   "source": [
    "#info = info.drop(['男性人口', '0～14歳人口', '15～64歳人口', '65歳以上人口', '昼間人口', '世帯数', '1人世帯数', '生徒学生数', '生徒学生数÷乗降客数（日）×100', '生徒学生数÷人口総数×100'], axis=0)\n",
    "info = info.drop(['男性人口', '世帯数', '1人世帯数', '生徒学生数', '生徒学生数÷乗降客数（日）×100', '生徒学生数÷人口総数×100'], axis=0)"
   ]
  },
  {
   "cell_type": "code",
   "execution_count": null,
   "metadata": {},
   "outputs": [],
   "source": [
    "info"
   ]
  },
  {
   "cell_type": "code",
   "execution_count": null,
   "metadata": {},
   "outputs": [],
   "source": [
    "info.to_csv('input/station_edited_data2km_all.csv')"
   ]
  },
  {
   "cell_type": "code",
   "execution_count": null,
   "metadata": {},
   "outputs": [],
   "source": [
    "#plt.figure(figsize=(18, 6))\n",
    "#plt.title(info.index[0])\n",
    "#plt.xticks(range(info.shape[1]), info.columns.values, rotation=30)\n",
    "#plt.bar(range(info.shape[1]), info.iloc[0, :].values)"
   ]
  },
  {
   "cell_type": "code",
   "execution_count": null,
   "metadata": {},
   "outputs": [],
   "source": [
    "#plt.figure(figsize=(18, 6))\n",
    "#plt.xticks(range(info.shape[1]), info.columns.values, rotation=30)\n",
    "#plt.title(info.index[1])\n",
    "#plt.bar(range(info.shape[1]), info.iloc[1, :].values)"
   ]
  },
  {
   "cell_type": "code",
   "execution_count": null,
   "metadata": {},
   "outputs": [],
   "source": [
    "for i, ind in enumerate(info.index.values):\n",
    "    plt.figure(figsize=(18, 6))\n",
    "    plt.xticks(range(info.shape[1]), info.columns.values, rotation=30)\n",
    "    plt.title(info.index[i])\n",
    "    plt.bar(range(info.shape[1]), info.iloc[i, :].values)\n",
    "    plt.savefig(f'output/2km/all/{ind}_2km_all.png')\n",
    "    plt.close()"
   ]
  },
  {
   "cell_type": "markdown",
   "metadata": {},
   "source": [
    "# 東濃だけで比較"
   ]
  },
  {
   "cell_type": "code",
   "execution_count": null,
   "metadata": {},
   "outputs": [],
   "source": [
    "info_small = info[['nakatsugawa', 'ena', 'mizunami', 'tokishi', 'tajimi']]"
   ]
  },
  {
   "cell_type": "code",
   "execution_count": null,
   "metadata": {},
   "outputs": [],
   "source": [
    "info_small.loc['市全体人口総数'] = [79640, 49700, 38020, 59030, 110400]\n",
    "info_small.loc['市全体面積'] = [676.4, 504.2, 174.9, 116.0, 91.25]"
   ]
  },
  {
   "cell_type": "code",
   "execution_count": null,
   "metadata": {},
   "outputs": [],
   "source": [
    "info_small.loc['乗降客数（日）÷市全体人口総数×100'] = info_small.loc['乗降客数（日）']/info_small.loc['市全体人口総数']*100\n",
    "info_small.loc['人口総数÷市全体人口総数×100'] = info_small.loc['人口総数']/info_small.loc['市全体人口総数']*100\n",
    "info_small.loc['面積÷市全体面積×100'] = (2*2*3.14)/info_small.loc['市全体面積']*100\n",
    "info_small.loc['人口密度÷市全体人口密度'] = info_small.loc['人口総数÷市全体人口総数×100']/info_small.loc['面積÷市全体面積×100']"
   ]
  },
  {
   "cell_type": "code",
   "execution_count": null,
   "metadata": {},
   "outputs": [],
   "source": [
    "info_small"
   ]
  },
  {
   "cell_type": "code",
   "execution_count": null,
   "metadata": {},
   "outputs": [],
   "source": [
    "for i, ind in enumerate(info_small.index.values):\n",
    "    plt.figure(figsize=(18, 6))\n",
    "#    plt.xticks(range(info_small.shape[1]), info_small.columns.values, rotation=30)\n",
    "    plt.xticks(range(info_small.shape[1]), ['中津川', '恵那', '瑞浪', '土岐', '多治見'])\n",
    "    plt.title(info_small.index[i])\n",
    "    plt.bar(range(info_small.shape[1]), info_small.iloc[i, :].values)\n",
    "    plt.savefig(f'output/2km/small/{ind}_2km_small.png')\n",
    "    plt.close()"
   ]
  },
  {
   "cell_type": "code",
   "execution_count": null,
   "metadata": {},
   "outputs": [],
   "source": [
    "info_small.to_csv('input/station_edited_data2km_small.csv')"
   ]
  },
  {
   "cell_type": "code",
   "execution_count": null,
   "metadata": {},
   "outputs": [],
   "source": []
  }
 ],
 "metadata": {
  "kernelspec": {
   "display_name": "Python 3",
   "language": "python",
   "name": "python3"
  },
  "language_info": {
   "codemirror_mode": {
    "name": "ipython",
    "version": 3
   },
   "file_extension": ".py",
   "mimetype": "text/x-python",
   "name": "python",
   "nbconvert_exporter": "python",
   "pygments_lexer": "ipython3",
   "version": "3.6.4"
  }
 },
 "nbformat": 4,
 "nbformat_minor": 2
}
