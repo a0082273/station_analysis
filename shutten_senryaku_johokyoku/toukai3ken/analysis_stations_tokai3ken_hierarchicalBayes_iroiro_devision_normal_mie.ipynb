{
 "cells": [
  {
   "cell_type": "code",
   "execution_count": null,
   "metadata": {},
   "outputs": [],
   "source": [
    "import pystan"
   ]
  },
  {
   "cell_type": "code",
   "execution_count": null,
   "metadata": {},
   "outputs": [],
   "source": [
    "X = pd.read_csv('./variables/devision_rosenID.csv', index_col=0)\n",
    "y = pd.read_csv('./variables/target.csv', index_col=0 ,names=['飲食店数'])"
   ]
  },
  {
   "cell_type": "code",
   "execution_count": null,
   "metadata": {},
   "outputs": [],
   "source": [
    "X = X[X['路線ID'].str.startswith('m')]\n",
    "y = y[y.index.str.startswith('m')]"
   ]
  },
  {
   "cell_type": "code",
   "execution_count": null,
   "metadata": {},
   "outputs": [],
   "source": [
    "def zscore(x, axis = None):\n",
    "    xmean = x.mean(axis=axis)\n",
    "    xstd  = np.std(x, axis=axis)\n",
    "    zscore = (x-xmean)/xstd\n",
    "    return zscore"
   ]
  },
  {
   "cell_type": "code",
   "execution_count": null,
   "metadata": {},
   "outputs": [],
   "source": [
    "#各変数、正規分布に従ってる？\n",
    "X.iloc[:, :-1] = zscore(X.iloc[:, :-1], axis=0)"
   ]
  },
  {
   "cell_type": "code",
   "execution_count": null,
   "metadata": {},
   "outputs": [],
   "source": [
    "rosen = dict(zip(X['路線ID'].unique(), range(1, 1+len(X['路線ID'].unique()))))\n",
    "Rosen = []\n",
    "for i in range(len(X)):\n",
    "    Rosen.append(rosen[X['路線ID'][i]])\n",
    "X = X.drop(['路線ID'], axis=1)"
   ]
  },
  {
   "cell_type": "code",
   "execution_count": null,
   "metadata": {},
   "outputs": [],
   "source": [
    "data = dict(\n",
    "    N_station=X.shape[0],\n",
    "    N_explanatory=X.shape[1],\n",
    "    N_rosen=len(rosen),\n",
    "    X=X.values,\n",
    "    Rosen=Rosen,\n",
    "    Y=y['飲食店数'].values\n",
    ")"
   ]
  },
  {
   "cell_type": "code",
   "execution_count": null,
   "metadata": {},
   "outputs": [],
   "source": [
    "model = '''\n",
    "data {\n",
    "    int N_station;\n",
    "    int N_explanatory;\n",
    "    int N_rosen;\n",
    "    matrix[N_station, N_explanatory] X;\n",
    "    int<lower=1> Rosen[N_station];\n",
    "    vector<lower=0>[N_station] Y;\n",
    "}\n",
    "\n",
    "parameters {\n",
    "    real mu_a;\n",
    "    real mu_b[N_explanatory];\n",
    "    real<lower=0> mu_s;\n",
    "    real<lower=0> s_a;\n",
    "    real<lower=0> s_b[N_explanatory];\n",
    "    real<lower=0> s_s;\n",
    "    vector[N_rosen] a;\n",
    "    matrix[N_explanatory, N_rosen] b;\n",
    "    vector<lower=0>[N_rosen] s;\n",
    "}\n",
    "\n",
    "model {\n",
    "    a ~ normal(mu_a, s_a);\n",
    "    for (i in 1:N_explanatory)\n",
    "        b[i,] ~ normal(mu_b[i], s_b[i]);\n",
    "    s ~ normal(mu_s, s_s);\n",
    "    for (i in 1:N_station)\n",
    "        Y[i] ~ normal(a[Rosen[i]] + X[i,]*b[,Rosen[i]], s[Rosen[i]]);\n",
    "}\n",
    "\n",
    "generated quantities{\n",
    "    vector[N_station] predict;\n",
    "    for (i in 1:N_station)\n",
    "        predict[i] = normal_rng(a[Rosen[i]] + X[i,]*b[,Rosen[i]], s[Rosen[i]]);\n",
    "}\n",
    "'''"
   ]
  },
  {
   "cell_type": "code",
   "execution_count": null,
   "metadata": {},
   "outputs": [],
   "source": [
    "fit = pystan.stan(model_code=model, data=data, chains=3, iter=500, warmup=100, thin=1)\n",
    "#fit = pystan.stan(model_code=model, data=data, chains=4, iter=2000, warmup=500, thin=1)"
   ]
  },
  {
   "cell_type": "code",
   "execution_count": null,
   "metadata": {},
   "outputs": [],
   "source": [
    "X.columns"
   ]
  },
  {
   "cell_type": "code",
   "execution_count": null,
   "metadata": {},
   "outputs": [],
   "source": [
    "fit"
   ]
  },
  {
   "cell_type": "markdown",
   "metadata": {},
   "source": [
    "効き具合（mu_b[:]のmeanの大きさ）は昼間人口がダントツ、続いて乗降客数。人口総数はほとんど効いてない。\n",
    "\n",
    "ただ、路線毎にだいぶ傾向違いそう。"
   ]
  },
  {
   "cell_type": "code",
   "execution_count": null,
   "metadata": {},
   "outputs": [],
   "source": [
    "#MCMCサンプリングの結果を抽出\n",
    "ms = fit.extract(permuted=False, inc_warmup=True)\n",
    "#ウォームアップ（バーンイン）のサイズを取得\n",
    "iter_from = fit.sim['warmup']\n",
    "#ウォームアップの区間を省く\n",
    "iter_range = np.arange(iter_from, ms.shape[0])\n",
    "#各変数名を取得\n",
    "paraname = fit.sim['fnames_oi']\n",
    "\n",
    "#※※※今回は全て描画したいので、こちらを使う\n",
    "iter_start = np.arange(0, ms.shape[0])"
   ]
  },
  {
   "cell_type": "code",
   "execution_count": null,
   "metadata": {},
   "outputs": [],
   "source": [
    "#seabornのcolorpalette\n",
    "palette = sns.color_palette()\n",
    "#おまじない？\n",
    "sns.set(font_scale=1)\n",
    "sns.set_style(\"ticks\")\n",
    "sns.despine(offset=10, trim=True)\n",
    "\n",
    "#複数グラフの描画（これしか方法知らない）\n",
    "fig,axes  = plt.subplots(nrows=4, ncols=3, figsize=(15,10))\n",
    "\n",
    "for i in range(4):\n",
    "    for j in range(3):\n",
    "#        axes[i,j].plot(iter_start, ms[iter_start, :, i*3+j], \n",
    "#                       linewidth=3, color=palette[i*3+j])\n",
    "        axes[i,j].plot(iter_start, ms[iter_start, :, i*3+j])\n",
    "        axes[i,j].set_title(paraname[i*3+j])\n",
    "        axes[i,j].set_xlabel('mcmc_size')\n",
    "        axes[i,j].set_ylabel('parameter')\n",
    "        axes[i,j].grid(True)\n",
    "\n",
    "fig.show()"
   ]
  },
  {
   "cell_type": "code",
   "execution_count": null,
   "metadata": {},
   "outputs": [],
   "source": [
    "summary = pd.DataFrame(data=fit.summary()['summary'], index=fit.summary()['summary_rownames'], columns=fit.summary()['summary_colnames'])"
   ]
  },
  {
   "cell_type": "code",
   "execution_count": null,
   "metadata": {},
   "outputs": [],
   "source": [
    "summary"
   ]
  },
  {
   "cell_type": "code",
   "execution_count": null,
   "metadata": {},
   "outputs": [],
   "source": [
    "a_summary = summary.query('index.str.contains(\"a\")', engine='python')['50%']"
   ]
  },
  {
   "cell_type": "code",
   "execution_count": null,
   "metadata": {},
   "outputs": [],
   "source": [
    "b_summary = summary.query('index.str.contains(\"b\")', engine='python')['50%']"
   ]
  },
  {
   "cell_type": "code",
   "execution_count": null,
   "metadata": {},
   "outputs": [],
   "source": [
    "s_summary = summary.query('index.str.contains(\"s\")', engine='python')['50%']"
   ]
  },
  {
   "cell_type": "code",
   "execution_count": null,
   "metadata": {},
   "outputs": [],
   "source": [
    "pred = summary.query('index.str.startswith(\"predict\")', engine='python')['50%'].values"
   ]
  },
  {
   "cell_type": "code",
   "execution_count": null,
   "metadata": {},
   "outputs": [],
   "source": [
    "#RMSE\n",
    "np.sqrt(np.mean((y['飲食店数'].values-pred)**2))"
   ]
  },
  {
   "cell_type": "code",
   "execution_count": null,
   "metadata": {},
   "outputs": [],
   "source": [
    "from sklearn.metrics import r2_score\n",
    "r2_score(y.values, pred)"
   ]
  },
  {
   "cell_type": "code",
   "execution_count": null,
   "metadata": {},
   "outputs": [],
   "source": [
    "fig, ax = plt.subplots()\n",
    "ax.scatter(pred, y['飲食店数'].values, edgecolors=(0, 0, 0))\n",
    "ax.plot([y['飲食店数'].min(), y['飲食店数'].max()], [y['飲食店数'].min(), y['飲食店数'].max()], 'k--', lw=1)\n",
    "ax.set_xlabel('Predicted')\n",
    "ax.set_ylabel('Measured')\n",
    "plt.show()"
   ]
  },
  {
   "cell_type": "code",
   "execution_count": null,
   "metadata": {},
   "outputs": [],
   "source": [
    "def plot_actual_predicted(actual, predicted):\n",
    "    tmp = pd.DataFrame({'actual': actual, 'predicted': predicted}).sort_values(['actual'])\n",
    "    plt.scatter(range(tmp.shape[0]), tmp['predicted'], color='green')\n",
    "    plt.scatter(range(tmp.shape[0]), tmp['actual'], color='blue')\n",
    "    plt.show()\n",
    "    del tmp\n",
    "\n",
    "plot_actual_predicted(y['飲食店数'].values, pred)"
   ]
  },
  {
   "cell_type": "code",
   "execution_count": null,
   "metadata": {},
   "outputs": [],
   "source": [
    "X = pd.read_csv('./variables/devision_rosenID.csv', index_col=0)"
   ]
  },
  {
   "cell_type": "code",
   "execution_count": null,
   "metadata": {},
   "outputs": [],
   "source": [
    "actual_predicted = pd.DataFrame({'actual': y['飲食店数'].values, 'predicted': pred, 'rosen': X['路線ID']})"
   ]
  },
  {
   "cell_type": "code",
   "execution_count": null,
   "metadata": {},
   "outputs": [],
   "source": [
    "def plot_actual_predicted(actual, predicted, title):\n",
    "    tmp = pd.DataFrame({'actual': actual, 'predicted': predicted}).sort_values(['actual'])\n",
    "    plt.scatter(range(tmp.shape[0]), tmp['predicted'], color='green')\n",
    "    plt.scatter(range(tmp.shape[0]), tmp['actual'], color='blue')\n",
    "    plt.title(title)\n",
    "    plt.tick_params(labelbottom=False, labelleft=True, labelright=False, labeltop=False)\n",
    "    plt.legend()\n",
    "    plt.show()\n",
    "    del tmp"
   ]
  },
  {
   "cell_type": "code",
   "execution_count": null,
   "metadata": {},
   "outputs": [],
   "source": [
    "#for i in range(len(rosen)):\n",
    "#    actual = actual_predicted[actual_predicted['rosen'] == list(rosen.keys())[i]]['actual']\n",
    "#    predicted = actual_predicted[actual_predicted['rosen'] == list(rosen.keys())[i]]['predicted']\n",
    "#    title = list(rosen.keys())[i]\n",
    "#    plot_actual_predicted(actual, predicted, title)"
   ]
  },
  {
   "cell_type": "code",
   "execution_count": null,
   "metadata": {},
   "outputs": [],
   "source": [
    "fig, axes = plt.subplots(nrows=8, ncols=8, figsize=(60, 60))\n",
    "\n",
    "w = 0.3\n",
    "for i in range(8):\n",
    "    for j in range(8):\n",
    "        actual = actual_predicted[actual_predicted['rosen'] == list(rosen.keys())[\n",
    "            i*8+j]]['actual']\n",
    "        predicted = actual_predicted[actual_predicted['rosen'] == list(rosen.keys())[\n",
    "            i*8+j]]['predicted']\n",
    "        title = list(rosen.keys())[i*8+j]\n",
    "        tmp = pd.DataFrame(\n",
    "            {'actual': actual, 'predicted': predicted}).sort_values(['actual'])\n",
    "\n",
    "        axes[i, j].hold(True)\n",
    "        axes[i, j].bar(np.array(range(tmp.shape[0])),\n",
    "                       tmp['predicted'], width=w, color='green', alpha=0.8)\n",
    "        axes[i, j].bar(np.array(range(tmp.shape[0]))+w,\n",
    "                       tmp['actual'], width=w, color='blue', alpha=0.8)\n",
    "        axes[i, j].legend(['predicted', 'actual'])\n",
    "        if i*8+j == 3:\n",
    "            axes[i, j].set_title(\n",
    "                f'{title}\\n \\\n",
    "                ochiaigawa, takenami, kokokei, minosakamoto, kamado,\\\n",
    "                \\n sakashita, mizunami, tokishi, ena, nakatugawa, tajimi')\n",
    "        else:\n",
    "            axes[i, j].set_title(f'{title}')\n",
    "        axes[i, j].tick_params(\n",
    "            labelbottom=False, labelleft=True, labelright=False, labeltop=False)\n",
    "\n",
    "fig.savefig('output/actual_predicted', dpi=200)\n",
    "fig.show()"
   ]
  },
  {
   "cell_type": "code",
   "execution_count": null,
   "metadata": {},
   "outputs": [],
   "source": [
    "#中央本線\n",
    "#路線ID g_3.0\n",
    "#summary 3\n",
    "\n",
    "#駅数 11\n",
    "#多治見、土岐、瑞浪、恵那、中津川\n",
    "#5601, 2927, 2465, 3003, 4377"
   ]
  },
  {
   "cell_type": "markdown",
   "metadata": {},
   "source": [
    "瑞浪はほぼ実際と予測が同じ。まあ、多治見やら恵那やらはだいぶ実際が多い。"
   ]
  },
  {
   "cell_type": "code",
   "execution_count": null,
   "metadata": {},
   "outputs": [],
   "source": [
    "def plot_feature_importances(df, n_rosen, variable):\n",
    "    \n",
    "    plt.figure(figsize = (10, n_rosen//3))\n",
    "    ax = plt.subplot()\n",
    "    \n",
    "    ax.barh(list(reversed(list(df.index[:n_rosen]))), \n",
    "            df['value'].head(n_rosen),\n",
    "            align = 'center', edgecolor = 'k')\n",
    "    \n",
    "    ax.set_yticks(list(reversed(list(df.index[:n_rosen]))))\n",
    "    ax.set_yticklabels(df['rosen'].head(n_rosen))\n",
    "    \n",
    "    plt.xlabel('value')\n",
    "    plt.title(variable)\n",
    "    plt.savefig(f'output/{variable}')\n",
    "    plt.show()\n",
    "    \n",
    "    return df"
   ]
  },
  {
   "cell_type": "code",
   "execution_count": null,
   "metadata": {},
   "outputs": [],
   "source": [
    "n_rosen = len(rosen)\n",
    "variable = 'seppen'\n",
    "data = pd.DataFrame([rosen.keys(), a_summary.iloc[2:]], index=['rosen', 'value'])\n",
    "data = data.T\n",
    "plot_feature_importances(data, n_rosen, variable)"
   ]
  },
  {
   "cell_type": "code",
   "execution_count": null,
   "metadata": {},
   "outputs": [],
   "source": [
    "from scipy.stats import norm"
   ]
  },
  {
   "cell_type": "code",
   "execution_count": null,
   "metadata": {},
   "outputs": [],
   "source": [
    "loc = summary.loc['mu_a', '50%']\n",
    "scale = summary.loc['s_a', '50%']\n",
    "\n",
    "sns.distplot(data.value.astype(float), fit=norm)\n",
    "x = np.linspace(norm.ppf(0.01, loc, scale),\n",
    "                norm.ppf(0.99, loc, scale), 100)\n",
    "plt.plot(x, norm.pdf(x, loc, scale),\n",
    "        'r-', lw=2, alpha=0.6, label='norm pdf')"
   ]
  },
  {
   "cell_type": "code",
   "execution_count": null,
   "metadata": {},
   "outputs": [],
   "source": [
    "n_rosen = len(rosen)\n",
    "variable = 'joko'\n",
    "data = pd.DataFrame([rosen.keys(), b_summary.iloc[14::7]], index=['rosen', 'value'])\n",
    "data = data.T\n",
    "plot_feature_importances(data, n_rosen, variable)"
   ]
  },
  {
   "cell_type": "code",
   "execution_count": null,
   "metadata": {},
   "outputs": [],
   "source": [
    "loc = summary.loc['mu_b[0]', '50%']\n",
    "scale = summary.loc['s_b[0]', '50%']\n",
    "\n",
    "sns.distplot(data.value.astype(float), fit=norm)\n",
    "x = np.linspace(norm.ppf(0.01, loc, scale),\n",
    "                norm.ppf(0.99, loc, scale), 100)\n",
    "plt.plot(x, norm.pdf(x, loc, scale),\n",
    "        'r-', lw=2, alpha=0.6, label='norm pdf')"
   ]
  },
  {
   "cell_type": "code",
   "execution_count": null,
   "metadata": {},
   "outputs": [],
   "source": [
    "n_rosen = len(rosen)\n",
    "variable = 'jinko'\n",
    "data = pd.DataFrame([rosen.keys(), b_summary.iloc[15::7]], index=['rosen', 'value'])\n",
    "data = data.T\n",
    "plot_feature_importances(data, n_rosen, variable)"
   ]
  },
  {
   "cell_type": "code",
   "execution_count": null,
   "metadata": {},
   "outputs": [],
   "source": [
    "loc = summary.loc['mu_b[1]', '50%']\n",
    "scale = summary.loc['s_b[1]', '50%']\n",
    "\n",
    "sns.distplot(data.value.astype(float), fit=norm)\n",
    "x = np.linspace(norm.ppf(0.01, loc, scale),\n",
    "                norm.ppf(0.99, loc, scale), 100)\n",
    "plt.plot(x, norm.pdf(x, loc, scale),\n",
    "        'r-', lw=2, alpha=0.6, label='norm pdf')"
   ]
  },
  {
   "cell_type": "code",
   "execution_count": null,
   "metadata": {},
   "outputs": [],
   "source": [
    "n_rosen = len(rosen)\n",
    "variable = 'chukan'\n",
    "data = pd.DataFrame([rosen.keys(), b_summary.iloc[16::7]], index=['rosen', 'value'])\n",
    "data = data.T\n",
    "plot_feature_importances(data, n_rosen, variable)"
   ]
  },
  {
   "cell_type": "code",
   "execution_count": null,
   "metadata": {},
   "outputs": [],
   "source": [
    "loc = summary.loc['mu_b[2]', '50%']\n",
    "scale = summary.loc['s_b[2]', '50%']\n",
    "\n",
    "sns.distplot(data.value.astype(float), fit=norm)\n",
    "x = np.linspace(norm.ppf(0.01, loc, scale),\n",
    "                norm.ppf(0.99, loc, scale), 100)\n",
    "plt.plot(x, norm.pdf(x, loc, scale),\n",
    "        'r-', lw=2, alpha=0.6, label='norm pdf')"
   ]
  },
  {
   "cell_type": "code",
   "execution_count": null,
   "metadata": {},
   "outputs": [],
   "source": [
    "n_rosen = len(rosen)\n",
    "variable = 'dansei'\n",
    "data = pd.DataFrame([rosen.keys(), b_summary.iloc[17::7]], index=['rosen', 'value'])\n",
    "data = data.T\n",
    "plot_feature_importances(data, n_rosen, variable)"
   ]
  },
  {
   "cell_type": "code",
   "execution_count": null,
   "metadata": {},
   "outputs": [],
   "source": [
    "loc = summary.loc['mu_b[3]', '50%']\n",
    "scale = summary.loc['s_b[3]', '50%']\n",
    "\n",
    "sns.distplot(data.value.astype(float), fit=norm)\n",
    "x = np.linspace(norm.ppf(0.01, loc, scale),\n",
    "                norm.ppf(0.99, loc, scale), 100)\n",
    "plt.plot(x, norm.pdf(x, loc, scale),\n",
    "        'r-', lw=2, alpha=0.6, label='norm pdf')"
   ]
  },
  {
   "cell_type": "code",
   "execution_count": null,
   "metadata": {},
   "outputs": [],
   "source": [
    "n_rosen = len(rosen)\n",
    "variable = 'kodomo'\n",
    "data = pd.DataFrame([rosen.keys(), b_summary.iloc[18::7]], index=['rosen', 'value'])\n",
    "data = data.T\n",
    "plot_feature_importances(data, n_rosen, variable)"
   ]
  },
  {
   "cell_type": "code",
   "execution_count": null,
   "metadata": {},
   "outputs": [],
   "source": [
    "loc = summary.loc['mu_b[4]', '50%']\n",
    "scale = summary.loc['s_b[4]', '50%']\n",
    "\n",
    "sns.distplot(data.value.astype(float), fit=norm)\n",
    "x = np.linspace(norm.ppf(0.01, loc, scale),\n",
    "                norm.ppf(0.99, loc, scale), 100)\n",
    "plt.plot(x, norm.pdf(x, loc, scale),\n",
    "        'r-', lw=2, alpha=0.6, label='norm pdf')"
   ]
  },
  {
   "cell_type": "code",
   "execution_count": null,
   "metadata": {},
   "outputs": [],
   "source": [
    "n_rosen = len(rosen)\n",
    "variable = 'otoshiyori'\n",
    "data = pd.DataFrame([rosen.keys(), b_summary.iloc[19::7]], index=['rosen', 'value'])\n",
    "data = data.T\n",
    "plot_feature_importances(data, n_rosen, variable)"
   ]
  },
  {
   "cell_type": "code",
   "execution_count": null,
   "metadata": {},
   "outputs": [],
   "source": [
    "loc = summary.loc['mu_b[5]', '50%']\n",
    "scale = summary.loc['s_b[5]', '50%']\n",
    "\n",
    "sns.distplot(data.value.astype(float), fit=norm)\n",
    "x = np.linspace(norm.ppf(0.01, loc, scale),\n",
    "                norm.ppf(0.99, loc, scale), 100)\n",
    "plt.plot(x, norm.pdf(x, loc, scale),\n",
    "        'r-', lw=2, alpha=0.6, label='norm pdf')"
   ]
  },
  {
   "cell_type": "code",
   "execution_count": null,
   "metadata": {},
   "outputs": [],
   "source": [
    "n_rosen = len(rosen)\n",
    "variable = 'setaininzu'\n",
    "data = pd.DataFrame([rosen.keys(), b_summary.iloc[20::7]], index=['rosen', 'value'])\n",
    "data = data.T\n",
    "plot_feature_importances(data, n_rosen, variable)"
   ]
  },
  {
   "cell_type": "code",
   "execution_count": null,
   "metadata": {},
   "outputs": [],
   "source": [
    "loc = summary.loc['mu_b[6]', '50%']\n",
    "scale = summary.loc['s_b[6]', '50%']\n",
    "\n",
    "sns.distplot(data.value.astype(float), fit=norm)\n",
    "x = np.linspace(norm.ppf(0.01, loc, scale),\n",
    "                norm.ppf(0.99, loc, scale), 100)\n",
    "plt.plot(x, norm.pdf(x, loc, scale),\n",
    "        'r-', lw=2, alpha=0.6, label='norm pdf')"
   ]
  },
  {
   "cell_type": "markdown",
   "metadata": {},
   "source": [
    "中央本線、別に特徴がある路線ってわけでもない。"
   ]
  },
  {
   "cell_type": "code",
   "execution_count": null,
   "metadata": {},
   "outputs": [],
   "source": [
    "actual_predicted['ratio'] = (actual_predicted['predicted'] -\n",
    "                             actual_predicted['actual'])*100/actual_predicted['actual']\n",
    "actual_predicted = actual_predicted.replace(-np.inf, np.nan)\n",
    "actual_predicted = actual_predicted.replace(np.inf, np.nan)"
   ]
  },
  {
   "cell_type": "code",
   "execution_count": null,
   "metadata": {},
   "outputs": [],
   "source": [
    "actual_predicted.sort_values(by='ratio', ascending=False)[:20]"
   ]
  },
  {
   "cell_type": "code",
   "execution_count": null,
   "metadata": {},
   "outputs": [],
   "source": [
    "actual_predicted.sort_values(by='ratio')[:20]"
   ]
  },
  {
   "cell_type": "code",
   "execution_count": null,
   "metadata": {},
   "outputs": [],
   "source": [
    "actual_predicted['difference'] = (actual_predicted['predicted'] - actual_predicted['actual'])"
   ]
  },
  {
   "cell_type": "code",
   "execution_count": null,
   "metadata": {},
   "outputs": [],
   "source": [
    "actual_predicted.sort_values(by='difference', ascending=False)[:20]"
   ]
  },
  {
   "cell_type": "code",
   "execution_count": null,
   "metadata": {},
   "outputs": [],
   "source": [
    "actual_predicted.sort_values(by='difference')[:20]"
   ]
  },
  {
   "cell_type": "code",
   "execution_count": null,
   "metadata": {},
   "outputs": [],
   "source": [
    "actual_predicted['ratio'].mean()"
   ]
  },
  {
   "cell_type": "code",
   "execution_count": null,
   "metadata": {},
   "outputs": [],
   "source": [
    "actual_predicted['difference'].mean()"
   ]
  },
  {
   "cell_type": "code",
   "execution_count": null,
   "metadata": {},
   "outputs": [],
   "source": [
    "np.abs(actual_predicted['ratio']).mean()"
   ]
  },
  {
   "cell_type": "code",
   "execution_count": null,
   "metadata": {},
   "outputs": [],
   "source": [
    "np.abs(actual_predicted['difference']).mean()"
   ]
  },
  {
   "cell_type": "code",
   "execution_count": null,
   "metadata": {},
   "outputs": [],
   "source": [
    "sns.distplot(actual_predicted[actual_predicted['ratio'].notnull()]['ratio'])"
   ]
  },
  {
   "cell_type": "code",
   "execution_count": null,
   "metadata": {},
   "outputs": [],
   "source": [
    "sns.distplot(actual_predicted['difference'])"
   ]
  },
  {
   "cell_type": "code",
   "execution_count": null,
   "metadata": {},
   "outputs": [],
   "source": []
  }
 ],
 "metadata": {
  "hide_input": false,
  "kernelspec": {
   "display_name": "Python 3",
   "language": "python",
   "name": "python3"
  },
  "language_info": {
   "codemirror_mode": {
    "name": "ipython",
    "version": 3
   },
   "file_extension": ".py",
   "mimetype": "text/x-python",
   "name": "python",
   "nbconvert_exporter": "python",
   "pygments_lexer": "ipython3",
   "version": "3.6.4"
  }
 },
 "nbformat": 4,
 "nbformat_minor": 2
}
