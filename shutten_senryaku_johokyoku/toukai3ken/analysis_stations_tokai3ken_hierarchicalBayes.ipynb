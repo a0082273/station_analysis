{
 "cells": [
  {
   "cell_type": "markdown",
   "metadata": {},
   "source": [
    "# 乗降客数"
   ]
  },
  {
   "cell_type": "code",
   "execution_count": null,
   "metadata": {},
   "outputs": [],
   "source": [
    "stations = pd.read_csv('input/stations_tokai3ken_edited.csv', index_col=0)"
   ]
  },
  {
   "cell_type": "code",
   "execution_count": null,
   "metadata": {},
   "outputs": [],
   "source": [
    "stations"
   ]
  },
  {
   "cell_type": "code",
   "execution_count": null,
   "metadata": {},
   "outputs": [],
   "source": [
    "#sns.pointplot(x=\"乗降客数（日）\", y=\"飲食店事業所数\", hue=\"路線ID\", data=stations)"
   ]
  },
  {
   "cell_type": "code",
   "execution_count": null,
   "metadata": {},
   "outputs": [],
   "source": [
    "stations['路線ID'].value_counts()"
   ]
  },
  {
   "cell_type": "code",
   "execution_count": null,
   "metadata": {},
   "outputs": [],
   "source": [
    "a_23 = stations[stations['路線ID'] == 'a_23.0'].sort_values(by='乗降客数（日）')\n",
    "m_2 = stations[stations['路線ID'] == 'm_2.0'].sort_values(by='乗降客数（日）')\n",
    "g_0 = stations[stations['路線ID'] == 'g_0.0'].sort_values(by='乗降客数（日）')\n",
    "m_12 = stations[stations['路線ID'] == 'm_12.0'].sort_values(by='乗降客数（日）')\n",
    "a_3 = stations[stations['路線ID'] == 'a_3.0'].sort_values(by='乗降客数（日）')\n",
    "a_0 = stations[stations['路線ID'] == 'a_0.0'].sort_values(by='乗降客数（日）')\n",
    "#rosen_vc = pd.concat([a_23, m_2, g_0, m_12, a_3, a_0], axis=0)\n",
    "#rosen_vc_log = rosen_vc.copy()\n",
    "#rosen_vc_log['飲食店事業所数'] = np.log1p(rosen_vc['飲食店事業所数'].values)"
   ]
  },
  {
   "cell_type": "code",
   "execution_count": null,
   "metadata": {},
   "outputs": [],
   "source": [
    "#print(a_23['乗降客数（日）'].max(), a_0['乗降客数（日）'].max(), a_3['乗降客数（日）'].max())"
   ]
  },
  {
   "cell_type": "code",
   "execution_count": null,
   "metadata": {},
   "outputs": [],
   "source": [
    "#plt.figure(figsize=(16, 12))\n",
    "#sns.pointplot(x=\"乗降客数（日）\", y=\"飲食店事業所数\", hue=\"路線ID\", data=rosen_vc)"
   ]
  },
  {
   "cell_type": "code",
   "execution_count": null,
   "metadata": {},
   "outputs": [],
   "source": [
    "#plt.figure(figsize=(16, 12))\n",
    "#sns.pointplot(x=\"乗降客数（日）\", y=\"飲食店事業所数\", hue=\"路線ID\", data=rosen_vc_log)"
   ]
  },
  {
   "cell_type": "code",
   "execution_count": null,
   "metadata": {},
   "outputs": [],
   "source": [
    "#plt.figure(figsize=(16, 12))\n",
    "#sns.pointplot(x=\"乗降客数（日）\", y=\"飲食店事業所数\", data=a_0, color='black')\n",
    "#sns.pointplot(x=\"乗降客数（日）\", y=\"飲食店事業所数\", data=a_3, color='yellow')\n",
    "#sns.pointplot(x=\"乗降客数（日）\", y=\"飲食店事業所数\", data=m_12, color='purple')\n",
    "#sns.pointplot(x=\"乗降客数（日）\", y=\"飲食店事業所数\", data=g_0, color='green')\n",
    "#sns.pointplot(x=\"乗降客数（日）\", y=\"飲食店事業所数\", data=m_2, color='blue')\n",
    "#sns.pointplot(x=\"乗降客数（日）\", y=\"飲食店事業所数\", data=a_23, color='red')"
   ]
  },
  {
   "cell_type": "code",
   "execution_count": null,
   "metadata": {},
   "outputs": [],
   "source": [
    "plt.figure(figsize=(10, 6))\n",
    "plt.plot(a_23[\"乗降客数（日）\"], a_23[\"飲食店事業所数\"], 'o-')\n",
    "plt.plot(m_2[\"乗降客数（日）\"], m_2[\"飲食店事業所数\"], 'o-')\n",
    "plt.plot(g_0[\"乗降客数（日）\"], g_0[\"飲食店事業所数\"], 'o-')\n",
    "plt.plot(m_12[\"乗降客数（日）\"], m_12[\"飲食店事業所数\"], 'o-')\n",
    "plt.plot(a_3[\"乗降客数（日）\"], a_3[\"飲食店事業所数\"], 'o-')\n",
    "plt.plot(a_0[\"乗降客数（日）\"], a_0[\"飲食店事業所数\"], 'o-')"
   ]
  },
  {
   "cell_type": "markdown",
   "metadata": {},
   "source": [
    "# ここから"
   ]
  },
  {
   "cell_type": "code",
   "execution_count": null,
   "metadata": {},
   "outputs": [],
   "source": [
    "import pystan"
   ]
  },
  {
   "cell_type": "code",
   "execution_count": null,
   "metadata": {},
   "outputs": [],
   "source": [
    "X = pd.concat([stations['乗降客数（日）'], stations['路線ID']], axis=1)\n",
    "y = stations['飲食店事業所数']"
   ]
  },
  {
   "cell_type": "code",
   "execution_count": null,
   "metadata": {},
   "outputs": [],
   "source": [
    "from sklearn.model_selection import train_test_split\n",
    "X_train, X_test, y_train, y_test = train_test_split(X, y, random_state=42)"
   ]
  },
  {
   "cell_type": "code",
   "execution_count": null,
   "metadata": {},
   "outputs": [],
   "source": [
    "#多治見、土岐、(瑞浪、)恵那、中津川をtestに移動\n",
    "X_tono = pd.DataFrame(data=[X_train.loc['g_1189'], X_train.loc['g_1190'], X_train.loc['g_1194'], X_train.loc['g_1196']])\n",
    "X_test = pd.concat([X_test, X_tono], axis=0)\n",
    "X_train = X_train.drop(['g_1189', 'g_1190', 'g_1194', 'g_1196'], axis=0)\n",
    "y_tono = pd.Series(data=[y_train.loc['g_1189'], y_train.loc['g_1190'], y_train.loc['g_1194'], y_train.loc['g_1196']],\n",
    "                      index=['g_1189', 'g_1190', 'g_1194', 'g_1196'])\n",
    "y_test = pd.concat([y_test, y_tono], axis=0)\n",
    "y_train = y_train.drop(['g_1189', 'g_1190', 'g_1194', 'g_1196'], axis=0)"
   ]
  },
  {
   "cell_type": "code",
   "execution_count": null,
   "metadata": {},
   "outputs": [],
   "source": [
    "#X_train"
   ]
  },
  {
   "cell_type": "code",
   "execution_count": null,
   "metadata": {},
   "outputs": [],
   "source": [
    "rosen = dict(zip(stations['路線ID'].unique(), range(1, 1+len(stations['路線ID'].unique()))))\n",
    "Rosen_train = []\n",
    "Rosen_test = []\n",
    "for i in range(len(X_train)):\n",
    "    Rosen_train.append(rosen[X_train['路線ID'][i]])\n",
    "for i in range(len(X_test)):\n",
    "    Rosen_test.append(rosen[X_test['路線ID'][i]])\n",
    "\n",
    "data = dict(\n",
    "    N_train=X_train.shape[0],\n",
    "    N_test=X_test.shape[0],\n",
    "    N_rosen=len(rosen),\n",
    "    Joko_train=X_train['乗降客数（日）'],\n",
    "    Joko_test=X_test['乗降客数（日）'],\n",
    "    Rosen_train=Rosen_train,\n",
    "    Rosen_test=Rosen_test,\n",
    "    Inshoku_train=y_train.values\n",
    ")"
   ]
  },
  {
   "cell_type": "code",
   "execution_count": null,
   "metadata": {},
   "outputs": [],
   "source": [
    "model = '''\n",
    "data {\n",
    "    int N_train;\n",
    "    int N_test;\n",
    "    int N_rosen;\n",
    "    vector<lower=0>[N_train] Joko_train;\n",
    "    vector<lower=0>[N_test] Joko_test;\n",
    "    int<lower=1> Rosen_train[N_train];\n",
    "    int<lower=1> Rosen_test[N_test];\n",
    "    vector<lower=0>[N_train] Inshoku_train;\n",
    "}\n",
    "\n",
    "parameters {\n",
    "    real mu_a;\n",
    "    real mu_b;\n",
    "    real<lower=0> mu_s;\n",
    "    real<lower=0> s_a;\n",
    "    real<lower=0> s_b;\n",
    "    real<lower=0> s_s;\n",
    "    vector[N_rosen] a;\n",
    "    vector[N_rosen] b;\n",
    "    vector[N_rosen] s;\n",
    "}\n",
    "\n",
    "model {\n",
    "    a ~ normal(mu_a, s_a)\n",
    "    b ~ normal(mu_b, s_b)\n",
    "    s ~ normal(mu_s, s_s)\n",
    "    for (i in 1:N_train)\n",
    "        Inshoku_train[i] ~ normal(a[Rosen_train[i]] + b[Rosen_train[i]]*Joko_train, s[Rosen_train[i]]);\n",
    "}\n",
    "\n",
    "generated quantities{\n",
    "    vector[N_test] predict;\n",
    "    for (i in 1:N_test)\n",
    "        predict[i] = normal_rng(a[Rosen_test[i]] + b[Rosen_test[i]]*Joko_test[i], s[Rosen_test[i]]);\n",
    "}\n",
    "'''"
   ]
  },
  {
   "cell_type": "code",
   "execution_count": null,
   "metadata": {},
   "outputs": [],
   "source": [
    "fit = pystan.stan(model_code=model, data=data, chains=3, iter=1000, warmup=200, thin=1)"
   ]
  },
  {
   "cell_type": "code",
   "execution_count": null,
   "metadata": {},
   "outputs": [],
   "source": [
    "fit"
   ]
  },
  {
   "cell_type": "code",
   "execution_count": null,
   "metadata": {},
   "outputs": [],
   "source": [
    "fit.extract()['predict'][0]"
   ]
  },
  {
   "cell_type": "code",
   "execution_count": null,
   "metadata": {},
   "outputs": [],
   "source": [
    "#y_test"
   ]
  },
  {
   "cell_type": "code",
   "execution_count": null,
   "metadata": {},
   "outputs": [],
   "source": [
    "predict = fit.extract()['predict'][0]"
   ]
  },
  {
   "cell_type": "code",
   "execution_count": null,
   "metadata": {},
   "outputs": [],
   "source": [
    "fig, ax = plt.subplots()\n",
    "ax.scatter(predict, y_test, edgecolors=(0, 0, 0))\n",
    "ax.plot([predict.min(), predict.max()], [predict.min(), predict.max()], 'k--', lw=1)\n",
    "#ax.plot([y_test.min(), y_test.max()], [y_test.min(), y_test.max()], 'k--', lw=1)\n",
    "ax.set_xlabel('Predicted')\n",
    "ax.set_ylabel('Measured')\n",
    "plt.show()"
   ]
  },
  {
   "cell_type": "code",
   "execution_count": null,
   "metadata": {},
   "outputs": [],
   "source": []
  }
 ],
 "metadata": {
  "kernelspec": {
   "display_name": "Python 3",
   "language": "python",
   "name": "python3"
  },
  "language_info": {
   "codemirror_mode": {
    "name": "ipython",
    "version": 3
   },
   "file_extension": ".py",
   "mimetype": "text/x-python",
   "name": "python",
   "nbconvert_exporter": "python",
   "pygments_lexer": "ipython3",
   "version": "3.6.4"
  }
 },
 "nbformat": 4,
 "nbformat_minor": 2
}
