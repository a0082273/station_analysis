{
 "cells": [
  {
   "cell_type": "code",
   "execution_count": null,
   "metadata": {},
   "outputs": [],
   "source": [
    "import pystan"
   ]
  },
  {
   "cell_type": "code",
   "execution_count": null,
   "metadata": {},
   "outputs": [],
   "source": [
    "stations = pd.read_csv('input/stations_tokai3ken_edited.csv', index_col=0)"
   ]
  },
  {
   "cell_type": "code",
   "execution_count": null,
   "metadata": {},
   "outputs": [],
   "source": [
    "X = pd.concat([stations['乗降客数（日）'], stations['路線ID']], axis=1)\n",
    "y = stations['飲食店事業所数']"
   ]
  },
  {
   "cell_type": "code",
   "execution_count": null,
   "metadata": {},
   "outputs": [],
   "source": [
    "rosen = dict(zip(stations['路線ID'].unique(), range(1, 1+len(stations['路線ID'].unique()))))\n",
    "Rosen = []\n",
    "for i in range(len(X)):\n",
    "    Rosen.append(rosen[X['路線ID'][i]])\n",
    "\n",
    "data = dict(\n",
    "    N_station=X.shape[0],\n",
    "    N_rosen=len(rosen),\n",
    "    Chukan=X['乗降客数（日）'].values,\n",
    "    Rosen=Rosen,\n",
    "    Inshoku=y.values\n",
    ")"
   ]
  },
  {
   "cell_type": "code",
   "execution_count": null,
   "metadata": {},
   "outputs": [],
   "source": [
    "model = '''\n",
    "data {\n",
    "    int N_station;\n",
    "    int N_rosen;\n",
    "    vector<lower=0>[N_station] Chukan;\n",
    "    int<lower=1> Rosen[N_station];\n",
    "    vector<lower=0>[N_station] Inshoku;\n",
    "}\n",
    "\n",
    "parameters {\n",
    "    real mu_a;\n",
    "    real<lower=0> mu_b;\n",
    "    real<lower=0> mu_s;\n",
    "    real<lower=0> s_a;\n",
    "    real<lower=0> s_b;\n",
    "    real<lower=0> s_s;\n",
    "    vector[N_rosen] a;\n",
    "    vector<lower=0>[N_rosen] b;\n",
    "    vector<lower=0>[N_rosen] s;\n",
    "}\n",
    "\n",
    "model {\n",
    "    a ~ student_t(4, mu_a, s_a);\n",
    "    b ~ student_t(4, mu_b, s_b);\n",
    "    s ~ student_t(4, mu_s, s_s);\n",
    "    for (i in 1:N_station)\n",
    "        Inshoku[i] ~ student_t(4, a[Rosen[i]] + b[Rosen[i]]*Chukan[i], s[Rosen[i]]);\n",
    "}\n",
    "\n",
    "generated quantities{\n",
    "    vector[N_station] predict;\n",
    "    for (i in 1:N_station)\n",
    "        predict[i] = student_t_rng(4, a[Rosen[i]] + b[Rosen[i]]*Chukan[i], s[Rosen[i]]);\n",
    "}\n",
    "'''"
   ]
  },
  {
   "cell_type": "code",
   "execution_count": null,
   "metadata": {},
   "outputs": [],
   "source": [
    "fit = pystan.stan(model_code=model, data=data, chains=3, iter=500, warmup=100, thin=1)\n",
    "#fit = pystan.stan(model_code=model, data=data, chains=4, iter=2000, warmup=500, thin=1)"
   ]
  },
  {
   "cell_type": "code",
   "execution_count": null,
   "metadata": {},
   "outputs": [],
   "source": [
    "fit"
   ]
  },
  {
   "cell_type": "code",
   "execution_count": null,
   "metadata": {},
   "outputs": [],
   "source": [
    "#MCMCサンプリングの結果を抽出\n",
    "ms = fit.extract(permuted=False, inc_warmup=True)\n",
    "#ウォームアップ（バーンイン）のサイズを取得\n",
    "iter_from = fit.sim['warmup']\n",
    "#ウォームアップの区間を省く\n",
    "iter_range = np.arange(iter_from, ms.shape[0])\n",
    "#各変数名を取得\n",
    "paraname = fit.sim['fnames_oi']\n",
    "\n",
    "#※※※今回は全て描画したいので、こちらを使う\n",
    "iter_start = np.arange(0, ms.shape[0])"
   ]
  },
  {
   "cell_type": "code",
   "execution_count": null,
   "metadata": {},
   "outputs": [],
   "source": [
    "#seabornのcolorpalette\n",
    "palette = sns.color_palette()\n",
    "#おまじない？\n",
    "sns.set(font_scale=1)\n",
    "sns.set_style(\"ticks\")\n",
    "sns.despine(offset=10, trim=True)\n",
    "\n",
    "#複数グラフの描画（これしか方法知らない）\n",
    "fig,axes  = plt.subplots(nrows=2, ncols=3, figsize=(15,10))\n",
    "\n",
    "for i in range(2):\n",
    "    for j in range(3):\n",
    "        axes[i,j].plot(iter_start, ms[iter_start, :, i*3+j], \n",
    "                       linewidth=2, color=palette[i*3+j])\n",
    "        axes[i,j].set_title(paraname[i*3+j])\n",
    "        axes[i,j].set_xlabel('mcmc_size')\n",
    "        axes[i,j].set_ylabel('parameter')\n",
    "        axes[i,j].grid(True)\n",
    "\n",
    "fig.show()"
   ]
  },
  {
   "cell_type": "code",
   "execution_count": null,
   "metadata": {},
   "outputs": [],
   "source": [
    "summary = pd.DataFrame(data=fit.summary()['summary'], index=fit.summary()['summary_rownames'], columns=fit.summary()['summary_colnames'])"
   ]
  },
  {
   "cell_type": "code",
   "execution_count": null,
   "metadata": {},
   "outputs": [],
   "source": [
    "pred = summary.query('index.str.startswith(\"predict\")', engine='python')['50%'].values"
   ]
  },
  {
   "cell_type": "code",
   "execution_count": null,
   "metadata": {},
   "outputs": [],
   "source": [
    "#RMSE\n",
    "np.sqrt(np.mean((y.values-pred)**2))"
   ]
  },
  {
   "cell_type": "code",
   "execution_count": null,
   "metadata": {},
   "outputs": [],
   "source": [
    "from sklearn.metrics import r2_score\n",
    "r2_score(y.values, pred)"
   ]
  },
  {
   "cell_type": "code",
   "execution_count": null,
   "metadata": {},
   "outputs": [],
   "source": [
    "fig, ax = plt.subplots()\n",
    "ax.scatter(pred, y, edgecolors=(0, 0, 0))\n",
    "ax.plot([y.min(), y.max()], [y.min(), y.max()], 'k--', lw=1)\n",
    "ax.set_xlabel('Predicted')\n",
    "ax.set_ylabel('Measured')\n",
    "plt.show()"
   ]
  },
  {
   "cell_type": "code",
   "execution_count": null,
   "metadata": {},
   "outputs": [],
   "source": [
    "rosen_uniq = stations['路線ID'].unique()"
   ]
  },
  {
   "cell_type": "code",
   "execution_count": null,
   "metadata": {
    "code_folding": [
     2
    ]
   },
   "outputs": [],
   "source": [
    "fig, axes = plt.subplots(nrows=8, ncols=8, figsize=(60,60))\n",
    "\n",
    "for i in range(8):\n",
    "    for j in range(8):\n",
    "        plt.hold(True);\n",
    "        a = summary.loc[f'a[{i*8+j}]', '50%']\n",
    "        b = summary.loc[f'b[{i*8+j}]', '50%']\n",
    "        s = summary.loc[f's[{i*8+j}]', '50%']\n",
    "        xxx = stations[stations['路線ID'] == rosen_uniq[i*8+j]].sort_values(by='乗降客数（日）')[\"乗降客数（日）\"]\n",
    "        yyy = stations[stations['路線ID'] == rosen_uniq[i*8+j]].sort_values(by='乗降客数（日）')[\"飲食店事業所数\"]\n",
    "        axes[i,j].plot(xxx, yyy, 'o-')\n",
    "        xx = range(int(xxx.tolist()[-1]))\n",
    "        yy = a + b*xx\n",
    "        axes[i,j].plot(xx, yy)\n",
    "        if i*8+j == 3:\n",
    "            axes[i,j].set_title(\n",
    "                f'{i*8+j}, a={a:.2f}, b={b:.4f}, s={s:.2f}, {rosen_uniq[i*8+j]}\\n \\\n",
    "                ochiaigawa, takenami, kokokei, minosakamoto, kamado,\\\n",
    "                \\n sakashita, mizunami, tokishi, ena, nakatugawa, tajimi')\n",
    "        else:\n",
    "            axes[i,j].set_title(f'{i*8+j}, a={a:.2f}, b={b:.4f}, s={s:.2f}, {rosen_uniq[i*8+j]}')\n",
    "        if i*8+j == 62: #本当は64個あるけど、64+1=65個はきれいに並べれないから、最後の1個省く\n",
    "            break\n",
    "a = summary.loc['mu_a', '50%']\n",
    "b = summary.loc['mu_b', '50%']\n",
    "s = summary.loc['mu_s', '50%']\n",
    "xxx = stations.sort_values(by='乗降客数（日）')[\"乗降客数（日）\"]\n",
    "yyy = stations.sort_values(by='乗降客数（日）')[\"飲食店事業所数\"]\n",
    "axes[7,7].plot(xxx, yyy, 'o')\n",
    "xx = range(int(xxx.tolist()[-1]))\n",
    "yy = a + b*xx\n",
    "axes[7,7].plot(xx, yy)\n",
    "axes[7,7].set_title(f'{0}, a={a:.2f}, b={b:.4f}, s={s:.2f}, total')\n",
    "\n",
    "x_mizunami = 9441\n",
    "y_mizunami = 22\n",
    "x_tokishi = 11764\n",
    "y_tokishi = 39\n",
    "x_ena = 6367\n",
    "y_ena = 31\n",
    "x_nakatsugawa = 7096\n",
    "y_nakatsugawa = 52\n",
    "x_tajimi = 27188\n",
    "y_tajimi = 50\n",
    "axes[7,7].plot(x_mizunami, y_mizunami, 'ro', x_tokishi, y_tokishi, 'yo', x_ena, y_ena,\n",
    "               'yo', x_nakatsugawa, y_nakatsugawa, 'yo', x_tajimi, y_tajimi, 'yo')\n",
    "\n",
    "fig.savefig('output/hierarchical_bayes_joko', dpi=200)\n",
    "fig.show()"
   ]
  },
  {
   "cell_type": "code",
   "execution_count": null,
   "metadata": {},
   "outputs": [],
   "source": [
    "a_summary = summary.query('index.str.contains(\"a\")', engine='python')['50%']"
   ]
  },
  {
   "cell_type": "code",
   "execution_count": null,
   "metadata": {},
   "outputs": [],
   "source": [
    "a_summary"
   ]
  },
  {
   "cell_type": "code",
   "execution_count": null,
   "metadata": {},
   "outputs": [],
   "source": [
    "b_summary = summary.query('index.str.contains(\"b\")', engine='python')['50%']"
   ]
  },
  {
   "cell_type": "code",
   "execution_count": null,
   "metadata": {},
   "outputs": [],
   "source": [
    "b_summary"
   ]
  },
  {
   "cell_type": "code",
   "execution_count": null,
   "metadata": {},
   "outputs": [],
   "source": [
    "s_summary = summary.query('index.str.contains(\"s\")', engine='python')['50%']"
   ]
  },
  {
   "cell_type": "code",
   "execution_count": null,
   "metadata": {},
   "outputs": [],
   "source": [
    "s_summary"
   ]
  },
  {
   "cell_type": "code",
   "execution_count": null,
   "metadata": {},
   "outputs": [],
   "source": []
  }
 ],
 "metadata": {
  "kernelspec": {
   "display_name": "Python 3",
   "language": "python",
   "name": "python3"
  },
  "language_info": {
   "codemirror_mode": {
    "name": "ipython",
    "version": 3
   },
   "file_extension": ".py",
   "mimetype": "text/x-python",
   "name": "python",
   "nbconvert_exporter": "python",
   "pygments_lexer": "ipython3",
   "version": "3.6.4"
  }
 },
 "nbformat": 4,
 "nbformat_minor": 2
}
