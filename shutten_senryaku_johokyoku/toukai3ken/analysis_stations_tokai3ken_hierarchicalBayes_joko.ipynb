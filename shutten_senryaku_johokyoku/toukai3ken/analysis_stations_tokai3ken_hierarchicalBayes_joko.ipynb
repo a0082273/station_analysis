{
 "cells": [
  {
   "cell_type": "markdown",
   "metadata": {},
   "source": [
    "# 乗降客数"
   ]
  },
  {
   "cell_type": "code",
   "execution_count": null,
   "metadata": {},
   "outputs": [],
   "source": [
    "stations = pd.read_csv('input/stations_tokai3ken_edited.csv', index_col=0)"
   ]
  },
  {
   "cell_type": "code",
   "execution_count": null,
   "metadata": {},
   "outputs": [],
   "source": [
    "a_23 = stations[stations['路線ID'] == 'a_23.0'].sort_values(by='乗降客数（日）')\n",
    "m_2 = stations[stations['路線ID'] == 'm_2.0'].sort_values(by='乗降客数（日）')"
   ]
  },
  {
   "cell_type": "code",
   "execution_count": null,
   "metadata": {},
   "outputs": [],
   "source": [
    "plt.figure(figsize=(10, 6))\n",
    "plt.plot(a_23[\"乗降客数（日）\"], a_23[\"飲食店事業所数\"], 'o-')\n",
    "#plt.plot(a_23[\"乗降客数（日）\"]/10000, a_23[\"飲食店事業所数\"], 'o-')"
   ]
  },
  {
   "cell_type": "code",
   "execution_count": null,
   "metadata": {},
   "outputs": [],
   "source": [
    "plt.figure(figsize=(10, 6))\n",
    "plt.plot(m_2[\"乗降客数（日）\"], m_2[\"飲食店事業所数\"], 'o-')"
   ]
  },
  {
   "cell_type": "markdown",
   "metadata": {},
   "source": [
    "# ここから"
   ]
  },
  {
   "cell_type": "code",
   "execution_count": null,
   "metadata": {},
   "outputs": [],
   "source": [
    "import pystan"
   ]
  },
  {
   "cell_type": "code",
   "execution_count": null,
   "metadata": {},
   "outputs": [],
   "source": [
    "stations = pd.read_csv('input/stations_tokai3ken_edited.csv', index_col=0)"
   ]
  },
  {
   "cell_type": "code",
   "execution_count": null,
   "metadata": {},
   "outputs": [],
   "source": [
    "#stations = stations.query('路線ID == [\"a_23.0\", \"m_2.0\"]')\n",
    "#stations = stations.query('路線ID == \"a_23.0\"')"
   ]
  },
  {
   "cell_type": "code",
   "execution_count": null,
   "metadata": {},
   "outputs": [],
   "source": [
    "stations"
   ]
  },
  {
   "cell_type": "code",
   "execution_count": null,
   "metadata": {},
   "outputs": [],
   "source": [
    "X = pd.concat([stations['乗降客数（日）'], stations['路線ID']], axis=1)\n",
    "y = stations['飲食店事業所数']"
   ]
  },
  {
   "cell_type": "code",
   "execution_count": null,
   "metadata": {},
   "outputs": [],
   "source": [
    "#X['乗降客数（日）'] = X['乗降客数（日）']/X['乗降客数（日）'].max()\n",
    "#y = y/y.max()"
   ]
  },
  {
   "cell_type": "code",
   "execution_count": null,
   "metadata": {},
   "outputs": [],
   "source": [
    "#X['乗降客数（日）'] = X['乗降客数（日）']/10000"
   ]
  },
  {
   "cell_type": "code",
   "execution_count": null,
   "metadata": {},
   "outputs": [],
   "source": [
    "from sklearn.model_selection import train_test_split\n",
    "X_train, X_test, y_train, y_test = train_test_split(X, y, random_state=42)"
   ]
  },
  {
   "cell_type": "code",
   "execution_count": null,
   "metadata": {},
   "outputs": [],
   "source": [
    "#多治見、土岐、(瑞浪、)恵那、中津川をtestに移動\n",
    "X_tono = pd.DataFrame(data=[X_train.loc['g_1189'], X_train.loc['g_1190'], X_train.loc['g_1194'], X_train.loc['g_1196']])\n",
    "X_test = pd.concat([X_test, X_tono], axis=0)\n",
    "X_train = X_train.drop(['g_1189', 'g_1190', 'g_1194', 'g_1196'], axis=0)\n",
    "y_tono = pd.Series(data=[y_train.loc['g_1189'], y_train.loc['g_1190'], y_train.loc['g_1194'], y_train.loc['g_1196']],\n",
    "                      index=['g_1189', 'g_1190', 'g_1194', 'g_1196'])\n",
    "y_test = pd.concat([y_test, y_tono], axis=0)\n",
    "y_train = y_train.drop(['g_1189', 'g_1190', 'g_1194', 'g_1196'], axis=0)"
   ]
  },
  {
   "cell_type": "code",
   "execution_count": null,
   "metadata": {},
   "outputs": [],
   "source": [
    "#X_train"
   ]
  },
  {
   "cell_type": "code",
   "execution_count": null,
   "metadata": {},
   "outputs": [],
   "source": [
    "rosen = dict(zip(stations['路線ID'].unique(), range(1, 1+len(stations['路線ID'].unique()))))\n",
    "Rosen_train = []\n",
    "Rosen_test = []\n",
    "for i in range(len(X_train)):\n",
    "    Rosen_train.append(rosen[X_train['路線ID'][i]])\n",
    "for i in range(len(X_test)):\n",
    "    Rosen_test.append(rosen[X_test['路線ID'][i]])\n",
    "\n",
    "data = dict(\n",
    "    N_train=X_train.shape[0],\n",
    "    N_test=X_test.shape[0],\n",
    "    N_rosen=len(rosen),\n",
    "    Joko_train=X_train['乗降客数（日）'].values,\n",
    "    Joko_test=X_test['乗降客数（日）'].values,\n",
    "    Rosen_train=Rosen_train,\n",
    "    Rosen_test=Rosen_test,\n",
    "    Inshoku_train=y_train.values\n",
    ")"
   ]
  },
  {
   "cell_type": "code",
   "execution_count": null,
   "metadata": {},
   "outputs": [],
   "source": [
    "model = '''\n",
    "data {\n",
    "    int N_train;\n",
    "    int N_test;\n",
    "    int N_rosen;\n",
    "    vector<lower=0>[N_train] Joko_train;\n",
    "    vector<lower=0>[N_test] Joko_test;\n",
    "    int<lower=1> Rosen_train[N_train];\n",
    "    int<lower=1> Rosen_test[N_test];\n",
    "    vector<lower=0>[N_train] Inshoku_train;\n",
    "}\n",
    "\n",
    "parameters {\n",
    "    real mu_a;\n",
    "    real<lower=0> mu_b;\n",
    "    real<lower=0> mu_s;\n",
    "    real<lower=0> s_a;\n",
    "    real<lower=0> s_b;\n",
    "    real<lower=0> s_s;\n",
    "    vector<lower=0, upper=50>[N_rosen] a;\n",
    "    vector<lower=0, upper=0.01>[N_rosen] b;\n",
    "    vector<lower=0, upper=25>[N_rosen] s;\n",
    "#    real<lower=0> s;\n",
    "}\n",
    "\n",
    "model {\n",
    "#    mu_a ~ uniform(0, 50);\n",
    "#    mu_b ~ uniform(0, 0.01);\n",
    "    a ~ normal(mu_a, s_a);\n",
    "    b ~ normal(mu_b, s_b);\n",
    "    s ~ normal(mu_s, s_s);\n",
    "#    a ~ uniform(0, 50);\n",
    "#    b ~ uniform(0, 0.01);\n",
    "#    s ~ uniform(0, 25);\n",
    "    for (i in 1:N_train)\n",
    "#        Inshoku_train[i] ~ normal(a[Rosen_train[i]] + b[Rosen_train[i]]*Joko_train[i], s[Rosen_train[i]]);\n",
    "#        Inshoku_train[i] ~ normal(a[Rosen_train[i]] + b[Rosen_train[i]]*Joko_train[i], s);\n",
    "        Inshoku_train[i] ~ student_t(4, a[Rosen_train[i]] + b[Rosen_train[i]]*Joko_train[i], s[Rosen_train[i]]);\n",
    "}\n",
    "\n",
    "generated quantities{\n",
    "    vector[N_test] predict;\n",
    "    for (i in 1:N_test)\n",
    "#        predict[i] = normal_rng(a[Rosen_test[i]] + b[Rosen_test[i]]*Joko_test[i], s[Rosen_test[i]]);\n",
    "#        predict[i] = normal_rng(a[Rosen_test[i]] + b[Rosen_test[i]]*Joko_test[i], s);\n",
    "        predict[i] = student_t_rng(4, a[Rosen_test[i]] + b[Rosen_test[i]]*Joko_test[i], s[Rosen_train[i]]);\n",
    "}\n",
    "'''"
   ]
  },
  {
   "cell_type": "code",
   "execution_count": null,
   "metadata": {},
   "outputs": [],
   "source": [
    "#fit = pystan.stan(model_code=model, data=data, chains=3, iter=500, warmup=100, thin=1)\n",
    "fit = pystan.stan(model_code=model, data=data, chains=4, iter=2000, warmup=500, thin=1)"
   ]
  },
  {
   "cell_type": "code",
   "execution_count": null,
   "metadata": {},
   "outputs": [],
   "source": [
    "fit"
   ]
  },
  {
   "cell_type": "code",
   "execution_count": null,
   "metadata": {},
   "outputs": [],
   "source": [
    "#fit.extract()['predict'][0]"
   ]
  },
  {
   "cell_type": "code",
   "execution_count": null,
   "metadata": {},
   "outputs": [],
   "source": [
    "#y_test"
   ]
  },
  {
   "cell_type": "code",
   "execution_count": null,
   "metadata": {},
   "outputs": [],
   "source": [
    "predict = fit.extract()['predict'][0]"
   ]
  },
  {
   "cell_type": "code",
   "execution_count": null,
   "metadata": {},
   "outputs": [],
   "source": [
    "fig, ax = plt.subplots()\n",
    "ax.scatter(predict, y_test, edgecolors=(0, 0, 0))\n",
    "#ax.plot([predict.min(), predict.max()], [predict.min(), predict.max()], 'k--', lw=1)\n",
    "ax.plot([y_test.min(), y_test.max()], [y_test.min(), y_test.max()], 'k--', lw=1)\n",
    "ax.set_xlabel('Predicted')\n",
    "ax.set_ylabel('Measured')\n",
    "plt.show()"
   ]
  },
  {
   "cell_type": "code",
   "execution_count": null,
   "metadata": {},
   "outputs": [],
   "source": [
    "#MCMCサンプリングの結果を抽出\n",
    "ms = fit.extract(permuted=False, inc_warmup=True)\n",
    "#ウォームアップ（バーンイン）のサイズを取得\n",
    "iter_from = fit.sim['warmup']\n",
    "#ウォームアップの区間を省く\n",
    "iter_range = np.arange(iter_from, ms.shape[0])\n",
    "#各変数名を取得\n",
    "paraname = fit.sim['fnames_oi']\n",
    "\n",
    "#※※※今回は全て描画したいので、こちらを使う\n",
    "iter_start = np.arange(0, ms.shape[0])"
   ]
  },
  {
   "cell_type": "code",
   "execution_count": null,
   "metadata": {},
   "outputs": [],
   "source": [
    "#seabornのcolorpalette\n",
    "palette = sns.color_palette()\n",
    "#おまじない？\n",
    "sns.set(font_scale=1)\n",
    "sns.set_style(\"ticks\")\n",
    "sns.despine(offset=10, trim=True)\n",
    "\n",
    "#複数グラフの描画（これしか方法知らない）\n",
    "fig,axes  = plt.subplots(nrows=2, ncols=3, figsize=(15,10))\n",
    "\n",
    "for i in range(2):\n",
    "    for j in range(3):\n",
    "        axes[i,j].plot(iter_start, ms[iter_start, :, i*2+j], \n",
    "                       linewidth=2, color=palette[i*2+j])\n",
    "        axes[i,j].set_title(paraname[i*2+j])\n",
    "        axes[i,j].set_xlabel('mcmc_size')\n",
    "        axes[i,j].set_ylabel('parameter')\n",
    "        axes[i,j].grid(True)\n",
    "\n",
    "fig.show()"
   ]
  },
  {
   "cell_type": "code",
   "execution_count": null,
   "metadata": {},
   "outputs": [],
   "source": [
    "plt.hold(True);\n",
    "a = fit.extract()['a'][0, 0]\n",
    "b = fit.extract()['b'][0, 0]\n",
    "xx = range(250000)\n",
    "yy = a + b*xx\n",
    "plt.plot(xx, yy)\n",
    "plt.plot(a_23[\"乗降客数（日）\"], a_23[\"飲食店事業所数\"], 'o-')"
   ]
  },
  {
   "cell_type": "code",
   "execution_count": null,
   "metadata": {},
   "outputs": [],
   "source": [
    "plt.hold(True);\n",
    "a = fit.extract()['a'][0, 1]\n",
    "b = fit.extract()['b'][0, 1]\n",
    "xx = range(7000)\n",
    "yy = a + b*xx\n",
    "plt.plot(xx, yy)\n",
    "plt.plot(m_2[\"乗降客数（日）\"], m_2[\"飲食店事業所数\"], 'o-')"
   ]
  },
  {
   "cell_type": "markdown",
   "metadata": {},
   "source": [
    "一応それっぽくa, bが求めれてるのもあるけど、全体の精度ごみ\n",
    "\n",
    "データが悪かった（分散大きすぎ）から？"
   ]
  },
  {
   "cell_type": "code",
   "execution_count": null,
   "metadata": {},
   "outputs": [],
   "source": []
  }
 ],
 "metadata": {
  "kernelspec": {
   "display_name": "Python 3",
   "language": "python",
   "name": "python3"
  },
  "language_info": {
   "codemirror_mode": {
    "name": "ipython",
    "version": 3
   },
   "file_extension": ".py",
   "mimetype": "text/x-python",
   "name": "python",
   "nbconvert_exporter": "python",
   "pygments_lexer": "ipython3",
   "version": "3.6.4"
  }
 },
 "nbformat": 4,
 "nbformat_minor": 2
}
