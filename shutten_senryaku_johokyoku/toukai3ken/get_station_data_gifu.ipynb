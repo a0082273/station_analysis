{
 "cells": [
  {
   "cell_type": "code",
   "execution_count": null,
   "metadata": {},
   "outputs": [],
   "source": [
    "import pandas as pd\n",
    "import re\n",
    "import time"
   ]
  },
  {
   "cell_type": "code",
   "execution_count": null,
   "metadata": {
    "code_folding": []
   },
   "outputs": [],
   "source": [
    "#gifu\n",
    "#rosen_id = range(12)\n",
    "rosen = []\n",
    "rosen.append(range(1199, 1234))\n",
    "rosen.append(range(1180, 1188))\n",
    "rosen.append(range(1234, 1242))\n",
    "rosen.append(range(1188, 1199))\n",
    "rosen.append(range(1341, 1363))\n",
    "rosen.append(range(1339, 1340))\n",
    "rosen.append(range(1263, 1265))\n",
    "rosen.append(range(1248, 1257))\n",
    "rosen.append(range(1265, 1266))\n",
    "rosen.append(range(1266, 1278))\n",
    "rosen.append(range(1243, 1248))\n",
    "rosen.append(range(1279, 1297))\n",
    "station_id = [flatten for inner in rosen for flatten in inner]"
   ]
  },
  {
   "cell_type": "code",
   "execution_count": null,
   "metadata": {},
   "outputs": [],
   "source": [
    "url = f'https://storestrategy.jp/?category=1&area=4&pref=22&id={station_id[0]}'\n",
    "fetched_dataframe = pd.read_html(url)"
   ]
  },
  {
   "cell_type": "code",
   "execution_count": null,
   "metadata": {},
   "outputs": [],
   "source": [
    "fetched_dataframe[0]"
   ]
  },
  {
   "cell_type": "code",
   "execution_count": null,
   "metadata": {},
   "outputs": [],
   "source": [
    "cols = list(fetched_dataframe[0].iloc[1:, 0])\n",
    "inds = station_id\n",
    "stations = pd.DataFrame(index=inds, columns=cols)\n",
    "stations"
   ]
  },
  {
   "cell_type": "code",
   "execution_count": null,
   "metadata": {},
   "outputs": [],
   "source": [
    "for i, id in enumerate(station_id):\n",
    "    print(i, station_id.shape[0])\n",
    "    url = f'https://storestrategy.jp/?category=1&area=4&pref=22&id={id}'\n",
    "    fetched_dataframe = pd.read_html(url)\n",
    "    station = fetched_dataframe[0]\n",
    "    if station.shape[0] == 29:\n",
    "        stations.iloc[i, :] = station.iloc[1:, 1].values\n",
    "        time.sleep(5)\n",
    "    elif station.shape[0] == 30:\n",
    "        stations.iloc[i, :] = station.iloc[2:, 1].values\n",
    "        time.sleep(5)\n",
    "    else:\n",
    "        print(f'unexpected station.shape: id={id}')"
   ]
  },
  {
   "cell_type": "code",
   "execution_count": null,
   "metadata": {},
   "outputs": [],
   "source": [
    "stations"
   ]
  },
  {
   "cell_type": "code",
   "execution_count": null,
   "metadata": {},
   "outputs": [],
   "source": [
    "for i in range(len(rosen)):\n",
    "    for j in range(len(rosen[i])):\n",
    "        stations.loc[rosen[i][j], '路線ID'] = i"
   ]
  },
  {
   "cell_type": "code",
   "execution_count": null,
   "metadata": {},
   "outputs": [],
   "source": [
    "stations"
   ]
  },
  {
   "cell_type": "code",
   "execution_count": null,
   "metadata": {},
   "outputs": [],
   "source": [
    "stations.to_csv('input/stations_gifu.csv')"
   ]
  },
  {
   "cell_type": "code",
   "execution_count": null,
   "metadata": {},
   "outputs": [],
   "source": []
  }
 ],
 "metadata": {
  "kernelspec": {
   "display_name": "Python 3",
   "language": "python",
   "name": "python3"
  },
  "language_info": {
   "codemirror_mode": {
    "name": "ipython",
    "version": 3
   },
   "file_extension": ".py",
   "mimetype": "text/x-python",
   "name": "python",
   "nbconvert_exporter": "python",
   "pygments_lexer": "ipython3",
   "version": "3.6.4"
  }
 },
 "nbformat": 4,
 "nbformat_minor": 2
}
