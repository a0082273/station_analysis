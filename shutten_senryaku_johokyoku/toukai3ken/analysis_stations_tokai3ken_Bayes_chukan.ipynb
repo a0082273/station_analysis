{
 "cells": [
  {
   "cell_type": "markdown",
   "metadata": {},
   "source": [
    "# 昼間人口"
   ]
  },
  {
   "cell_type": "code",
   "execution_count": null,
   "metadata": {},
   "outputs": [],
   "source": [
    "import pystan"
   ]
  },
  {
   "cell_type": "code",
   "execution_count": null,
   "metadata": {},
   "outputs": [],
   "source": [
    "stations = pd.read_csv('input/stations_tokai3ken_edited.csv', index_col=0)"
   ]
  },
  {
   "cell_type": "code",
   "execution_count": null,
   "metadata": {},
   "outputs": [],
   "source": [
    "X = pd.concat([stations['昼間人口'], stations['路線ID']], axis=1)\n",
    "y = stations['飲食店事業所数']"
   ]
  },
  {
   "cell_type": "code",
   "execution_count": null,
   "metadata": {},
   "outputs": [],
   "source": [
    "rosen = dict(zip(stations['路線ID'].unique(), range(1, 1+len(stations['路線ID'].unique()))))\n",
    "Rosen = []\n",
    "for i in range(len(X)):\n",
    "    Rosen.append(rosen[X['路線ID'][i]])\n",
    "\n",
    "data = dict(\n",
    "    N_station=X.shape[0],\n",
    "    N_rosen=len(rosen),\n",
    "    Chukan=X['昼間人口'].values,\n",
    "    Rosen=Rosen,\n",
    "    Inshoku=y.values\n",
    ")"
   ]
  },
  {
   "cell_type": "code",
   "execution_count": null,
   "metadata": {
    "code_folding": []
   },
   "outputs": [],
   "source": [
    "model = '''\n",
    "data {\n",
    "    int N_station;\n",
    "    int N_rosen;\n",
    "    vector<lower=0>[N_station] Chukan;\n",
    "    int<lower=1> Rosen[N_station];\n",
    "    vector<lower=0>[N_station] Inshoku;\n",
    "}\n",
    "\n",
    "parameters {\n",
    "    vector<lower=-10, upper=10>[N_rosen] a;\n",
    "    vector<lower=0, upper=0.02>[N_rosen] b;\n",
    "    vector<lower=0, upper=10>[N_rosen] s;\n",
    "}\n",
    "\n",
    "model {\n",
    "    for (i in 1:N_station)\n",
    "        Inshoku[i] ~ student_t(4, a[Rosen[i]] + b[Rosen[i]]*Chukan[i], s[Rosen[i]]);\n",
    "}\n",
    "\n",
    "generated quantities{\n",
    "    vector[N_station] predict;\n",
    "    for (i in 1:N_station)\n",
    "        predict[i] = student_t_rng(4, a[Rosen[i]] + b[Rosen[i]]*Chukan[i], s[Rosen[i]]);\n",
    "}\n",
    "'''"
   ]
  },
  {
   "cell_type": "markdown",
   "metadata": {},
   "source": [
    "階層ベイズみたいにa, b, sの値を制限しないでやると、収束しない"
   ]
  },
  {
   "cell_type": "code",
   "execution_count": null,
   "metadata": {},
   "outputs": [],
   "source": [
    "fit = pystan.stan(model_code=model, data=data, chains=3, iter=500, warmup=100, thin=1)"
   ]
  },
  {
   "cell_type": "code",
   "execution_count": null,
   "metadata": {},
   "outputs": [],
   "source": [
    "fit"
   ]
  },
  {
   "cell_type": "code",
   "execution_count": null,
   "metadata": {},
   "outputs": [],
   "source": [
    "#MCMCサンプリングの結果を抽出\n",
    "ms = fit.extract(permuted=False, inc_warmup=True)\n",
    "#ウォームアップ（バーンイン）のサイズを取得\n",
    "iter_from = fit.sim['warmup']\n",
    "#ウォームアップの区間を省く\n",
    "iter_range = np.arange(iter_from, ms.shape[0])\n",
    "#各変数名を取得\n",
    "paraname = fit.sim['fnames_oi']\n",
    "\n",
    "#※※※今回は全て描画したいので、こちらを使う\n",
    "iter_start = np.arange(0, ms.shape[0])"
   ]
  },
  {
   "cell_type": "code",
   "execution_count": null,
   "metadata": {},
   "outputs": [],
   "source": [
    "#seabornのcolorpalette\n",
    "palette = sns.color_palette()\n",
    "#おまじない？\n",
    "sns.set(font_scale=1)\n",
    "sns.set_style(\"ticks\")\n",
    "sns.despine(offset=10, trim=True)\n",
    "\n",
    "#複数グラフの描画（これしか方法知らない）\n",
    "fig,axes  = plt.subplots(nrows=2, ncols=3, figsize=(15,10))\n",
    "\n",
    "for i in range(2):\n",
    "    for j in range(3):\n",
    "        axes[i,j].plot(iter_start, ms[iter_start, :, i*3+j], \n",
    "                       linewidth=2, color=palette[i*3+j])\n",
    "        axes[i,j].set_title(paraname[i*3+j])\n",
    "        axes[i,j].set_xlabel('mcmc_size')\n",
    "        axes[i,j].set_ylabel('parameter')\n",
    "        axes[i,j].grid(True)\n",
    "\n",
    "fig.show()"
   ]
  },
  {
   "cell_type": "code",
   "execution_count": null,
   "metadata": {},
   "outputs": [],
   "source": [
    "summary = pd.DataFrame(data=fit.summary()['summary'], index=fit.summary()['summary_rownames'], columns=fit.summary()['summary_colnames'])"
   ]
  },
  {
   "cell_type": "code",
   "execution_count": null,
   "metadata": {},
   "outputs": [],
   "source": [
    "summary"
   ]
  },
  {
   "cell_type": "code",
   "execution_count": null,
   "metadata": {},
   "outputs": [],
   "source": [
    "pred = summary.query('index.str.startswith(\"predict\")', engine='python')['50%'].values"
   ]
  },
  {
   "cell_type": "code",
   "execution_count": null,
   "metadata": {},
   "outputs": [],
   "source": [
    "#RMSE\n",
    "np.sqrt(np.mean((y.values-pred)**2))"
   ]
  },
  {
   "cell_type": "code",
   "execution_count": null,
   "metadata": {},
   "outputs": [],
   "source": [
    "from sklearn.metrics import r2_score\n",
    "r2_score(y.values, pred)"
   ]
  },
  {
   "cell_type": "code",
   "execution_count": null,
   "metadata": {},
   "outputs": [],
   "source": [
    "fig, ax = plt.subplots()\n",
    "ax.scatter(pred, y, edgecolors=(0, 0, 0))\n",
    "ax.plot([y.min(), y.max()], [y.min(), y.max()], 'k--', lw=1)\n",
    "ax.set_xlabel('Predicted')\n",
    "ax.set_ylabel('Measured')\n",
    "plt.show()"
   ]
  },
  {
   "cell_type": "code",
   "execution_count": null,
   "metadata": {},
   "outputs": [],
   "source": [
    "rosen_rank = stations['路線ID'].value_counts().index"
   ]
  },
  {
   "cell_type": "code",
   "execution_count": null,
   "metadata": {},
   "outputs": [],
   "source": [
    "rosen_rank"
   ]
  },
  {
   "cell_type": "code",
   "execution_count": null,
   "metadata": {},
   "outputs": [],
   "source": [
    "rosen_uniq = stations['路線ID'].unique()"
   ]
  },
  {
   "cell_type": "code",
   "execution_count": null,
   "metadata": {},
   "outputs": [],
   "source": [
    "len(rosen_rank)"
   ]
  },
  {
   "cell_type": "code",
   "execution_count": null,
   "metadata": {},
   "outputs": [],
   "source": [
    "fig, axes = plt.subplots(nrows=22, ncols=3, figsize=(15,100))\n",
    "\n",
    "for i in range(22):\n",
    "    for j in range(3):\n",
    "        plt.hold(True);\n",
    "        a = summary.loc[f'a[{i*3+j}]', '50%']\n",
    "        b = summary.loc[f'b[{i*3+j}]', '50%']\n",
    "        xxx = stations[stations['路線ID'] == rosen_uniq[i*3+j]].sort_values(by='昼間人口')[\"昼間人口\"]\n",
    "        yyy = stations[stations['路線ID'] == rosen_uniq[i*3+j]].sort_values(by='昼間人口')[\"飲食店事業所数\"]\n",
    "        axes[i,j].plot(xxx, yyy, 'o-')\n",
    "        xx = range(int(xxx.tolist()[-1]))\n",
    "        yy = a + b*xx\n",
    "        axes[i,j].plot(xx, yy)\n",
    "        axes[i,j].set_title(f'{i*3+j}, a={a:.2f}, b={b:.4f}, {rosen_uniq[i*3+j]}')\n",
    "        if i*3+j == 63:\n",
    "            break\n",
    "#fig.savefig('output/bayes_chukan', dpi=200)\n",
    "fig.show()"
   ]
  },
  {
   "cell_type": "code",
   "execution_count": null,
   "metadata": {},
   "outputs": [],
   "source": [
    "fig, axes = plt.subplots(nrows=7, ncols=9, figsize=(60,40))\n",
    "\n",
    "for i in range(7):\n",
    "    for j in range(9):\n",
    "        plt.hold(True);\n",
    "        a = summary.loc[f'a[{i*9+j}]', '50%']\n",
    "        b = summary.loc[f'b[{i*9+j}]', '50%']\n",
    "        xxx = stations[stations['路線ID'] == rosen_uniq[i*9+j]].sort_values(by='昼間人口')[\"昼間人口\"]\n",
    "        yyy = stations[stations['路線ID'] == rosen_uniq[i*9+j]].sort_values(by='昼間人口')[\"飲食店事業所数\"]\n",
    "        axes[i,j].plot(xxx, yyy, 'o-')\n",
    "        xx = range(int(xxx.tolist()[-1]))\n",
    "        yy = a + b*xx\n",
    "        axes[i,j].plot(xx, yy)\n",
    "        axes[i,j].set_title(f'{i*9+j}, a={a:.2f}, b={b:.4f}, {rosen_uniq[i*9+j]}')\n",
    "fig.savefig('output/bayes_chukan', dpi=200)\n",
    "fig.show()"
   ]
  },
  {
   "cell_type": "code",
   "execution_count": null,
   "metadata": {},
   "outputs": [],
   "source": [
    "#中央本線\n",
    "#路線ID g_3.0\n",
    "#summary 3\n",
    "\n",
    "#駅数 11\n",
    "#多治見、土岐、瑞浪、恵那、中津川\n",
    "#5601, 2927, 2465, 3003, 4377"
   ]
  },
  {
   "cell_type": "code",
   "execution_count": null,
   "metadata": {},
   "outputs": [],
   "source": [
    "a = summary.loc['a[3]', '50%']\n",
    "b = summary.loc['b[3]', '50%']\n",
    "xxx = stations[stations['路線ID'] == 'g_3.0'].sort_values(by='昼間人口')[\"昼間人口\"]\n",
    "yyy = stations[stations['路線ID'] == 'g_3.0'].sort_values(by='昼間人口')[\"飲食店事業所数\"]\n",
    "plt.plot(xxx, yyy, 'o-')\n",
    "xx = range(int(xxx.tolist()[-1]))\n",
    "yy = a + b*xx\n",
    "plt.plot(xx, yy)"
   ]
  },
  {
   "cell_type": "code",
   "execution_count": null,
   "metadata": {},
   "outputs": [],
   "source": [
    "a = summary.loc['mu_a', '50%']\n",
    "b = summary.loc['b[3]', '50%']\n",
    "xxx = stations[stations['路線ID'] == 'g_3.0'].sort_values(by='昼間人口')[\"昼間人口\"]\n",
    "yyy = stations[stations['路線ID'] == 'g_3.0'].sort_values(by='昼間人口')[\"飲食店事業所数\"]\n",
    "plt.plot(xxx, yyy, 'o-')\n",
    "xx = range(int(xxx.tolist()[-1]))\n",
    "yy = a + b*xx\n",
    "plt.plot(xx, yy)"
   ]
  },
  {
   "cell_type": "code",
   "execution_count": null,
   "metadata": {},
   "outputs": [],
   "source": []
  },
  {
   "cell_type": "code",
   "execution_count": null,
   "metadata": {},
   "outputs": [],
   "source": [
    "a_summary = summary.query('index.str.contains(\"a\")', engine='python')['50%']"
   ]
  },
  {
   "cell_type": "code",
   "execution_count": null,
   "metadata": {},
   "outputs": [],
   "source": [
    "a_summary"
   ]
  },
  {
   "cell_type": "code",
   "execution_count": null,
   "metadata": {},
   "outputs": [],
   "source": [
    "b_summary = summary.query('index.str.contains(\"b\")', engine='python')['50%']"
   ]
  },
  {
   "cell_type": "code",
   "execution_count": null,
   "metadata": {},
   "outputs": [],
   "source": [
    "b_summary"
   ]
  },
  {
   "cell_type": "code",
   "execution_count": null,
   "metadata": {},
   "outputs": [],
   "source": [
    "s_summary = summary.query('index.str.contains(\"s\")', engine='python')['50%']"
   ]
  },
  {
   "cell_type": "code",
   "execution_count": null,
   "metadata": {},
   "outputs": [],
   "source": [
    "s_summary"
   ]
  },
  {
   "cell_type": "code",
   "execution_count": null,
   "metadata": {},
   "outputs": [],
   "source": []
  },
  {
   "cell_type": "code",
   "execution_count": null,
   "metadata": {},
   "outputs": [],
   "source": []
  },
  {
   "cell_type": "markdown",
   "metadata": {},
   "source": [
    "乗降客数と比べて、まずまずいい感じにできてる\n",
    "\n",
    "bをmu_bとs_bから求めるときの分布は、normalよりもstudent_t(4)よりもcauchyの方が、RMSEとR2いい結果。\n",
    "\n",
    "ただ、b[3]が大きすぎて、b[4]が小さすぎる問題は直らない。なんでこうなるのか不明。"
   ]
  },
  {
   "cell_type": "code",
   "execution_count": null,
   "metadata": {},
   "outputs": [],
   "source": []
  }
 ],
 "metadata": {
  "kernelspec": {
   "display_name": "Python 3",
   "language": "python",
   "name": "python3"
  },
  "language_info": {
   "codemirror_mode": {
    "name": "ipython",
    "version": 3
   },
   "file_extension": ".py",
   "mimetype": "text/x-python",
   "name": "python",
   "nbconvert_exporter": "python",
   "pygments_lexer": "ipython3",
   "version": "3.6.4"
  }
 },
 "nbformat": 4,
 "nbformat_minor": 2
}
