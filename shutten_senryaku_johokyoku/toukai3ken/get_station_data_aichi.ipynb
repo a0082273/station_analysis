{
 "cells": [
  {
   "cell_type": "code",
   "execution_count": null,
   "metadata": {},
   "outputs": [],
   "source": [
    "import pandas as pd\n",
    "import re\n",
    "import time"
   ]
  },
  {
   "cell_type": "code",
   "execution_count": null,
   "metadata": {
    "code_folding": []
   },
   "outputs": [],
   "source": [
    "#aichi\n",
    "rosen = []\n",
    "rosen.append(range(42, 68))\n",
    "rosen.append(range(78, 84))\n",
    "rosen.append(range(68, 78))\n",
    "rosen.append(range(1, 31))\n",
    "rosen.append(range(31, 42))\n",
    "rosen.append(range(473, 484))\n",
    "rosen.append(range(491, 497))\n",
    "rosen.append(range(452, 473))\n",
    "rosen.append(range(442, 450))\n",
    "rosen.append(range(234, 239))\n",
    "rosen.append(range(239, 254))\n",
    "rosen.append(range(254, 264))\n",
    "rosen.append(range(325, 327))\n",
    "rosen.append(range(450, 452))\n",
    "rosen.append(range(348, 354))\n",
    "rosen.append(range(385, 402))\n",
    "rosen.append(range(422, 442))\n",
    "rosen.append(range(354, 362))\n",
    "rosen.append(range(327, 348))\n",
    "rosen.append(range(405, 408))\n",
    "rosen.append(range(302, 325))\n",
    "rosen.append(range(362, 385))\n",
    "rosen.append(range(408, 422))\n",
    "rosen.append(range(179, 234))\n",
    "rosen.append(range(264, 298))\n",
    "rosen.append(range(402, 403))\n",
    "rosen.append(range(500, 511))\n",
    "rosen.append(range(146, 162))\n",
    "rosen.append(range(126, 146))\n",
    "rosen.append(range(162, 179))\n",
    "rosen.append(range(84, 106))\n",
    "rosen.append(range(106, 126))\n",
    "rosen.append(range(497, 500))\n",
    "station_id = [flatten for inner in rosen for flatten in inner]"
   ]
  },
  {
   "cell_type": "code",
   "execution_count": null,
   "metadata": {},
   "outputs": [],
   "source": [
    "url = f'https://storestrategy.jp/?category=1&area=4&pref=24&id={station_id[0]}'\n",
    "fetched_dataframe = pd.read_html(url)"
   ]
  },
  {
   "cell_type": "code",
   "execution_count": null,
   "metadata": {},
   "outputs": [],
   "source": [
    "fetched_dataframe[0]"
   ]
  },
  {
   "cell_type": "code",
   "execution_count": null,
   "metadata": {},
   "outputs": [],
   "source": [
    "cols = list(fetched_dataframe[0].iloc[1:, 0])\n",
    "inds = station_id\n",
    "stations = pd.DataFrame(index=inds, columns=cols)\n",
    "stations"
   ]
  },
  {
   "cell_type": "code",
   "execution_count": null,
   "metadata": {},
   "outputs": [],
   "source": [
    "for i, id in enumerate(station_id):\n",
    "    print(i, len(station_id))\n",
    "    url = f'https://storestrategy.jp/?category=1&area=4&pref=24&id={id}'\n",
    "    fetched_dataframe = pd.read_html(url)\n",
    "    station = fetched_dataframe[0]\n",
    "    if station.shape[0] == 29:\n",
    "        stations.iloc[i, :] = station.iloc[1:, 1].values\n",
    "        time.sleep(5)\n",
    "    elif station.shape[0] == 30:\n",
    "        stations.iloc[i, :] = station.iloc[2:, 1].values\n",
    "        time.sleep(5)\n",
    "    else:\n",
    "        print(f'unexpected station.shape: id={id}')"
   ]
  },
  {
   "cell_type": "code",
   "execution_count": null,
   "metadata": {},
   "outputs": [],
   "source": [
    "stations.iloc[460]"
   ]
  },
  {
   "cell_type": "code",
   "execution_count": null,
   "metadata": {},
   "outputs": [],
   "source": [
    "for i in range(len(rosen)):\n",
    "    for j in range(len(rosen[i])):\n",
    "        stations.loc[rosen[i][j], '路線ID'] = i"
   ]
  },
  {
   "cell_type": "code",
   "execution_count": null,
   "metadata": {},
   "outputs": [],
   "source": [
    "stations"
   ]
  },
  {
   "cell_type": "code",
   "execution_count": null,
   "metadata": {},
   "outputs": [],
   "source": [
    "stations.to_csv('input/stations_aichi.csv')"
   ]
  },
  {
   "cell_type": "code",
   "execution_count": null,
   "metadata": {},
   "outputs": [],
   "source": []
  },
  {
   "cell_type": "code",
   "execution_count": null,
   "metadata": {},
   "outputs": [],
   "source": [
    "stations = pd.read_csv('input/stations_aichi.csv', index_col=0)"
   ]
  },
  {
   "cell_type": "code",
   "execution_count": null,
   "metadata": {},
   "outputs": [],
   "source": [
    "stations.iloc[460]"
   ]
  },
  {
   "cell_type": "code",
   "execution_count": null,
   "metadata": {},
   "outputs": [],
   "source": [
    "len(station_id[460:])"
   ]
  },
  {
   "cell_type": "code",
   "execution_count": null,
   "metadata": {},
   "outputs": [],
   "source": [
    "for i, id in enumerate(station_id[460:]):\n",
    "    print(i+460, len(station_id))\n",
    "    url = f'https://storestrategy.jp/?category=1&area=4&pref=24&id={id}'\n",
    "    fetched_dataframe = pd.read_html(url)\n",
    "    station = fetched_dataframe[0]\n",
    "    if station.shape[0] == 29:\n",
    "        stations.iloc[i+460, :] = station.iloc[1:, 1].values\n",
    "        time.sleep(5)\n",
    "    elif station.shape[0] == 30:\n",
    "        stations.iloc[i+460, :] = station.iloc[2:, 1].values\n",
    "        time.sleep(5)\n",
    "    else:\n",
    "        print(f'unexpected station.shape: id={id}')"
   ]
  },
  {
   "cell_type": "code",
   "execution_count": null,
   "metadata": {},
   "outputs": [],
   "source": [
    "stations"
   ]
  },
  {
   "cell_type": "code",
   "execution_count": null,
   "metadata": {},
   "outputs": [],
   "source": []
  },
  {
   "cell_type": "code",
   "execution_count": null,
   "metadata": {},
   "outputs": [],
   "source": [
    "stations = pd.read_csv('input/stations_aichi.csv', index_col=0)"
   ]
  },
  {
   "cell_type": "code",
   "execution_count": null,
   "metadata": {},
   "outputs": [],
   "source": [
    "for i in range(len(rosen)):\n",
    "    for j in range(len(rosen[i])):\n",
    "        stations.loc[rosen[i][j], '路線ID'] = i"
   ]
  },
  {
   "cell_type": "code",
   "execution_count": null,
   "metadata": {},
   "outputs": [],
   "source": [
    "stations = stations.drop([497], axis=0)"
   ]
  },
  {
   "cell_type": "code",
   "execution_count": null,
   "metadata": {},
   "outputs": [],
   "source": [
    "stations"
   ]
  },
  {
   "cell_type": "code",
   "execution_count": null,
   "metadata": {},
   "outputs": [],
   "source": [
    "stations.to_csv('input/stations_aichi.csv')"
   ]
  },
  {
   "cell_type": "code",
   "execution_count": null,
   "metadata": {},
   "outputs": [],
   "source": []
  }
 ],
 "metadata": {
  "kernelspec": {
   "display_name": "Python 3",
   "language": "python",
   "name": "python3"
  },
  "language_info": {
   "codemirror_mode": {
    "name": "ipython",
    "version": 3
   },
   "file_extension": ".py",
   "mimetype": "text/x-python",
   "name": "python",
   "nbconvert_exporter": "python",
   "pygments_lexer": "ipython3",
   "version": "3.6.4"
  }
 },
 "nbformat": 4,
 "nbformat_minor": 2
}
