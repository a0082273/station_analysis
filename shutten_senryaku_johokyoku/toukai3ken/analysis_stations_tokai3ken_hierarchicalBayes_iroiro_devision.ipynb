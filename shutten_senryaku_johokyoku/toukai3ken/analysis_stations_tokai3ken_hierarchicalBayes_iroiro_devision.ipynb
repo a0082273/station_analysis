{
 "cells": [
  {
   "cell_type": "code",
   "execution_count": null,
   "metadata": {},
   "outputs": [],
   "source": [
    "import pystan"
   ]
  },
  {
   "cell_type": "code",
   "execution_count": null,
   "metadata": {},
   "outputs": [],
   "source": [
    "X = pd.read_csv('./variables/devision_rosenID.csv', index_col=0)\n",
    "y = pd.read_csv('./variables/target.csv', index_col=0 ,names=['飲食店数'])"
   ]
  },
  {
   "cell_type": "code",
   "execution_count": null,
   "metadata": {},
   "outputs": [],
   "source": [
    "X"
   ]
  },
  {
   "cell_type": "code",
   "execution_count": null,
   "metadata": {},
   "outputs": [],
   "source": [
    "def zscore(x, axis = None):\n",
    "    xmean = x.mean(axis=axis)\n",
    "    xstd  = np.std(x, axis=axis)\n",
    "    zscore = (x-xmean)/xstd\n",
    "    return zscore"
   ]
  },
  {
   "cell_type": "code",
   "execution_count": null,
   "metadata": {},
   "outputs": [],
   "source": [
    "#各変数、正規分布に従ってる？\n",
    "X.iloc[:, :-1] = zscore(X.iloc[:, :-1], axis=0)"
   ]
  },
  {
   "cell_type": "code",
   "execution_count": null,
   "metadata": {},
   "outputs": [],
   "source": [
    "rosen = dict(zip(X['路線ID'].unique(), range(1, 1+len(X['路線ID'].unique()))))\n",
    "Rosen = []\n",
    "for i in range(len(X)):\n",
    "    Rosen.append(rosen[X['路線ID'][i]])\n",
    "X = X.drop(['路線ID'], axis=1)"
   ]
  },
  {
   "cell_type": "code",
   "execution_count": null,
   "metadata": {},
   "outputs": [],
   "source": [
    "data = dict(\n",
    "    N_station=X.shape[0],\n",
    "    N_explanatory=X.shape[1],\n",
    "    N_rosen=len(rosen),\n",
    "    X=X.values,\n",
    "    Rosen=Rosen,\n",
    "    Y=y['飲食店数'].values\n",
    ")"
   ]
  },
  {
   "cell_type": "code",
   "execution_count": null,
   "metadata": {},
   "outputs": [],
   "source": [
    "model = '''\n",
    "data {\n",
    "    int N_station;\n",
    "    int N_explanatory;\n",
    "    int N_rosen;\n",
    "    matrix[N_station, N_explanatory] X;\n",
    "    int<lower=1> Rosen[N_station];\n",
    "    vector<lower=0>[N_station] Y;\n",
    "}\n",
    "\n",
    "parameters {\n",
    "    real mu_a;\n",
    "    real mu_b[N_explanatory];\n",
    "    real<lower=0> mu_s;\n",
    "    real<lower=0> s_a;\n",
    "    real<lower=0> s_b[N_explanatory];\n",
    "    real<lower=0> s_s;\n",
    "    vector[N_rosen] a;\n",
    "    matrix[N_explanatory, N_rosen] b;\n",
    "    vector<lower=0>[N_rosen] s;\n",
    "}\n",
    "\n",
    "model {\n",
    "    a ~ student_t(4, mu_a, s_a);\n",
    "    for (i in 1:N_explanatory)\n",
    "        b[i,] ~ student_t(4, mu_b[i], s_b[i]);\n",
    "    s ~ student_t(4, mu_s, s_s);\n",
    "    for (i in 1:N_station)\n",
    "        Y[i] ~ student_t(4, a[Rosen[i]] + X[i,]*b[,Rosen[i]], s[Rosen[i]]);\n",
    "}\n",
    "\n",
    "generated quantities{\n",
    "    vector[N_station] predict;\n",
    "    for (i in 1:N_station)\n",
    "        predict[i] = student_t_rng(4, a[Rosen[i]] + X[i,]*b[,Rosen[i]], s[Rosen[i]]);\n",
    "}\n",
    "'''"
   ]
  },
  {
   "cell_type": "code",
   "execution_count": null,
   "metadata": {},
   "outputs": [],
   "source": [
    "fit = pystan.stan(model_code=model, data=data, chains=3, iter=500, warmup=100, thin=1)\n",
    "#fit = pystan.stan(model_code=model, data=data, chains=4, iter=2000, warmup=500, thin=1)"
   ]
  },
  {
   "cell_type": "code",
   "execution_count": null,
   "metadata": {},
   "outputs": [],
   "source": [
    "X.columns"
   ]
  },
  {
   "cell_type": "code",
   "execution_count": null,
   "metadata": {},
   "outputs": [],
   "source": [
    "fit"
   ]
  },
  {
   "cell_type": "markdown",
   "metadata": {},
   "source": [
    "効き具合（mu_b[:]のmeanの大きさ）は昼間人口がダントツ、続いて乗降客数、一人世帯数。それ以外は小さい。\n",
    "\n",
    "総人口をなくすと、ほんの少し精度よくなった。\n",
    "\n",
    "なくす前と後で、'0～14歳人口', '15～64歳人口', '65歳以上人口'の効き具合の順番が変わっている。"
   ]
  },
  {
   "cell_type": "code",
   "execution_count": null,
   "metadata": {},
   "outputs": [],
   "source": [
    "#MCMCサンプリングの結果を抽出\n",
    "ms = fit.extract(permuted=False, inc_warmup=True)\n",
    "#ウォームアップ（バーンイン）のサイズを取得\n",
    "iter_from = fit.sim['warmup']\n",
    "#ウォームアップの区間を省く\n",
    "iter_range = np.arange(iter_from, ms.shape[0])\n",
    "#各変数名を取得\n",
    "paraname = fit.sim['fnames_oi']\n",
    "\n",
    "#※※※今回は全て描画したいので、こちらを使う\n",
    "iter_start = np.arange(0, ms.shape[0])"
   ]
  },
  {
   "cell_type": "code",
   "execution_count": null,
   "metadata": {},
   "outputs": [],
   "source": [
    "#seabornのcolorpalette\n",
    "palette = sns.color_palette()\n",
    "#おまじない？\n",
    "sns.set(font_scale=1)\n",
    "sns.set_style(\"ticks\")\n",
    "sns.despine(offset=10, trim=True)\n",
    "\n",
    "#複数グラフの描画（これしか方法知らない）\n",
    "fig,axes  = plt.subplots(nrows=4, ncols=3, figsize=(15,10))\n",
    "\n",
    "for i in range(4):\n",
    "    for j in range(3):\n",
    "#        axes[i,j].plot(iter_start, ms[iter_start, :, i*3+j], \n",
    "#                       linewidth=3, color=palette[i*3+j])\n",
    "        axes[i,j].plot(iter_start, ms[iter_start, :, i*3+j])\n",
    "        axes[i,j].set_title(paraname[i*3+j])\n",
    "        axes[i,j].set_xlabel('mcmc_size')\n",
    "        axes[i,j].set_ylabel('parameter')\n",
    "        axes[i,j].grid(True)\n",
    "\n",
    "fig.show()"
   ]
  },
  {
   "cell_type": "code",
   "execution_count": null,
   "metadata": {},
   "outputs": [],
   "source": [
    "summary = pd.DataFrame(data=fit.summary()['summary'], index=fit.summary()['summary_rownames'], columns=fit.summary()['summary_colnames'])"
   ]
  },
  {
   "cell_type": "code",
   "execution_count": null,
   "metadata": {},
   "outputs": [],
   "source": [
    "summary"
   ]
  },
  {
   "cell_type": "code",
   "execution_count": null,
   "metadata": {},
   "outputs": [],
   "source": [
    "pred = summary.query('index.str.startswith(\"predict\")', engine='python')['50%'].values"
   ]
  },
  {
   "cell_type": "code",
   "execution_count": null,
   "metadata": {},
   "outputs": [],
   "source": [
    "#RMSE\n",
    "np.sqrt(np.mean((y['飲食店数'].values-pred)**2))"
   ]
  },
  {
   "cell_type": "code",
   "execution_count": null,
   "metadata": {},
   "outputs": [],
   "source": [
    "from sklearn.metrics import r2_score\n",
    "r2_score(y.values, pred)"
   ]
  },
  {
   "cell_type": "markdown",
   "metadata": {},
   "source": [
    "昼間人口だけのやつより少し精度悪い。\n",
    "でもまあ、mu_bとか見ると変数の性質わかりやすいから、有用ではある。"
   ]
  },
  {
   "cell_type": "code",
   "execution_count": null,
   "metadata": {},
   "outputs": [],
   "source": [
    "fig, ax = plt.subplots()\n",
    "ax.scatter(pred, y['飲食店数'], edgecolors=(0, 0, 0))\n",
    "ax.plot([y['飲食店数'].min(), y['飲食店数'].max()], [y['飲食店数'].min(), y['飲食店数'].max()], 'k--', lw=1)\n",
    "ax.set_xlabel('Predicted')\n",
    "ax.set_ylabel('Measured')\n",
    "plt.show()"
   ]
  },
  {
   "cell_type": "code",
   "execution_count": null,
   "metadata": {},
   "outputs": [],
   "source": [
    "rosen_uniq = Rosen.unique()"
   ]
  },
  {
   "cell_type": "markdown",
   "metadata": {},
   "source": [
    "value_counts().indexはvalue_counts()が同じものの順番を適当にやってるから、ダメゼッタイ\n",
    "\n",
    "ちゃんと.unique()を使う！"
   ]
  },
  {
   "cell_type": "code",
   "execution_count": null,
   "metadata": {},
   "outputs": [],
   "source": [
    "fig, axes = plt.subplots(nrows=22, ncols=3, figsize=(15,100))\n",
    "\n",
    "for i in range(22):\n",
    "    for j in range(3):\n",
    "        plt.hold(True);\n",
    "        a = summary.loc[f'a[{i*3+j}]', '50%']\n",
    "        b = summary.loc[f'b[{i*3+j}]', '50%']\n",
    "        xxx = stations[stations['路線ID'] == rosen_uniq[i*3+j]].sort_values(by='昼間人口')[\"昼間人口\"]\n",
    "        yyy = stations[stations['路線ID'] == rosen_uniq[i*3+j]].sort_values(by='昼間人口')[\"飲食店事業所数\"]\n",
    "        axes[i,j].plot(xxx, yyy, 'o-')\n",
    "        xx = range(int(xxx.tolist()[-1]))\n",
    "        yy = a + b*xx\n",
    "        axes[i,j].plot(xx, yy)\n",
    "        axes[i,j].set_title(f'{i*3+j}, a={a:.2f}, b={b:.4f}, {rosen_uniq[i*3+j]}')\n",
    "        if i*3+j == 63:\n",
    "            break\n",
    "fig.show()"
   ]
  },
  {
   "cell_type": "code",
   "execution_count": null,
   "metadata": {
    "code_folding": []
   },
   "outputs": [],
   "source": [
    "#fig, axes = plt.subplots(nrows=7, ncols=9, figsize=(60,40))\n",
    "\n",
    "#for i in range(7):\n",
    "#    for j in range(9):\n",
    "#        plt.hold(True);\n",
    "#        a = summary.loc[f'a[{i*9+j}]', '50%']\n",
    "#        b = summary.loc[f'b[{i*9+j}]', '50%']\n",
    "#        xxx = stations[stations['路線ID'] == rosen_uniq[i*9+j]].sort_values(by='昼間人口')[\"昼間人口\"]\n",
    "#        yyy = stations[stations['路線ID'] == rosen_uniq[i*9+j]].sort_values(by='昼間人口')[\"飲食店事業所数\"]\n",
    "#        axes[i,j].plot(xxx, yyy, 'o-')\n",
    "#        xx = range(int(xxx.tolist()[-1]))\n",
    "#        yy = a + b*xx\n",
    "#        axes[i,j].plot(xx, yy)\n",
    "#        axes[i,j].set_title(f'{i*9+j}, a={a:.2f}, b={b:.4f}, {rosen_uniq[i*9+j]}')\n",
    "#fig.savefig('output/hierarchical_bayes_chukan', dpi=200)\n",
    "#fig.show()"
   ]
  },
  {
   "cell_type": "code",
   "execution_count": null,
   "metadata": {},
   "outputs": [],
   "source": [
    "fig, axes = plt.subplots(nrows=8, ncols=8, figsize=(60,60))\n",
    "\n",
    "for i in range(8):\n",
    "    for j in range(8):\n",
    "        plt.hold(True);\n",
    "        a = summary.loc[f'a[{i*8+j}]', '50%']\n",
    "        b = summary.loc[f'b[{i*8+j}]', '50%']\n",
    "        s = summary.loc[f's[{i*8+j}]', '50%']\n",
    "        xxx = stations[stations['路線ID'] == rosen_uniq[i*8+j]].sort_values(by='昼間人口')[\"昼間人口\"]\n",
    "        yyy = stations[stations['路線ID'] == rosen_uniq[i*8+j]].sort_values(by='昼間人口')[\"飲食店事業所数\"]\n",
    "        axes[i,j].plot(xxx, yyy, 'o-')\n",
    "        xx = range(int(xxx.tolist()[-1]))\n",
    "        yy = a + b*xx\n",
    "        axes[i,j].plot(xx, yy)\n",
    "        if i*8+j == 3:\n",
    "            axes[i,j].set_title(\n",
    "                f'{i*8+j}, a={a:.2f}, b={b:.4f}, s={s:.2f}, {rosen_uniq[i*8+j]}\\n \\\n",
    "                ochiaigawa, takenami, kokokei, minosakamoto, kamado,\\\n",
    "                \\n sakashita, mizunami, tokishi, ena, nakatugawa, tajimi')\n",
    "        else:\n",
    "            axes[i,j].set_title(f'{i*8+j}, a={a:.2f}, b={b:.4f}, s={s:.2f}, {rosen_uniq[i*8+j]}')\n",
    "        if i*8+j == 62: #本当は64個あるけど、64+1=65個はきれいに並べれないから、最後の1個省く\n",
    "            break\n",
    "a = summary.loc['mu_a', '50%']\n",
    "b = summary.loc['mu_b', '50%']\n",
    "s = summary.loc['mu_s', '50%']\n",
    "xxx = stations.sort_values(by='昼間人口')[\"昼間人口\"]\n",
    "yyy = stations.sort_values(by='昼間人口')[\"飲食店事業所数\"]\n",
    "axes[7,7].plot(xxx, yyy, 'o-')\n",
    "xx = range(int(xxx.tolist()[-1]))\n",
    "yy = a + b*xx\n",
    "axes[7,7].plot(xx, yy)\n",
    "axes[7,7].set_title(f'{0}, a={a:.2f}, b={b:.4f}, s={s:.2f}, total')\n",
    "\n",
    "fig.savefig('output/hierarchical_bayes_chukan', dpi=200)\n",
    "fig.show()"
   ]
  },
  {
   "cell_type": "code",
   "execution_count": null,
   "metadata": {},
   "outputs": [],
   "source": [
    "a = summary.loc['a[3]', '50%']\n",
    "b = summary.loc['b[3]', '50%']\n",
    "xxx = stations[stations['路線ID'] == 'g_3.0'].sort_values(by='昼間人口')[\"昼間人口\"]\n",
    "yyy = stations[stations['路線ID'] == 'g_3.0'].sort_values(by='昼間人口')[\"飲食店事業所数\"]\n",
    "plt.plot(xxx, yyy, 'o-')\n",
    "xx = range(int(xxx.tolist()[-1]))\n",
    "yy = a + b*xx\n",
    "plt.plot(xx, yy)\n",
    "plt.title('a= \\n \\\n",
    "ochiaigawa, takenami, kokokei, minosakamoto, kamado, \\n sakashita, mizunami, tokishi, ena, nakatugawa, tajimi')"
   ]
  },
  {
   "cell_type": "code",
   "execution_count": null,
   "metadata": {},
   "outputs": [],
   "source": [
    "#中央本線\n",
    "#路線ID g_3.0\n",
    "#summary 3\n",
    "\n",
    "#駅数 11\n",
    "#多治見、土岐、瑞浪、恵那、中津川\n",
    "#5601, 2927, 2465, 3003, 4377"
   ]
  },
  {
   "cell_type": "code",
   "execution_count": null,
   "metadata": {},
   "outputs": [],
   "source": [
    "a = summary.loc['mu_a', '50%']\n",
    "b = summary.loc['mu_b', '50%']\n",
    "xxx = stations.sort_values(by='昼間人口')[\"昼間人口\"]\n",
    "yyy = stations.sort_values(by='昼間人口')[\"飲食店事業所数\"]\n",
    "plt.plot(xxx, yyy, 'o-')\n",
    "xx = range(int(xxx.tolist()[-1]))\n",
    "yy = a + b*xx\n",
    "plt.plot(xx, yy)"
   ]
  },
  {
   "cell_type": "code",
   "execution_count": null,
   "metadata": {},
   "outputs": [],
   "source": [
    "a_summary = summary.query('index.str.contains(\"a\")', engine='python')['50%']"
   ]
  },
  {
   "cell_type": "code",
   "execution_count": null,
   "metadata": {},
   "outputs": [],
   "source": [
    "a_summary"
   ]
  },
  {
   "cell_type": "code",
   "execution_count": null,
   "metadata": {},
   "outputs": [],
   "source": [
    "b_summary = summary.query('index.str.contains(\"b\")', engine='python')['50%']"
   ]
  },
  {
   "cell_type": "code",
   "execution_count": null,
   "metadata": {},
   "outputs": [],
   "source": [
    "b_summary"
   ]
  },
  {
   "cell_type": "code",
   "execution_count": null,
   "metadata": {},
   "outputs": [],
   "source": [
    "s_summary = summary.query('index.str.contains(\"s\")', engine='python')['50%']"
   ]
  },
  {
   "cell_type": "code",
   "execution_count": null,
   "metadata": {},
   "outputs": [],
   "source": [
    "s_summary"
   ]
  },
  {
   "cell_type": "markdown",
   "metadata": {},
   "source": [
    "b[3]が大きすぎて、b[4]が小さすぎる問題は直らない。なんでこうなるのか不明。　->　value_counts().indexはvalue_counts()が同じものの順番を適当にやってるから、だった。（別々の路線のプロットと回帰直線を併せて図示していた）\n",
    "\n",
    "結論：\n",
    "\n",
    "乗降客数で線形回帰はダメだったけど、昼間人口で線形回帰は精度も当てはまりもなかなかいい感じだった。階層ベイズなら、図示して読み取った情報を使った弱情報事前分布をa, b, sに与えないでも収束した。\n",
    "\n",
    "瑞浪は中央本線岐阜県の駅の中では、飲食店数ふつうだった。中央本線岐阜県の駅のbは全体の2倍くらい大きいから、東海3県の駅の中では、飲食店数むしろ多かった。"
   ]
  },
  {
   "cell_type": "code",
   "execution_count": null,
   "metadata": {},
   "outputs": [],
   "source": []
  }
 ],
 "metadata": {
  "hide_input": false,
  "kernelspec": {
   "display_name": "Python 3",
   "language": "python",
   "name": "python3"
  },
  "language_info": {
   "codemirror_mode": {
    "name": "ipython",
    "version": 3
   },
   "file_extension": ".py",
   "mimetype": "text/x-python",
   "name": "python",
   "nbconvert_exporter": "python",
   "pygments_lexer": "ipython3",
   "version": "3.6.4"
  }
 },
 "nbformat": 4,
 "nbformat_minor": 2
}
