{
 "cells": [
  {
   "cell_type": "code",
   "execution_count": null,
   "metadata": {},
   "outputs": [],
   "source": [
    "import re"
   ]
  },
  {
   "cell_type": "code",
   "execution_count": null,
   "metadata": {},
   "outputs": [],
   "source": [
    "gifu = pd.read_csv('input/stations_gifu.csv', index_col=0)\n",
    "aichi = pd.read_csv('input/stations_aichi.csv', index_col=0)\n",
    "mie = pd.read_csv('input/stations_mie.csv', index_col=0)"
   ]
  },
  {
   "cell_type": "code",
   "execution_count": null,
   "metadata": {},
   "outputs": [],
   "source": [
    "gifu.index = 'g_' + gifu.index.astype(str)\n",
    "aichi.index = 'a_' + aichi.index.astype(str)\n",
    "mie.index = 'm_' + mie.index.astype(str)"
   ]
  },
  {
   "cell_type": "code",
   "execution_count": null,
   "metadata": {},
   "outputs": [],
   "source": [
    "gifu['路線ID'] = gifu['路線ID'].astype(str)\n",
    "aichi['路線ID'] = aichi['路線ID'].astype(str)\n",
    "mie['路線ID'] = mie['路線ID'].astype(str)"
   ]
  },
  {
   "cell_type": "code",
   "execution_count": null,
   "metadata": {},
   "outputs": [],
   "source": [
    "gifu['路線ID'] = 'g_' + gifu['路線ID']\n",
    "aichi['路線ID'] = 'a_' + aichi['路線ID']\n",
    "mie['路線ID'] = 'm_' + mie['路線ID']"
   ]
  },
  {
   "cell_type": "code",
   "execution_count": null,
   "metadata": {},
   "outputs": [],
   "source": [
    "stations = pd.concat([gifu, aichi, mie], axis=0)\n",
    "#stations = pd.concat([gifu, aichi], axis=0)"
   ]
  },
  {
   "cell_type": "code",
   "execution_count": null,
   "metadata": {},
   "outputs": [],
   "source": [
    "stations"
   ]
  },
  {
   "cell_type": "code",
   "execution_count": null,
   "metadata": {},
   "outputs": [],
   "source": [
    "#.isalnum()は全角文字に対応してない\n",
    "alnumReg = re.compile(r'^[a-zA-Z0-9]+$')\n",
    "def isalnum(s):\n",
    "    return alnumReg.match(s) is not None\n",
    "\n",
    "rm_row = []\n",
    "for ind in range(stations.shape[0]):\n",
    "    for col in range(stations.shape[1]-1):\n",
    "#        print(ind, col)\n",
    "        stations.iloc[ind, col] = stations.iloc[ind, col].replace(',', '')\n",
    "        while not isalnum(stations.iloc[ind, col]):\n",
    "            if stations.iloc[ind, col] == '':\n",
    "                print(ind, col)\n",
    "                rm_row.append(stations.iloc[ind].name)\n",
    "                break\n",
    "            else:\n",
    "                stations.iloc[ind, col] = stations.iloc[ind, col][:-1]"
   ]
  },
  {
   "cell_type": "code",
   "execution_count": null,
   "metadata": {},
   "outputs": [],
   "source": [
    "#stations.iloc[106]"
   ]
  },
  {
   "cell_type": "code",
   "execution_count": null,
   "metadata": {},
   "outputs": [],
   "source": [
    "#rm_row"
   ]
  },
  {
   "cell_type": "code",
   "execution_count": null,
   "metadata": {},
   "outputs": [],
   "source": [
    "stations = stations.drop(rm_row, axis=0)"
   ]
  },
  {
   "cell_type": "code",
   "execution_count": null,
   "metadata": {},
   "outputs": [],
   "source": [
    "stations"
   ]
  },
  {
   "cell_type": "code",
   "execution_count": null,
   "metadata": {},
   "outputs": [],
   "source": [
    "rosen = stations['路線ID'] \n",
    "stations = stations.drop(['路線ID'], axis=1)\n",
    "stations = stations.astype(float)\n",
    "stations = pd.concat([stations, rosen], axis=1)"
   ]
  },
  {
   "cell_type": "code",
   "execution_count": null,
   "metadata": {},
   "outputs": [],
   "source": [
    "stations.columns"
   ]
  },
  {
   "cell_type": "code",
   "execution_count": null,
   "metadata": {},
   "outputs": [],
   "source": [
    "stations = stations.drop(['男性人口比率', '1人世帯比率', '0～9歳人口(比率)', '10～19歳人口(比率)', '20～29歳人口(比率)', '30～39歳人口(比率)', '40～49歳人口(比率)', '50～59歳人口(比率)', '60～69歳人口(比率)', '70～79歳人口(比率)', '80歳以上人口(比率)'], axis=1)"
   ]
  },
  {
   "cell_type": "code",
   "execution_count": null,
   "metadata": {},
   "outputs": [],
   "source": [
    "stations"
   ]
  },
  {
   "cell_type": "code",
   "execution_count": null,
   "metadata": {},
   "outputs": [],
   "source": [
    "stations.to_csv('input/stations_tokai3ken_edited.csv')"
   ]
  },
  {
   "cell_type": "code",
   "execution_count": null,
   "metadata": {},
   "outputs": [],
   "source": []
  }
 ],
 "metadata": {
  "kernelspec": {
   "display_name": "Python 3",
   "language": "python",
   "name": "python3"
  },
  "language_info": {
   "codemirror_mode": {
    "name": "ipython",
    "version": 3
   },
   "file_extension": ".py",
   "mimetype": "text/x-python",
   "name": "python",
   "nbconvert_exporter": "python",
   "pygments_lexer": "ipython3",
   "version": "3.6.4"
  }
 },
 "nbformat": 4,
 "nbformat_minor": 2
}
