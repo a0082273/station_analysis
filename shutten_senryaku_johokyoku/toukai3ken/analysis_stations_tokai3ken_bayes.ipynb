{
 "cells": [
  {
   "cell_type": "code",
   "execution_count": null,
   "metadata": {},
   "outputs": [],
   "source": [
    "import pystan"
   ]
  },
  {
   "cell_type": "code",
   "execution_count": null,
   "metadata": {},
   "outputs": [],
   "source": [
    "stations = pd.read_csv('input/stations_tokai3ken_edited.csv', index_col=0)"
   ]
  },
  {
   "cell_type": "code",
   "execution_count": null,
   "metadata": {},
   "outputs": [],
   "source": [
    "X = stations.drop(['飲食店事業所数', '路線ID'], axis=1)\n",
    "y = stations['飲食店事業所数']"
   ]
  },
  {
   "cell_type": "code",
   "execution_count": null,
   "metadata": {},
   "outputs": [],
   "source": [
    "X.columns"
   ]
  },
  {
   "cell_type": "code",
   "execution_count": null,
   "metadata": {},
   "outputs": [],
   "source": [
    "from sklearn.model_selection import train_test_split\n",
    "X_train, X_test, y_train, y_test = train_test_split(X, y, random_state=42)"
   ]
  },
  {
   "cell_type": "code",
   "execution_count": null,
   "metadata": {},
   "outputs": [],
   "source": [
    "N_train = X_train.shape[0]\n",
    "M = X_train.shape[1]\n",
    "Y_train = list(y_train.values)\n",
    "N_test = X_test.shape[0]\n",
    "X_test = list(X_test.values)\n",
    "\n",
    "data = dict(\n",
    "    N_train=N_train,\n",
    "    M=M,\n",
    "    X_train=X_train,\n",
    "    Y_train=Y_train,\n",
    "    N_test=N_test,\n",
    "    X_test=X_test,\n",
    ")"
   ]
  },
  {
   "cell_type": "code",
   "execution_count": null,
   "metadata": {},
   "outputs": [],
   "source": [
    "model = '''\n",
    "data {\n",
    "    int N_train;\n",
    "    int M;\n",
    "    matrix<lower=0>[N_train, M] X_train;\n",
    "    vector<lower=0>[N_train] Y_train;\n",
    "    int N_test;\n",
    "    matrix<lower=0>[N_test, M] X_test;\n",
    "}\n",
    "\n",
    "parameters {\n",
    "    real b0;\n",
    "    vector[M] b;\n",
    "    real<lower=0> s;\n",
    "    real<lower=0> s_b;\n",
    "}\n",
    "\n",
    "model {\n",
    "    b0 ~ double_exponential(0, s_b);\n",
    "    b ~ double_exponential(0, s_b);\n",
    "    s ~ normal(0, 5);\n",
    "    Y_train ~ normal(b0 + X_train*b, s);\n",
    "}\n",
    "\n",
    "generated quantities{\n",
    "#    vector<lower=0>[N_test] predict;\n",
    "    vector[N_test] predict;\n",
    "    for (i in 1:N_test)\n",
    "        predict[i] = normal_rng(b0 + X_test[i]*b, s);\n",
    "}\n",
    "'''"
   ]
  },
  {
   "cell_type": "code",
   "execution_count": null,
   "metadata": {},
   "outputs": [],
   "source": [
    "fit = pystan.stan(model_code=model, data=data, chains=3, iter=1000, warmup=200, thin=1)"
   ]
  },
  {
   "cell_type": "code",
   "execution_count": null,
   "metadata": {},
   "outputs": [],
   "source": [
    "fit"
   ]
  },
  {
   "cell_type": "code",
   "execution_count": null,
   "metadata": {},
   "outputs": [],
   "source": [
    "fit.extract()['predict'][0]"
   ]
  },
  {
   "cell_type": "code",
   "execution_count": null,
   "metadata": {},
   "outputs": [],
   "source": [
    "y_test"
   ]
  },
  {
   "cell_type": "code",
   "execution_count": null,
   "metadata": {},
   "outputs": [],
   "source": [
    "predict = fit.extract()['predict'][0]"
   ]
  },
  {
   "cell_type": "code",
   "execution_count": null,
   "metadata": {},
   "outputs": [],
   "source": [
    "fig, ax = plt.subplots()\n",
    "ax.scatter(predict, y_test, edgecolors=(0, 0, 0))\n",
    "ax.plot([predict.min(), predict.max()], [predict.min(), predict.max()], 'k--', lw=1)\n",
    "ax.set_xlabel('Predicted')\n",
    "ax.set_ylabel('Measured')\n",
    "plt.show()"
   ]
  },
  {
   "cell_type": "markdown",
   "metadata": {},
   "source": [
    "# いろいろ捨てる"
   ]
  },
  {
   "cell_type": "code",
   "execution_count": null,
   "metadata": {},
   "outputs": [],
   "source": [
    "stations = pd.read_csv('input/stations_tokai3ken_edited.csv', index_col=0)"
   ]
  },
  {
   "cell_type": "code",
   "execution_count": null,
   "metadata": {},
   "outputs": [],
   "source": [
    "X = stations.drop(['生徒学生数', '飲食店事業所数', '路線ID', '小売事業所数', '小売業年間商品販売額', '全産業事業所数', '買回り品(事業所数比率)', '最寄り品(事業所数比率)', '全産業従業者総数', '人口総数' , '男性人口' , '世帯数'], axis=1)\n",
    "y = stations['飲食店事業所数']"
   ]
  },
  {
   "cell_type": "code",
   "execution_count": null,
   "metadata": {},
   "outputs": [],
   "source": [
    "X"
   ]
  },
  {
   "cell_type": "code",
   "execution_count": null,
   "metadata": {},
   "outputs": [],
   "source": [
    "from sklearn.model_selection import train_test_split\n",
    "X_train, X_test, y_train, y_test = train_test_split(X, y, random_state=42)"
   ]
  },
  {
   "cell_type": "code",
   "execution_count": null,
   "metadata": {},
   "outputs": [],
   "source": [
    "#多治見、土岐、(瑞浪、)恵那、中津川をtestに移動\n",
    "X_tono = pd.DataFrame(data=[X_train.loc['g_1189'], X_train.loc['g_1190'], X_train.loc['g_1194'], X_train.loc['g_1196']])\n",
    "X_test = pd.concat([X_test, X_tono], axis=0)\n",
    "X_train = X_train.drop(['g_1189', 'g_1190', 'g_1194', 'g_1196'], axis=0)\n",
    "y_tono = pd.Series(data=[y_train.loc['g_1189'], y_train.loc['g_1190'], y_train.loc['g_1194'], y_train.loc['g_1196']],\n",
    "                      index=['g_1189', 'g_1190', 'g_1194', 'g_1196'])\n",
    "y_test = pd.concat([y_test, y_tono], axis=0)\n",
    "y_train = y_train.drop(['g_1189', 'g_1190', 'g_1194', 'g_1196'], axis=0)"
   ]
  },
  {
   "cell_type": "code",
   "execution_count": null,
   "metadata": {},
   "outputs": [],
   "source": [
    "N_train = X_train.shape[0]\n",
    "M = X_train.shape[1]\n",
    "Y_train = list(y_train.values)\n",
    "N_test = X_test.shape[0]\n",
    "X_test = list(X_test.values)\n",
    "\n",
    "data = dict(\n",
    "    N_train=N_train,\n",
    "    M=M,\n",
    "    X_train=X_train,\n",
    "    Y_train=Y_train,\n",
    "    N_test=N_test,\n",
    "    X_test=X_test,\n",
    ")"
   ]
  },
  {
   "cell_type": "code",
   "execution_count": null,
   "metadata": {},
   "outputs": [],
   "source": [
    "model = '''\n",
    "data {\n",
    "    int N_train;\n",
    "    int M;\n",
    "    matrix<lower=0>[N_train, M] X_train;\n",
    "    vector<lower=0>[N_train] Y_train;\n",
    "    int N_test;\n",
    "    matrix<lower=0>[N_test, M] X_test;\n",
    "}\n",
    "\n",
    "parameters {\n",
    "    real b0;\n",
    "    vector[M] b;\n",
    "    real<lower=0> s;\n",
    "    real<lower=0> s_b;\n",
    "}\n",
    "\n",
    "model {\n",
    "    b0 ~ double_exponential(0, s_b);\n",
    "    b ~ double_exponential(0, s_b);\n",
    "    s ~ normal(0, 5);\n",
    "    Y_train ~ normal(b0 + X_train*b, s);\n",
    "}\n",
    "\n",
    "generated quantities{\n",
    "#    vector<lower=0>[N_test] predict;\n",
    "    vector[N_test] predict;\n",
    "    for (i in 1:N_test)\n",
    "        predict[i] = normal_rng(b0 + X_test[i]*b, s);\n",
    "}\n",
    "'''"
   ]
  },
  {
   "cell_type": "code",
   "execution_count": null,
   "metadata": {},
   "outputs": [],
   "source": [
    "fit = pystan.stan(model_code=model, data=data, chains=3, iter=1000, warmup=200, thin=1)"
   ]
  },
  {
   "cell_type": "code",
   "execution_count": null,
   "metadata": {},
   "outputs": [],
   "source": [
    "fit"
   ]
  },
  {
   "cell_type": "code",
   "execution_count": null,
   "metadata": {},
   "outputs": [],
   "source": [
    "fit.extract()['predict'][0]"
   ]
  },
  {
   "cell_type": "code",
   "execution_count": null,
   "metadata": {},
   "outputs": [],
   "source": [
    "y_test"
   ]
  },
  {
   "cell_type": "code",
   "execution_count": null,
   "metadata": {},
   "outputs": [],
   "source": [
    "predict = fit.extract()['predict'][0]"
   ]
  },
  {
   "cell_type": "code",
   "execution_count": null,
   "metadata": {},
   "outputs": [],
   "source": [
    "fig, ax = plt.subplots()\n",
    "ax.scatter(predict, y_test, edgecolors=(0, 0, 0))\n",
    "ax.plot([predict.min(), predict.max()], [predict.min(), predict.max()], 'k--', lw=1)\n",
    "ax.set_xlabel('Predicted')\n",
    "ax.set_ylabel('Measured')\n",
    "plt.show()"
   ]
  },
  {
   "cell_type": "markdown",
   "metadata": {},
   "source": [
    "# 乗降客数"
   ]
  },
  {
   "cell_type": "code",
   "execution_count": null,
   "metadata": {},
   "outputs": [],
   "source": [
    "stations = pd.read_csv('input/stations_tokai3ken_edited.csv', index_col=0)"
   ]
  },
  {
   "cell_type": "code",
   "execution_count": null,
   "metadata": {},
   "outputs": [],
   "source": [
    "X = stations['乗降客数（日）']\n",
    "y = stations['飲食店事業所数']"
   ]
  },
  {
   "cell_type": "code",
   "execution_count": null,
   "metadata": {},
   "outputs": [],
   "source": [
    "#from sklearn import linear_model\n",
    "#clf = linear_model.LinearRegression()\n",
    "#clf.fit(X.values, y.values)\n",
    "\n",
    "# 散布図\n",
    "plt.scatter(X, y)\n",
    " \n",
    "# 回帰直線\n",
    "#plt.plot(X, clf.predict(X))"
   ]
  },
  {
   "cell_type": "code",
   "execution_count": null,
   "metadata": {},
   "outputs": [],
   "source": [
    "X = stations['乗降客数（日）']/stations['乗降客数（日）'].max()\n",
    "y = stations['飲食店事業所数']/stations['飲食店事業所数'].max()"
   ]
  },
  {
   "cell_type": "code",
   "execution_count": null,
   "metadata": {},
   "outputs": [],
   "source": [
    "plt.scatter(X, y)"
   ]
  },
  {
   "cell_type": "code",
   "execution_count": null,
   "metadata": {},
   "outputs": [],
   "source": [
    "from sklearn.model_selection import train_test_split\n",
    "X_train, X_test, y_train, y_test = train_test_split(X, y, random_state=42)"
   ]
  },
  {
   "cell_type": "code",
   "execution_count": null,
   "metadata": {},
   "outputs": [],
   "source": [
    "#多治見、土岐、(瑞浪、)恵那、中津川をtestに移動\n",
    "X_tono = pd.Series(data=[X_train.loc['g_1189'], X_train.loc['g_1190'], X_train.loc['g_1194'], X_train.loc['g_1196']],\n",
    "                      index=['g_1189', 'g_1190', 'g_1194', 'g_1196'])\n",
    "X_test = pd.concat([X_test, X_tono], axis=0)\n",
    "X_train = X_train.drop(['g_1189', 'g_1190', 'g_1194', 'g_1196'], axis=0)\n",
    "y_tono = pd.Series(data=[y_train.loc['g_1189'], y_train.loc['g_1190'], y_train.loc['g_1194'], y_train.loc['g_1196']],\n",
    "                      index=['g_1189', 'g_1190', 'g_1194', 'g_1196'])\n",
    "y_test = pd.concat([y_test, y_tono], axis=0)\n",
    "y_train = y_train.drop(['g_1189', 'g_1190', 'g_1194', 'g_1196'], axis=0)"
   ]
  },
  {
   "cell_type": "code",
   "execution_count": null,
   "metadata": {},
   "outputs": [],
   "source": [
    "N_train = X_train.shape[0]\n",
    "Y_train = list(y_train.values)\n",
    "N_test = X_test.shape[0]\n",
    "X_test = list(X_test.values)\n",
    "\n",
    "data = dict(\n",
    "    N_train=N_train,\n",
    "    X_train=X_train,\n",
    "    Y_train=Y_train,\n",
    "    N_test=N_test,\n",
    "    X_test=X_test,\n",
    ")"
   ]
  },
  {
   "cell_type": "code",
   "execution_count": null,
   "metadata": {},
   "outputs": [],
   "source": [
    "model = '''\n",
    "data {\n",
    "    int N_train;\n",
    "    vector<lower=0>[N_train] X_train;\n",
    "    vector<lower=0>[N_train] Y_train;\n",
    "    int N_test;\n",
    "    vector<lower=0>[N_test] X_test;\n",
    "}\n",
    "\n",
    "parameters {\n",
    "#    real<lower=0, upper=1> a;\n",
    "    real<lower=0> a;\n",
    "    real<lower=0> b;\n",
    "    real<lower=0> s;\n",
    "}\n",
    "\n",
    "model {\n",
    "    Y_train ~ normal(a + b*X_train, s);\n",
    "}\n",
    "\n",
    "generated quantities{\n",
    "#    vector<lower=0>[N_test] predict;\n",
    "    vector[N_test] predict;\n",
    "    for (i in 1:N_test)\n",
    "        predict[i] = normal_rng(a + b*X_test[i], s);\n",
    "}\n",
    "'''"
   ]
  },
  {
   "cell_type": "code",
   "execution_count": null,
   "metadata": {},
   "outputs": [],
   "source": [
    "fit = pystan.stan(model_code=model, data=data, chains=3, iter=1000, warmup=200, thin=1)"
   ]
  },
  {
   "cell_type": "code",
   "execution_count": null,
   "metadata": {},
   "outputs": [],
   "source": [
    "fit"
   ]
  },
  {
   "cell_type": "code",
   "execution_count": null,
   "metadata": {},
   "outputs": [],
   "source": [
    "#fit.extract()['predict'][0]"
   ]
  },
  {
   "cell_type": "code",
   "execution_count": null,
   "metadata": {},
   "outputs": [],
   "source": [
    "#y_test"
   ]
  },
  {
   "cell_type": "code",
   "execution_count": null,
   "metadata": {},
   "outputs": [],
   "source": [
    "predict = fit.extract()['predict'][0]"
   ]
  },
  {
   "cell_type": "code",
   "execution_count": null,
   "metadata": {},
   "outputs": [],
   "source": [
    "fig, ax = plt.subplots()\n",
    "ax.scatter(predict, y_test, edgecolors=(0, 0, 0))\n",
    "ax.plot([predict.min(), predict.max()], [predict.min(), predict.max()], 'k--', lw=1)\n",
    "#ax.plot([y_test.min(), y_test.max()], [y_test.min(), y_test.max()], 'k--', lw=1)\n",
    "ax.set_xlabel('Predicted')\n",
    "ax.set_ylabel('Measured')\n",
    "plt.show()"
   ]
  },
  {
   "cell_type": "code",
   "execution_count": null,
   "metadata": {},
   "outputs": [],
   "source": [
    "#predict = np.log1p(predict)\n",
    "#y_test = np.expm1(y_test)\n",
    "\n",
    "fig, ax = plt.subplots()\n",
    "ax.scatter(predict, y_test, edgecolors=(0, 0, 0))\n",
    "ax.plot([predict.min(), predict.max()], [predict.min(), predict.max()], 'k--', lw=1)\n",
    "#ax.plot([y_test.min(), y_test.max()], [y_test.min(), y_test.max()], 'k--', lw=1)\n",
    "ax.set_xlabel('Predicted')\n",
    "ax.set_ylabel('Measured')\n",
    "plt.show()"
   ]
  },
  {
   "cell_type": "markdown",
   "metadata": {},
   "source": [
    "normalじゃなくcauchyにしたら、a,sが収束しなかった\n",
    "\n",
    "X,yを0~1に正規化しないと、bが小さすぎて収束しなかった\n",
    "\n",
    "正規化してnormalでやれば、パラメータ収束したけど、精度めちゃくちゃ悪い"
   ]
  },
  {
   "cell_type": "code",
   "execution_count": null,
   "metadata": {},
   "outputs": [],
   "source": []
  }
 ],
 "metadata": {
  "kernelspec": {
   "display_name": "Python 3",
   "language": "python",
   "name": "python3"
  },
  "language_info": {
   "codemirror_mode": {
    "name": "ipython",
    "version": 3
   },
   "file_extension": ".py",
   "mimetype": "text/x-python",
   "name": "python",
   "nbconvert_exporter": "python",
   "pygments_lexer": "ipython3",
   "version": "3.6.4"
  }
 },
 "nbformat": 4,
 "nbformat_minor": 2
}
