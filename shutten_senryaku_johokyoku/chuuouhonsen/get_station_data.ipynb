{
 "cells": [
  {
   "cell_type": "code",
   "execution_count": null,
   "metadata": {},
   "outputs": [],
   "source": [
    "import pandas as pd\n",
    "import re\n",
    "import time"
   ]
  },
  {
   "cell_type": "code",
   "execution_count": null,
   "metadata": {},
   "outputs": [],
   "source": [
    "stations = {\n",
    "    'sakashita': 'area=4&pref=22&id=1198',\n",
    "    'ochiaigawa': 'area=4&pref=22&id=1197',\n",
    "    'nakatsugawa': 'area=4&pref=22&id=1196',\n",
    "    'minosakamoto': 'area=4&pref=22&id=1195',\n",
    "    'ena': 'area=4&pref=22&id=1194',\n",
    "    'takenami': 'area=4&pref=22&id=1193',\n",
    "    'kamado': 'area=4&pref=22&id=1192',\n",
    "    'mizunami': 'area=4&pref=22&id=1191',\n",
    "    'tokishi': 'area=4&pref=22&id=1190',\n",
    "    'tajimi': 'area=4&pref=22&id=1189',\n",
    "    'kokoke': 'area=4&pref=22&id=1188',\n",
    "    'jokoji': 'area=4&pref=24&id=41',\n",
    "    'kozoji': 'area=4&pref=24&id=40',\n",
    "    'jinryo': 'area=4&pref=24&id=39',\n",
    "    'kasugai': 'area=4&pref=24&id=38',\n",
    "    'kachigawa':'area=4&pref=24&id=37',\n",
    "    'shinmoriyama': 'area=4&pref=24&id=36',\n",
    "    'ozone': 'area=4&pref=24&id=35',\n",
    "    'chikusa': 'area=4&pref=24&id=34',\n",
    "    'tsurumai': 'area=4&pref=24&id=33',\n",
    "    'kanayama': 'area=4&pref=24&id=32',\n",
    "    'nagoya': 'area=4&pref=24&id=31'\n",
    "}"
   ]
  },
  {
   "cell_type": "code",
   "execution_count": null,
   "metadata": {},
   "outputs": [],
   "source": [
    "url = 'https://storestrategy.jp/?category=1&'+list(stations.values())[0]\n",
    "fetched_dataframe = pd.read_html(url)"
   ]
  },
  {
   "cell_type": "code",
   "execution_count": null,
   "metadata": {},
   "outputs": [],
   "source": [
    "fetched_dataframe[0]"
   ]
  },
  {
   "cell_type": "code",
   "execution_count": null,
   "metadata": {},
   "outputs": [],
   "source": [
    "inds = list(fetched_dataframe[0].iloc[1:, 0])\n",
    "cols = stations\n",
    "info = pd.DataFrame(index=inds, columns=cols)\n",
    "info_far = pd.DataFrame(index=inds, columns=cols)\n",
    "#info"
   ]
  },
  {
   "cell_type": "code",
   "execution_count": null,
   "metadata": {},
   "outputs": [],
   "source": [
    "for i in range(len(stations)):\n",
    "    if i in [0, 1, 2, 3, 4, 5, 6, 7, 8, 10, 11, 13, 16]:\n",
    "        url = 'https://storestrategy.jp/?category=1&'+list(stations.values())[i]\n",
    "        fetched_dataframe = pd.read_html(url)\n",
    "        station = fetched_dataframe[0]\n",
    "        info.iloc[:, i] = station.iloc[1:, 1].values\n",
    "        info_far.iloc[0, i] = station.iloc[1, 1]\n",
    "        info_far.iloc[1:, i] = station.iloc[2:, 3].values\n",
    "        time.sleep(5)\n",
    "    else:\n",
    "        url = 'https://storestrategy.jp/?category=1&'+list(stations.values())[i]\n",
    "        fetched_dataframe = pd.read_html(url)\n",
    "        station = fetched_dataframe[0]\n",
    "        info.iloc[:, i] = station.iloc[2:, 1].values\n",
    "        info_far.iloc[0, i] = station.iloc[2, 1]\n",
    "        info_far.iloc[1:, i] = station.iloc[3:, 3].values\n",
    "        time.sleep(5)"
   ]
  },
  {
   "cell_type": "code",
   "execution_count": null,
   "metadata": {},
   "outputs": [],
   "source": [
    "info.to_csv('input/station_data500m.csv')\n",
    "info_far.to_csv('input/station_data2km.csv')"
   ]
  },
  {
   "cell_type": "code",
   "execution_count": null,
   "metadata": {},
   "outputs": [],
   "source": []
  }
 ],
 "metadata": {
  "kernelspec": {
   "display_name": "Python 3",
   "language": "python",
   "name": "python3"
  },
  "language_info": {
   "codemirror_mode": {
    "name": "ipython",
    "version": 3
   },
   "file_extension": ".py",
   "mimetype": "text/x-python",
   "name": "python",
   "nbconvert_exporter": "python",
   "pygments_lexer": "ipython3",
   "version": "3.6.4"
  }
 },
 "nbformat": 4,
 "nbformat_minor": 2
}
